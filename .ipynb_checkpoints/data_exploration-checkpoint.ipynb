{
 "cells": [
  {
   "cell_type": "markdown",
   "id": "fa44d318",
   "metadata": {},
   "source": [
    "# Importing all important Libraries"
   ]
  },
  {
   "cell_type": "code",
   "execution_count": 2,
   "id": "26722373",
   "metadata": {},
   "outputs": [],
   "source": [
    "import pandas as pd\n",
    "import numpy as np\n",
    "import os\n",
    "import json"
   ]
  },
  {
   "cell_type": "markdown",
   "id": "22ddc340",
   "metadata": {},
   "source": [
    "# Merging all the required file in one file "
   ]
  },
  {
   "cell_type": "code",
   "execution_count": 3,
   "id": "cb727ccf",
   "metadata": {},
   "outputs": [
    {
     "data": {
      "text/html": [
       "<div>\n",
       "<style scoped>\n",
       "    .dataframe tbody tr th:only-of-type {\n",
       "        vertical-align: middle;\n",
       "    }\n",
       "\n",
       "    .dataframe tbody tr th {\n",
       "        vertical-align: top;\n",
       "    }\n",
       "\n",
       "    .dataframe thead th {\n",
       "        text-align: right;\n",
       "    }\n",
       "</style>\n",
       "<table border=\"1\" class=\"dataframe\">\n",
       "  <thead>\n",
       "    <tr style=\"text-align: right;\">\n",
       "      <th></th>\n",
       "      <th>repo</th>\n",
       "      <th>path</th>\n",
       "      <th>func_name</th>\n",
       "      <th>original_string</th>\n",
       "      <th>language</th>\n",
       "      <th>code</th>\n",
       "      <th>code_tokens</th>\n",
       "      <th>docstring</th>\n",
       "      <th>docstring_tokens</th>\n",
       "      <th>sha</th>\n",
       "      <th>url</th>\n",
       "      <th>partition</th>\n",
       "    </tr>\n",
       "  </thead>\n",
       "  <tbody>\n",
       "    <tr>\n",
       "      <th>0</th>\n",
       "      <td>saltstack/salt</td>\n",
       "      <td>salt/transport/zeromq.py</td>\n",
       "      <td>ZeroMQReqServerChannel.zmq_device</td>\n",
       "      <td>def zmq_device(self):\\n        '''\\n        Mu...</td>\n",
       "      <td>python</td>\n",
       "      <td>def zmq_device(self):\\n        '''\\n        Mu...</td>\n",
       "      <td>[def, zmq_device, (, self, ), :, self, ., __se...</td>\n",
       "      <td>Multiprocessing target for the zmq queue device</td>\n",
       "      <td>[Multiprocessing, target, for, the, zmq, queue...</td>\n",
       "      <td>e8541fd6e744ab0df786c0f76102e41631f45d46</td>\n",
       "      <td>https://github.com/saltstack/salt/blob/e8541fd...</td>\n",
       "      <td>train</td>\n",
       "    </tr>\n",
       "    <tr>\n",
       "      <th>1</th>\n",
       "      <td>saltstack/salt</td>\n",
       "      <td>salt/transport/zeromq.py</td>\n",
       "      <td>ZeroMQReqServerChannel.close</td>\n",
       "      <td>def close(self):\\n        '''\\n        Cleanly...</td>\n",
       "      <td>python</td>\n",
       "      <td>def close(self):\\n        '''\\n        Cleanly...</td>\n",
       "      <td>[def, close, (, self, ), :, if, self, ., _clos...</td>\n",
       "      <td>Cleanly shutdown the router socket</td>\n",
       "      <td>[Cleanly, shutdown, the, router, socket]</td>\n",
       "      <td>e8541fd6e744ab0df786c0f76102e41631f45d46</td>\n",
       "      <td>https://github.com/saltstack/salt/blob/e8541fd...</td>\n",
       "      <td>train</td>\n",
       "    </tr>\n",
       "    <tr>\n",
       "      <th>2</th>\n",
       "      <td>saltstack/salt</td>\n",
       "      <td>salt/transport/zeromq.py</td>\n",
       "      <td>ZeroMQReqServerChannel.pre_fork</td>\n",
       "      <td>def pre_fork(self, process_manager):\\n        ...</td>\n",
       "      <td>python</td>\n",
       "      <td>def pre_fork(self, process_manager):\\n        ...</td>\n",
       "      <td>[def, pre_fork, (, self, ,, process_manager, )...</td>\n",
       "      <td>Pre-fork we need to create the zmq router devi...</td>\n",
       "      <td>[Pre, -, fork, we, need, to, create, the, zmq,...</td>\n",
       "      <td>e8541fd6e744ab0df786c0f76102e41631f45d46</td>\n",
       "      <td>https://github.com/saltstack/salt/blob/e8541fd...</td>\n",
       "      <td>train</td>\n",
       "    </tr>\n",
       "    <tr>\n",
       "      <th>3</th>\n",
       "      <td>saltstack/salt</td>\n",
       "      <td>salt/transport/zeromq.py</td>\n",
       "      <td>ZeroMQReqServerChannel._start_zmq_monitor</td>\n",
       "      <td>def _start_zmq_monitor(self):\\n        '''\\n  ...</td>\n",
       "      <td>python</td>\n",
       "      <td>def _start_zmq_monitor(self):\\n        '''\\n  ...</td>\n",
       "      <td>[def, _start_zmq_monitor, (, self, ), :, # Soc...</td>\n",
       "      <td>Starts ZMQ monitor for debugging purposes.\\n  ...</td>\n",
       "      <td>[Starts, ZMQ, monitor, for, debugging, purpose...</td>\n",
       "      <td>e8541fd6e744ab0df786c0f76102e41631f45d46</td>\n",
       "      <td>https://github.com/saltstack/salt/blob/e8541fd...</td>\n",
       "      <td>train</td>\n",
       "    </tr>\n",
       "    <tr>\n",
       "      <th>4</th>\n",
       "      <td>saltstack/salt</td>\n",
       "      <td>salt/transport/zeromq.py</td>\n",
       "      <td>ZeroMQReqServerChannel.post_fork</td>\n",
       "      <td>def post_fork(self, payload_handler, io_loop):...</td>\n",
       "      <td>python</td>\n",
       "      <td>def post_fork(self, payload_handler, io_loop):...</td>\n",
       "      <td>[def, post_fork, (, self, ,, payload_handler, ...</td>\n",
       "      <td>After forking we need to create all of the loc...</td>\n",
       "      <td>[After, forking, we, need, to, create, all, of...</td>\n",
       "      <td>e8541fd6e744ab0df786c0f76102e41631f45d46</td>\n",
       "      <td>https://github.com/saltstack/salt/blob/e8541fd...</td>\n",
       "      <td>train</td>\n",
       "    </tr>\n",
       "  </tbody>\n",
       "</table>\n",
       "</div>"
      ],
      "text/plain": [
       "             repo                      path  \\\n",
       "0  saltstack/salt  salt/transport/zeromq.py   \n",
       "1  saltstack/salt  salt/transport/zeromq.py   \n",
       "2  saltstack/salt  salt/transport/zeromq.py   \n",
       "3  saltstack/salt  salt/transport/zeromq.py   \n",
       "4  saltstack/salt  salt/transport/zeromq.py   \n",
       "\n",
       "                                   func_name  \\\n",
       "0          ZeroMQReqServerChannel.zmq_device   \n",
       "1               ZeroMQReqServerChannel.close   \n",
       "2            ZeroMQReqServerChannel.pre_fork   \n",
       "3  ZeroMQReqServerChannel._start_zmq_monitor   \n",
       "4           ZeroMQReqServerChannel.post_fork   \n",
       "\n",
       "                                     original_string language  \\\n",
       "0  def zmq_device(self):\\n        '''\\n        Mu...   python   \n",
       "1  def close(self):\\n        '''\\n        Cleanly...   python   \n",
       "2  def pre_fork(self, process_manager):\\n        ...   python   \n",
       "3  def _start_zmq_monitor(self):\\n        '''\\n  ...   python   \n",
       "4  def post_fork(self, payload_handler, io_loop):...   python   \n",
       "\n",
       "                                                code  \\\n",
       "0  def zmq_device(self):\\n        '''\\n        Mu...   \n",
       "1  def close(self):\\n        '''\\n        Cleanly...   \n",
       "2  def pre_fork(self, process_manager):\\n        ...   \n",
       "3  def _start_zmq_monitor(self):\\n        '''\\n  ...   \n",
       "4  def post_fork(self, payload_handler, io_loop):...   \n",
       "\n",
       "                                         code_tokens  \\\n",
       "0  [def, zmq_device, (, self, ), :, self, ., __se...   \n",
       "1  [def, close, (, self, ), :, if, self, ., _clos...   \n",
       "2  [def, pre_fork, (, self, ,, process_manager, )...   \n",
       "3  [def, _start_zmq_monitor, (, self, ), :, # Soc...   \n",
       "4  [def, post_fork, (, self, ,, payload_handler, ...   \n",
       "\n",
       "                                           docstring  \\\n",
       "0    Multiprocessing target for the zmq queue device   \n",
       "1                 Cleanly shutdown the router socket   \n",
       "2  Pre-fork we need to create the zmq router devi...   \n",
       "3  Starts ZMQ monitor for debugging purposes.\\n  ...   \n",
       "4  After forking we need to create all of the loc...   \n",
       "\n",
       "                                    docstring_tokens  \\\n",
       "0  [Multiprocessing, target, for, the, zmq, queue...   \n",
       "1           [Cleanly, shutdown, the, router, socket]   \n",
       "2  [Pre, -, fork, we, need, to, create, the, zmq,...   \n",
       "3  [Starts, ZMQ, monitor, for, debugging, purpose...   \n",
       "4  [After, forking, we, need, to, create, all, of...   \n",
       "\n",
       "                                        sha  \\\n",
       "0  e8541fd6e744ab0df786c0f76102e41631f45d46   \n",
       "1  e8541fd6e744ab0df786c0f76102e41631f45d46   \n",
       "2  e8541fd6e744ab0df786c0f76102e41631f45d46   \n",
       "3  e8541fd6e744ab0df786c0f76102e41631f45d46   \n",
       "4  e8541fd6e744ab0df786c0f76102e41631f45d46   \n",
       "\n",
       "                                                 url partition  \n",
       "0  https://github.com/saltstack/salt/blob/e8541fd...     train  \n",
       "1  https://github.com/saltstack/salt/blob/e8541fd...     train  \n",
       "2  https://github.com/saltstack/salt/blob/e8541fd...     train  \n",
       "3  https://github.com/saltstack/salt/blob/e8541fd...     train  \n",
       "4  https://github.com/saltstack/salt/blob/e8541fd...     train  "
      ]
     },
     "execution_count": 3,
     "metadata": {},
     "output_type": "execute_result"
    }
   ],
   "source": [
    "# Directory where all train JSONL files are located\n",
    "folder = 'train_file'\n",
    "\n",
    "# os is the Python module for interacting with the operating system and making list of all file.\n",
    "all_files = [file for file in os.listdir(folder) if file.endswith('.jsonl')]\n",
    "\n",
    "# Create an empty DataFrame to store the merged data\n",
    "data= pd.DataFrame()\n",
    "\n",
    "# Loop through the files, read each file into a DataFrame, and concatenate it\n",
    "for file in all_files:\n",
    "    file_path = os.path.join(folder, file)\n",
    "    df = pd.read_json(file_path, lines=True)\n",
    "    data = pd.concat([data, df], ignore_index=True)\n",
    "\n",
    "# Display the first few rows of the merged DataFrame\n",
    "data.head()"
   ]
  },
  {
   "cell_type": "markdown",
   "id": "32e971ca",
   "metadata": {},
   "source": [
    "## Shape of data\n"
   ]
  },
  {
   "cell_type": "code",
   "execution_count": 4,
   "id": "ce3e1e49",
   "metadata": {},
   "outputs": [
    {
     "data": {
      "text/plain": [
       "(150000, 12)"
      ]
     },
     "execution_count": 4,
     "metadata": {},
     "output_type": "execute_result"
    }
   ],
   "source": [
    "data.shape"
   ]
  },
  {
   "cell_type": "markdown",
   "id": "2d6d0eb0",
   "metadata": {},
   "source": [
    "## Sample from data"
   ]
  },
  {
   "cell_type": "code",
   "execution_count": 5,
   "id": "2f9b109e",
   "metadata": {},
   "outputs": [
    {
     "data": {
      "text/html": [
       "<div>\n",
       "<style scoped>\n",
       "    .dataframe tbody tr th:only-of-type {\n",
       "        vertical-align: middle;\n",
       "    }\n",
       "\n",
       "    .dataframe tbody tr th {\n",
       "        vertical-align: top;\n",
       "    }\n",
       "\n",
       "    .dataframe thead th {\n",
       "        text-align: right;\n",
       "    }\n",
       "</style>\n",
       "<table border=\"1\" class=\"dataframe\">\n",
       "  <thead>\n",
       "    <tr style=\"text-align: right;\">\n",
       "      <th></th>\n",
       "      <th>repo</th>\n",
       "      <th>path</th>\n",
       "      <th>func_name</th>\n",
       "      <th>original_string</th>\n",
       "      <th>language</th>\n",
       "      <th>code</th>\n",
       "      <th>code_tokens</th>\n",
       "      <th>docstring</th>\n",
       "      <th>docstring_tokens</th>\n",
       "      <th>sha</th>\n",
       "      <th>url</th>\n",
       "      <th>partition</th>\n",
       "    </tr>\n",
       "  </thead>\n",
       "  <tbody>\n",
       "    <tr>\n",
       "      <th>104749</th>\n",
       "      <td>wal-e/wal-e</td>\n",
       "      <td>wal_e/piper.py</td>\n",
       "      <td>pipe</td>\n",
       "      <td>def pipe(*args):\\n    \"\"\"\\n    Takes as parame...</td>\n",
       "      <td>python</td>\n",
       "      <td>def pipe(*args):\\n    \"\"\"\\n    Takes as parame...</td>\n",
       "      <td>[def, pipe, (, *, args, ), :, if, len, (, args...</td>\n",
       "      <td>Takes as parameters several dicts, each with t...</td>\n",
       "      <td>[Takes, as, parameters, several, dicts, each, ...</td>\n",
       "      <td>027263860e72a403bc0e1497bb3e67523138e7a2</td>\n",
       "      <td>https://github.com/wal-e/wal-e/blob/027263860e...</td>\n",
       "      <td>train</td>\n",
       "    </tr>\n",
       "    <tr>\n",
       "      <th>76235</th>\n",
       "      <td>heitzmann/gdspy</td>\n",
       "      <td>gdspy/__init__.py</td>\n",
       "      <td>GdsLibrary.top_level</td>\n",
       "      <td>def top_level(self):\\n        \"\"\"\\n        Out...</td>\n",
       "      <td>python</td>\n",
       "      <td>def top_level(self):\\n        \"\"\"\\n        Out...</td>\n",
       "      <td>[def, top_level, (, self, ), :, top, =, list, ...</td>\n",
       "      <td>Output the top level cells from the GDSII data...</td>\n",
       "      <td>[Output, the, top, level, cells, from, the, GD...</td>\n",
       "      <td>2c8d1313248c544e2066d19095b7ad7158c79bc9</td>\n",
       "      <td>https://github.com/heitzmann/gdspy/blob/2c8d13...</td>\n",
       "      <td>train</td>\n",
       "    </tr>\n",
       "    <tr>\n",
       "      <th>14236</th>\n",
       "      <td>mlperf/training</td>\n",
       "      <td>object_detection/pytorch/maskrcnn_benchmark/ut...</td>\n",
       "      <td>synchronize</td>\n",
       "      <td>def synchronize():\\n    \"\"\"\\n    Helper functi...</td>\n",
       "      <td>python</td>\n",
       "      <td>def synchronize():\\n    \"\"\"\\n    Helper functi...</td>\n",
       "      <td>[def, synchronize, (, ), :, if, not, dist, ., ...</td>\n",
       "      <td>Helper function to synchronize (barrier) among...</td>\n",
       "      <td>[Helper, function, to, synchronize, (, barrier...</td>\n",
       "      <td>1c6ae725a81d15437a2b2df05cac0673fde5c3a4</td>\n",
       "      <td>https://github.com/mlperf/training/blob/1c6ae7...</td>\n",
       "      <td>train</td>\n",
       "    </tr>\n",
       "    <tr>\n",
       "      <th>97421</th>\n",
       "      <td>bcbio/bcbio-nextgen</td>\n",
       "      <td>bcbio/pipeline/run_info.py</td>\n",
       "      <td>_get_data_versions</td>\n",
       "      <td>def _get_data_versions(data):\\n    \"\"\"Retrieve...</td>\n",
       "      <td>python</td>\n",
       "      <td>def _get_data_versions(data):\\n    \"\"\"Retrieve...</td>\n",
       "      <td>[def, _get_data_versions, (, data, ), :, genom...</td>\n",
       "      <td>Retrieve CSV file with version information for...</td>\n",
       "      <td>[Retrieve, CSV, file, with, version, informati...</td>\n",
       "      <td>6a9348c0054ccd5baffd22f1bb7d0422f6978b20</td>\n",
       "      <td>https://github.com/bcbio/bcbio-nextgen/blob/6a...</td>\n",
       "      <td>train</td>\n",
       "    </tr>\n",
       "    <tr>\n",
       "      <th>34825</th>\n",
       "      <td>senaite/senaite.core</td>\n",
       "      <td>bika/lims/browser/fields/historyawarereference...</td>\n",
       "      <td>HistoryAwareReferenceField.retrieve_version</td>\n",
       "      <td>def retrieve_version(self, obj, version):\\n   ...</td>\n",
       "      <td>python</td>\n",
       "      <td>def retrieve_version(self, obj, version):\\n   ...</td>\n",
       "      <td>[def, retrieve_version, (, self, ,, obj, ,, ve...</td>\n",
       "      <td>Retrieve the version of the object</td>\n",
       "      <td>[Retrieve, the, version, of, the, object]</td>\n",
       "      <td>7602ce2ea2f9e81eb34e20ce17b98a3e70713f85</td>\n",
       "      <td>https://github.com/senaite/senaite.core/blob/7...</td>\n",
       "      <td>train</td>\n",
       "    </tr>\n",
       "  </tbody>\n",
       "</table>\n",
       "</div>"
      ],
      "text/plain": [
       "                        repo  \\\n",
       "104749           wal-e/wal-e   \n",
       "76235        heitzmann/gdspy   \n",
       "14236        mlperf/training   \n",
       "97421    bcbio/bcbio-nextgen   \n",
       "34825   senaite/senaite.core   \n",
       "\n",
       "                                                     path  \\\n",
       "104749                                     wal_e/piper.py   \n",
       "76235                                   gdspy/__init__.py   \n",
       "14236   object_detection/pytorch/maskrcnn_benchmark/ut...   \n",
       "97421                          bcbio/pipeline/run_info.py   \n",
       "34825   bika/lims/browser/fields/historyawarereference...   \n",
       "\n",
       "                                          func_name  \\\n",
       "104749                                         pipe   \n",
       "76235                          GdsLibrary.top_level   \n",
       "14236                                   synchronize   \n",
       "97421                            _get_data_versions   \n",
       "34825   HistoryAwareReferenceField.retrieve_version   \n",
       "\n",
       "                                          original_string language  \\\n",
       "104749  def pipe(*args):\\n    \"\"\"\\n    Takes as parame...   python   \n",
       "76235   def top_level(self):\\n        \"\"\"\\n        Out...   python   \n",
       "14236   def synchronize():\\n    \"\"\"\\n    Helper functi...   python   \n",
       "97421   def _get_data_versions(data):\\n    \"\"\"Retrieve...   python   \n",
       "34825   def retrieve_version(self, obj, version):\\n   ...   python   \n",
       "\n",
       "                                                     code  \\\n",
       "104749  def pipe(*args):\\n    \"\"\"\\n    Takes as parame...   \n",
       "76235   def top_level(self):\\n        \"\"\"\\n        Out...   \n",
       "14236   def synchronize():\\n    \"\"\"\\n    Helper functi...   \n",
       "97421   def _get_data_versions(data):\\n    \"\"\"Retrieve...   \n",
       "34825   def retrieve_version(self, obj, version):\\n   ...   \n",
       "\n",
       "                                              code_tokens  \\\n",
       "104749  [def, pipe, (, *, args, ), :, if, len, (, args...   \n",
       "76235   [def, top_level, (, self, ), :, top, =, list, ...   \n",
       "14236   [def, synchronize, (, ), :, if, not, dist, ., ...   \n",
       "97421   [def, _get_data_versions, (, data, ), :, genom...   \n",
       "34825   [def, retrieve_version, (, self, ,, obj, ,, ve...   \n",
       "\n",
       "                                                docstring  \\\n",
       "104749  Takes as parameters several dicts, each with t...   \n",
       "76235   Output the top level cells from the GDSII data...   \n",
       "14236   Helper function to synchronize (barrier) among...   \n",
       "97421   Retrieve CSV file with version information for...   \n",
       "34825                  Retrieve the version of the object   \n",
       "\n",
       "                                         docstring_tokens  \\\n",
       "104749  [Takes, as, parameters, several, dicts, each, ...   \n",
       "76235   [Output, the, top, level, cells, from, the, GD...   \n",
       "14236   [Helper, function, to, synchronize, (, barrier...   \n",
       "97421   [Retrieve, CSV, file, with, version, informati...   \n",
       "34825           [Retrieve, the, version, of, the, object]   \n",
       "\n",
       "                                             sha  \\\n",
       "104749  027263860e72a403bc0e1497bb3e67523138e7a2   \n",
       "76235   2c8d1313248c544e2066d19095b7ad7158c79bc9   \n",
       "14236   1c6ae725a81d15437a2b2df05cac0673fde5c3a4   \n",
       "97421   6a9348c0054ccd5baffd22f1bb7d0422f6978b20   \n",
       "34825   7602ce2ea2f9e81eb34e20ce17b98a3e70713f85   \n",
       "\n",
       "                                                      url partition  \n",
       "104749  https://github.com/wal-e/wal-e/blob/027263860e...     train  \n",
       "76235   https://github.com/heitzmann/gdspy/blob/2c8d13...     train  \n",
       "14236   https://github.com/mlperf/training/blob/1c6ae7...     train  \n",
       "97421   https://github.com/bcbio/bcbio-nextgen/blob/6a...     train  \n",
       "34825   https://github.com/senaite/senaite.core/blob/7...     train  "
      ]
     },
     "execution_count": 5,
     "metadata": {},
     "output_type": "execute_result"
    }
   ],
   "source": [
    "data.sample(5)"
   ]
  },
  {
   "cell_type": "markdown",
   "id": "3c8f5259",
   "metadata": {},
   "source": [
    "## checking if any null is present "
   ]
  },
  {
   "cell_type": "code",
   "execution_count": 6,
   "id": "3a618b86",
   "metadata": {},
   "outputs": [
    {
     "data": {
      "text/plain": [
       "repo                0\n",
       "path                0\n",
       "func_name           0\n",
       "original_string     0\n",
       "language            0\n",
       "code                0\n",
       "code_tokens         0\n",
       "docstring           0\n",
       "docstring_tokens    0\n",
       "sha                 0\n",
       "url                 0\n",
       "partition           0\n",
       "dtype: int64"
      ]
     },
     "execution_count": 6,
     "metadata": {},
     "output_type": "execute_result"
    }
   ],
   "source": [
    "data.isnull().sum()\n",
    "\n",
    "# No null value is presesent in any column"
   ]
  },
  {
   "cell_type": "markdown",
   "id": "089f35d4",
   "metadata": {},
   "source": [
    "## Comparing orginal_string and code column if they are same or not"
   ]
  },
  {
   "cell_type": "code",
   "execution_count": 7,
   "id": "54a078cd",
   "metadata": {},
   "outputs": [
    {
     "data": {
      "text/plain": [
       "True"
      ]
     },
     "execution_count": 7,
     "metadata": {},
     "output_type": "execute_result"
    }
   ],
   "source": [
    "(data['original_string'] == data['code']).all()\n",
    "\n",
    "# original_string and code column are same"
   ]
  },
  {
   "cell_type": "markdown",
   "id": "01362e81",
   "metadata": {},
   "source": [
    "## Value counts present in Func_name column "
   ]
  },
  {
   "cell_type": "code",
   "execution_count": 8,
   "id": "6c306c4e",
   "metadata": {},
   "outputs": [
    {
     "data": {
      "text/plain": [
       "url\n",
       "https://github.com/saltstack/salt/blob/e8541fd6e744ab0df786c0f76102e41631f45d46/salt/transport/zeromq.py#L582-L622                           1\n",
       "https://github.com/RedHatInsights/insights-core/blob/b57cbf8ed7c089672426ede0441e0a4f789ef4a1/insights/client/__init__.py#L269-L316          1\n",
       "https://github.com/RedHatInsights/insights-core/blob/b57cbf8ed7c089672426ede0441e0a4f789ef4a1/insights/parsers/rhn_schema_stats.py#L6-L20    1\n",
       "https://github.com/RedHatInsights/insights-core/blob/b57cbf8ed7c089672426ede0441e0a4f789ef4a1/insights/core/archives.py#L96-L118             1\n",
       "https://github.com/RedHatInsights/insights-core/blob/b57cbf8ed7c089672426ede0441e0a4f789ef4a1/examples/rules/sample_script.py#L24-L30        1\n",
       "                                                                                                                                            ..\n",
       "https://github.com/bpsmith/tia/blob/a7043b6383e557aeea8fc7112bbffd6e36a230e9/tia/bbg/bbg_com.py#L259-L265                                    1\n",
       "https://github.com/bpsmith/tia/blob/a7043b6383e557aeea8fc7112bbffd6e36a230e9/tia/bbg/bbg_com.py#L320-L333                                    1\n",
       "https://github.com/bpsmith/tia/blob/a7043b6383e557aeea8fc7112bbffd6e36a230e9/tia/bbg/bbg_com.py#L336-L342                                    1\n",
       "https://github.com/bpsmith/tia/blob/a7043b6383e557aeea8fc7112bbffd6e36a230e9/tia/bbg/bbg_com.py#L406-L417                                    1\n",
       "https://github.com/saltstack/salt/blob/e8541fd6e744ab0df786c0f76102e41631f45d46/salt/transport/zeromq.py#L558-L572                           1\n",
       "Name: count, Length: 150000, dtype: int64"
      ]
     },
     "execution_count": 8,
     "metadata": {},
     "output_type": "execute_result"
    }
   ],
   "source": [
    "data['url'].value_counts()\n",
    "\n",
    "# all values are unique in url column"
   ]
  },
  {
   "cell_type": "markdown",
   "id": "300b16fe",
   "metadata": {},
   "source": [
    "## Value counts present in partition column\n"
   ]
  },
  {
   "cell_type": "code",
   "execution_count": 9,
   "id": "7b8cecc5",
   "metadata": {},
   "outputs": [
    {
     "data": {
      "text/plain": [
       "partition\n",
       "train    150000\n",
       "Name: count, dtype: int64"
      ]
     },
     "execution_count": 9,
     "metadata": {},
     "output_type": "execute_result"
    }
   ],
   "source": [
    "data['partition'].value_counts()\n",
    "\n",
    "# all value in partition column is same"
   ]
  },
  {
   "cell_type": "markdown",
   "id": "805e89d7",
   "metadata": {},
   "source": [
    "## Value counts present in Func_name column"
   ]
  },
  {
   "cell_type": "code",
   "execution_count": 10,
   "id": "1130d2b7",
   "metadata": {},
   "outputs": [
    {
     "data": {
      "text/plain": [
       "func_name\n",
       "main                             357\n",
       "create                           190\n",
       "run                              143\n",
       "present                          125\n",
       "absent                            97\n",
       "                                ... \n",
       "Port.enable_reporting              1\n",
       "Board._handle_digital_message      1\n",
       "Board.exit                         1\n",
       "Board.servo_config                 1\n",
       "AsyncZeroMQPubChannel.on_recv      1\n",
       "Name: count, Length: 137184, dtype: int64"
      ]
     },
     "execution_count": 10,
     "metadata": {},
     "output_type": "execute_result"
    }
   ],
   "source": [
    "data['func_name'].value_counts()"
   ]
  },
  {
   "cell_type": "markdown",
   "id": "b2d1ba73",
   "metadata": {},
   "source": [
    "## Making the dataset with the useful Columns only"
   ]
  },
  {
   "cell_type": "code",
   "execution_count": 11,
   "id": "e7449288",
   "metadata": {},
   "outputs": [],
   "source": [
    "# useful columns for our process is only docstring and code\n",
    "data=data[['docstring','code']]\n"
   ]
  },
  {
   "cell_type": "markdown",
   "id": "d73e43e1",
   "metadata": {},
   "source": [
    "# Saving the data as interim data in local folder"
   ]
  },
  {
   "cell_type": "code",
   "execution_count": 12,
   "id": "6338684e",
   "metadata": {},
   "outputs": [],
   "source": [
    "data.to_csv('interim_data.csv', index=False)"
   ]
  }
 ],
 "metadata": {
  "kernelspec": {
   "display_name": "Python 3 (ipykernel)",
   "language": "python",
   "name": "python3"
  },
  "language_info": {
   "codemirror_mode": {
    "name": "ipython",
    "version": 3
   },
   "file_extension": ".py",
   "mimetype": "text/x-python",
   "name": "python",
   "nbconvert_exporter": "python",
   "pygments_lexer": "ipython3",
   "version": "3.11.5"
  }
 },
 "nbformat": 4,
 "nbformat_minor": 5
}
