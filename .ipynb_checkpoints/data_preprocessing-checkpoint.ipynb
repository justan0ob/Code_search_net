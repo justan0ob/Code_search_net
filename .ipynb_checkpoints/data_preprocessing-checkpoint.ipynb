{
 "cells": [
  {
   "cell_type": "markdown",
   "id": "e855a036",
   "metadata": {},
   "source": [
    "# Importing all necessary libraries"
   ]
  },
  {
   "cell_type": "code",
   "execution_count": null,
   "id": "d84f7a05",
   "metadata": {},
   "outputs": [],
   "source": [
    "import nltk\n",
    "import re\n",
    "\n",
    "from nltk.corpus import stopwords\n",
    "from torch.nn.functional import softmax\n",
    "from nltk.tokenize import word_tokenize\n",
    "from nltk.stem import WordNetLemmatizer"
   ]
  },
  {
   "cell_type": "markdown",
   "id": "929c3366",
   "metadata": {},
   "source": [
    "# Function for preprocessing the data "
   ]
  },
  {
   "cell_type": "code",
   "execution_count": null,
   "id": "e6665445",
   "metadata": {},
   "outputs": [],
   "source": [
    "# Define preprocessing function\n",
    "def preprocessing_text(text):\n",
    "    \n",
    "    # Make Lower case all character in text\n",
    "    text = text.lower()   \n",
    "    \n",
    "    # Removes non alphanumeric and spaces\n",
    "    text = re.sub(r'[^\\w\\s]', ' ', text)                             \n",
    "    \n",
    "    # Tokenizing words\n",
    "    tokens = word_tokenize(text)\n",
    "    \n",
    "     # Obtaining stop words like ‘a’, ‘the’ etc.\n",
    "    stop_words = set(stopwords.words('english')) \n",
    "    \n",
    "    # Removing stop words lie (a, the, is)\n",
    "    tokens = [word for word in tokens if word not in stop_words]    \n",
    "    \n",
    "    # Obtaining base of words like ‘happy’ and not ‘happiest’\n",
    "    lemmatizer = WordNetLemmatizer()\n",
    "    \n",
    "    # lemmatizing each word.\n",
    "    tokens = [lemmatizer.lemmatize(word) for word in tokens]        \n",
    "    \n",
    "    # Joining and returning\n",
    "    preprocessed_text = ' '.join(tokens)                            \n",
    "    \n",
    "    return preprocessed_text\n",
    "\n"
   ]
  },
  {
   "cell_type": "code",
   "execution_count": null,
   "id": "db11cce6",
   "metadata": {},
   "outputs": [],
   "source": [
    "# applying preprocessing on docstring\n",
    "data['tokenized_docstring']=data['docstring'].apply(preprocessing_text)\n",
    "\n",
    "# applying preprocessing on code\n",
    "data['tokenized_code']=data['code'].apply(preprocessing_text)"
   ]
  },
  {
   "cell_type": "code",
   "execution_count": null,
   "id": "2fdc732c",
   "metadata": {},
   "outputs": [],
   "source": [
    "data.head()"
   ]
  },
  {
   "cell_type": "markdown",
   "id": "917cdfd4",
   "metadata": {},
   "source": [
    "# Function for checking the language of the text"
   ]
  },
  {
   "cell_type": "code",
   "execution_count": null,
   "id": "79c7678a",
   "metadata": {},
   "outputs": [],
   "source": [
    "\n",
    "def detect_language(text):\n",
    "    \n",
    "    try:\n",
    "        lang = detect(text)\n",
    "        \n",
    "        return lang\n",
    "    \n",
    "    except:\n",
    "        \n",
    "        return None\n",
    "    \n"
   ]
  },
  {
   "cell_type": "markdown",
   "id": "c32292f8",
   "metadata": {},
   "source": [
    "# Removing all rows whose language is not english"
   ]
  },
  {
   "cell_type": "code",
   "execution_count": null,
   "id": "702092af",
   "metadata": {},
   "outputs": [],
   "source": [
    "# Apply language detection to each text entry in the DataFrame\n",
    "data['language'] = data['tokenized_docstring'].apply(detect_language)\n",
    "\n",
    "# Filter out non-English entries\n",
    "data = data[data['language'] == 'en'].reset_index(drop=True)\n",
    "\n",
    "# Drop the language column as it’s no longer needed\n",
    "data.drop(columns=['language'], inplace=True)"
   ]
  },
  {
   "cell_type": "markdown",
   "id": "d95f665c",
   "metadata": {},
   "source": [
    "# Removing  all rows whose tokenized docstring has length less than 4"
   ]
  },
  {
   "cell_type": "code",
   "execution_count": null,
   "id": "35d9d45e",
   "metadata": {},
   "outputs": [],
   "source": [
    "data = data[data['tokenized_docstring'].apply(lambda x: len(x.split()) > 3)]"
   ]
  },
  {
   "cell_type": "code",
   "execution_count": null,
   "id": "e555c45b",
   "metadata": {},
   "outputs": [],
   "source": [
    "data.shape"
   ]
  },
  {
   "cell_type": "markdown",
   "id": "f2ccbb9d",
   "metadata": {},
   "source": [
    "# Saving the data"
   ]
  },
  {
   "cell_type": "code",
   "execution_count": null,
   "id": "e587889a",
   "metadata": {},
   "outputs": [],
   "source": [
    "data.to_csv('processed_data.csv', index=False)"
   ]
  }
 ],
 "metadata": {
  "kernelspec": {
   "display_name": "Python 3 (ipykernel)",
   "language": "python",
   "name": "python3"
  },
  "language_info": {
   "codemirror_mode": {
    "name": "ipython",
    "version": 3
   },
   "file_extension": ".py",
   "mimetype": "text/x-python",
   "name": "python",
   "nbconvert_exporter": "python",
   "pygments_lexer": "ipython3",
   "version": "3.11.5"
  }
 },
 "nbformat": 4,
 "nbformat_minor": 5
}
