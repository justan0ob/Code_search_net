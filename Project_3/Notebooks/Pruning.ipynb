{
 "cells": [
  {
   "cell_type": "markdown",
   "id": "7919bd3a",
   "metadata": {},
   "source": [
    "# Pruning the Model\n"
   ]
  },
  {
   "cell_type": "markdown",
   "id": "8a71b072",
   "metadata": {},
   "source": [
    "## Importing all neccessary libararies\n"
   ]
  },
  {
   "cell_type": "code",
   "execution_count": 78,
   "id": "b5ecaeb0",
   "metadata": {},
   "outputs": [],
   "source": [
    "import pandas as pd\n",
    "import numpy as np\n",
    "import time\n",
    "import os,sys\n",
    "import plotly.graph_objs as go\n",
    "sys.path.append('../')\n",
    "from transformers import AutoModel\n",
    "from src.pruning_class import pruning\n",
    "from src.model_evaluation import evaluation\n",
    "from src.dimensionality_reduction_class import dimensionality_reduction\n",
    "from sentence_transformers import SentenceTransformer\n",
    "from plotly.subplots import make_subplots"
   ]
  },
  {
   "cell_type": "markdown",
   "id": "aba2f8a8",
   "metadata": {},
   "source": [
    "# Creating the object of evaluation class"
   ]
  },
  {
   "cell_type": "code",
   "execution_count": null,
   "id": "7234aab2",
   "metadata": {},
   "outputs": [],
   "source": [
    "eval_object=evaluation()"
   ]
  },
  {
   "cell_type": "markdown",
   "id": "0a141216",
   "metadata": {},
   "source": [
    "# Loading the training data"
   ]
  },
  {
   "cell_type": "code",
   "execution_count": 68,
   "id": "2a394395",
   "metadata": {},
   "outputs": [],
   "source": [
    "df=pd.read_csv(\"..//Data/processed_data.csv\")\n",
    "\n",
    "\n",
    "list_data = df['tokenized_docstring'].tolist()"
   ]
  },
  {
   "cell_type": "markdown",
   "id": "e0c83425",
   "metadata": {},
   "source": [
    "# Loading the testing data"
   ]
  },
  {
   "cell_type": "code",
   "execution_count": 67,
   "id": "9883fef3",
   "metadata": {},
   "outputs": [],
   "source": [
    "queries=pd.read_csv(\"..//Data/query.csv\")"
   ]
  },
  {
   "cell_type": "markdown",
   "id": "5b0174b6",
   "metadata": {},
   "source": [
    "# Creating the list to store the values"
   ]
  },
  {
   "cell_type": "code",
   "execution_count": 151,
   "id": "995f33ad",
   "metadata": {},
   "outputs": [],
   "source": [
    "time_embedding_generation=[]\n",
    "emebdding_size_MB=[]\n",
    "model_size_MB=[]\n",
    "layers=[]\n",
    "accuracy=[]"
   ]
  },
  {
   "cell_type": "markdown",
   "id": "df1613a2",
   "metadata": {},
   "source": [
    "# Loading the model on which pruning to be done"
   ]
  },
  {
   "cell_type": "code",
   "execution_count": 38,
   "id": "5ee170b5",
   "metadata": {},
   "outputs": [],
   "source": [
    "base_model=SentenceTransformer('sentence-transformers/all-mpnet-base-v2')"
   ]
  },
  {
   "cell_type": "markdown",
   "id": "a86a7b81",
   "metadata": {},
   "source": [
    "# 4 Layer Model"
   ]
  },
  {
   "cell_type": "code",
   "execution_count": 2,
   "id": "fbf2b871",
   "metadata": {},
   "outputs": [
    {
     "name": "stderr",
     "output_type": "stream",
     "text": [
      "/Users/msaqib/anaconda3/lib/python3.11/site-packages/transformers/utils/generic.py:309: UserWarning: torch.utils._pytree._register_pytree_node is deprecated. Please use torch.utils._pytree.register_pytree_node instead.\n",
      "  _torch_pytree._register_pytree_node(\n"
     ]
    }
   ],
   "source": [
    "# layer to be kept in base model\n",
    "layers=[3, 5, 8, 11]\n",
    "\n",
    "#Creating the object of distillation class by passing layers and model_name\n",
    "prun_object=pruning(layers,base_model)\n",
    "\n",
    "# function of distillation class that makes the model with 4 layers and saved in local drive\n",
    "dist_object.pruning_model()\n"
   ]
  },
  {
   "cell_type": "markdown",
   "id": "9f1998ed",
   "metadata": {},
   "source": [
    "# Loading the saved model from local drive and generatting the embeddings"
   ]
  },
  {
   "cell_type": "code",
   "execution_count": 5,
   "id": "66d4bd71",
   "metadata": {},
   "outputs": [
    {
     "name": "stdout",
     "output_type": "stream",
     "text": [
      "starting_time : 1713343941.56\n",
      "ending_time : 1713344512.35\n",
      "Embedding_shape : (113884, 768)\n",
      "total_time_taken for embedding generation:  570.79 seconds \n"
     ]
    }
   ],
   "source": [
    "# Loading the saved model\n",
    "model_4_layer=SentenceTransformer('..//models/pruned_model_with_4_layer')\n",
    "\n",
    "# generating the embeddings for this model and saving in the local drive\n",
    "get_model_embedding(model_4_layer,\"pruned_model_with_4_layer\")"
   ]
  },
  {
   "cell_type": "markdown",
   "id": "4c19f3c8",
   "metadata": {},
   "source": [
    "# getting the size of 4 layer model"
   ]
  },
  {
   "cell_type": "code",
   "execution_count": 17,
   "id": "c2a240b0",
   "metadata": {},
   "outputs": [
    {
     "name": "stdout",
     "output_type": "stream",
     "text": [
      "size of 4 layer model is 202.27 MB\n"
     ]
    }
   ],
   "source": [
    "\n",
    "size=get_model_size(\"..//models/pruned_model_with_4_layer\")\n",
    "\n",
    "print(f\"Size of 4 layer model is {(size/(1024*1024)):.2f} MB\")"
   ]
  },
  {
   "cell_type": "markdown",
   "id": "4327a30c",
   "metadata": {},
   "source": [
    "# Getting the size of embeddings of 4 layer model"
   ]
  },
  {
   "cell_type": "code",
   "execution_count": 22,
   "id": "654afa52",
   "metadata": {},
   "outputs": [
    {
     "name": "stdout",
     "output_type": "stream",
     "text": [
      "Size of embeddings of 4 layer model is 333.64 MB\n"
     ]
    }
   ],
   "source": [
    "size_of_embeddings=get_embedding_size(\"..//embeddings/embeddings_pruned_model_with_4_layer.npy\")\n",
    "\n",
    "print(f\"Size of embeddings of 4 layer model is {(size_of_embeddings/(1024*1024)):.2f} MB\")"
   ]
  },
  {
   "cell_type": "markdown",
   "id": "5171d978",
   "metadata": {},
   "source": [
    "# loading the values in different list"
   ]
  },
  {
   "cell_type": "code",
   "execution_count": 152,
   "id": "f23b24dd",
   "metadata": {},
   "outputs": [],
   "source": [
    "time_embedding_generation.append(570.79)\n",
    "emebdding_size_MB.append(333.64)\n",
    "model_size_MB.append(202.27)\n",
    "layers.append(4)"
   ]
  },
  {
   "cell_type": "markdown",
   "id": "954fecbe",
   "metadata": {},
   "source": [
    "# Architecture of 4 Layer Model"
   ]
  },
  {
   "cell_type": "code",
   "execution_count": 41,
   "id": "d5db1364",
   "metadata": {},
   "outputs": [
    {
     "name": "stdout",
     "output_type": "stream",
     "text": [
      "MPNetModel(\n",
      "  (embeddings): MPNetEmbeddings(\n",
      "    (word_embeddings): Embedding(30527, 768, padding_idx=1)\n",
      "    (position_embeddings): Embedding(514, 768, padding_idx=1)\n",
      "    (LayerNorm): LayerNorm((768,), eps=1e-05, elementwise_affine=True)\n",
      "    (dropout): Dropout(p=0.1, inplace=False)\n",
      "  )\n",
      "  (encoder): MPNetEncoder(\n",
      "    (layer): ModuleList(\n",
      "      (0-3): 4 x MPNetLayer(\n",
      "        (attention): MPNetAttention(\n",
      "          (attn): MPNetSelfAttention(\n",
      "            (q): Linear(in_features=768, out_features=768, bias=True)\n",
      "            (k): Linear(in_features=768, out_features=768, bias=True)\n",
      "            (v): Linear(in_features=768, out_features=768, bias=True)\n",
      "            (o): Linear(in_features=768, out_features=768, bias=True)\n",
      "            (dropout): Dropout(p=0.1, inplace=False)\n",
      "          )\n",
      "          (LayerNorm): LayerNorm((768,), eps=1e-05, elementwise_affine=True)\n",
      "          (dropout): Dropout(p=0.1, inplace=False)\n",
      "        )\n",
      "        (intermediate): MPNetIntermediate(\n",
      "          (dense): Linear(in_features=768, out_features=3072, bias=True)\n",
      "          (intermediate_act_fn): GELUActivation()\n",
      "        )\n",
      "        (output): MPNetOutput(\n",
      "          (dense): Linear(in_features=3072, out_features=768, bias=True)\n",
      "          (LayerNorm): LayerNorm((768,), eps=1e-05, elementwise_affine=True)\n",
      "          (dropout): Dropout(p=0.1, inplace=False)\n",
      "        )\n",
      "      )\n",
      "    )\n",
      "    (relative_attention_bias): Embedding(32, 12)\n",
      "  )\n",
      "  (pooler): MPNetPooler(\n",
      "    (dense): Linear(in_features=768, out_features=768, bias=True)\n",
      "    (activation): Tanh()\n",
      "  )\n",
      ")\n"
     ]
    }
   ],
   "source": [
    "# Print the model summary to view its architecture\n",
    "print(model_4_layer)\n",
    "\n",
    "\n",
    "#Number of layers is 4 and Embedding vector dimnesion is 768 "
   ]
  },
  {
   "cell_type": "markdown",
   "id": "f913048f",
   "metadata": {},
   "source": [
    "# Generating the response for the testing data"
   ]
  },
  {
   "cell_type": "code",
   "execution_count": 79,
   "id": "09f1fc42",
   "metadata": {},
   "outputs": [
    {
     "name": "stdout",
     "output_type": "stream",
     "text": [
      "(113884, 768)\n"
     ]
    },
    {
     "name": "stderr",
     "output_type": "stream",
     "text": [
      "huggingface/tokenizers: The current process just got forked, after parallelism has already been used. Disabling parallelism to avoid deadlocks...\n",
      "To disable this warning, you can either:\n",
      "\t- Avoid using `tokenizers` before the fork if possible\n",
      "\t- Explicitly set the environment variable TOKENIZERS_PARALLELISM=(true | false)\n"
     ]
    }
   ],
   "source": [
    "# order in which column of databse will be present\n",
    "column_order = ['Query', 'Docstrings', 'Code','Match']\n",
    "\n",
    "#creating the dataframe for model_1 which consists of for particular query all top code and\n",
    "#match column shows whether it is correctly retrieved or not\n",
    "model_4_layer_query_response=pd.DataFrame(columns=column_order)\n",
    "\n",
    "model_4_layer=SentenceTransformer('..//models/pruned_model_with_4_layer')\n",
    "\n",
    "emb_4_layer=np.load(\"..//embeddings/embeddings_pruned_model_with_4_layer.npy\")\n",
    "\n",
    "print(emb_4_layer.shape)\n",
    "\n",
    "for i in range(len(queries)):\n",
    "    #getting the particular query from queries \n",
    "    query=queries.loc[i].Questions\n",
    "    \n",
    "    # getting the table dataframe that consists of docstring and code \n",
    "    #that has top match with query using cosine similarity\n",
    "    table=eval_object.get_top_code_and_docstring(query,emb_4_layer,model_4_layer,list_data,df)\n",
    "    \n",
    "    #adding the column query with all values as \n",
    "    table=add_column(table,query)\n",
    "    \n",
    "    #adding columns Match that defines whether the code for given query is correctly retrieved or not\n",
    "    table=add_column(table,'Match')\n",
    "    \n",
    "    #reordering the table for better view\n",
    "    table=reorder_columns(table)\n",
    "    \n",
    "    #iterating in the table\n",
    "    for index,row in table.iterrows():\n",
    "        \n",
    "        #fetching the current code for query\n",
    "        result = row['Code']\n",
    "        \n",
    "        #getting the response from claude api\n",
    "        response=eval_object.check_response(query,row['Code'])\n",
    "    \n",
    "        #Checking the value present in the response generated by the claude\n",
    "        if 'YES' in response.content:\n",
    "            response='YES'\n",
    "        else :\n",
    "            response='NO'\n",
    "            \n",
    "        #Giving the value of response in match column for current row\n",
    "        table.at[index,'Match']=response\n",
    "    \n",
    "    #merging the table dataframe and model_1_query_response in single dataframe\n",
    "    model_4_layer_query_response= pd.concat([model_4_layer_query_response, table], ignore_index=True)"
   ]
  },
  {
   "cell_type": "markdown",
   "id": "e66efff8",
   "metadata": {},
   "source": [
    "# 6 Layers Model"
   ]
  },
  {
   "cell_type": "code",
   "execution_count": 23,
   "id": "5c190766",
   "metadata": {},
   "outputs": [],
   "source": [
    "# layers to keep in base model\n",
    "layers=[1,3,4,7,10,11]\n",
    "\n",
    "# Creating the obvject of distillation class\n",
    "prun_object=pruning(layers,teacher_model)\n",
    "\n",
    "# function of distillation class that makes the model with 6 layer\n",
    "prun_object.pruning_model()\n"
   ]
  },
  {
   "cell_type": "markdown",
   "id": "d4fe70a7",
   "metadata": {},
   "source": [
    "# Loading the model from local drive and generating the embeddings"
   ]
  },
  {
   "cell_type": "code",
   "execution_count": 27,
   "id": "6121d709",
   "metadata": {
    "scrolled": false
   },
   "outputs": [
    {
     "name": "stderr",
     "output_type": "stream",
     "text": [
      "Some weights of MPNetModel were not initialized from the model checkpoint at models/distilled_model_with_6_layer and are newly initialized: ['encoder.layer.4.output.LayerNorm.bias', 'encoder.layer.5.attention.LayerNorm.weight', 'encoder.layer.5.output.dense.bias', 'encoder.layer.3.attention.attn.k.bias', 'encoder.layer.2.attention.attn.v.weight', 'encoder.layer.4.attention.attn.k.weight', 'encoder.layer.4.output.dense.bias', 'encoder.layer.4.attention.attn.q.weight', 'encoder.layer.3.attention.attn.v.weight', 'encoder.layer.4.attention.attn.v.bias', 'encoder.layer.3.intermediate.dense.weight', 'encoder.layer.2.attention.attn.k.weight', 'encoder.layer.5.attention.attn.o.weight', 'encoder.layer.4.attention.LayerNorm.bias', 'encoder.layer.5.attention.LayerNorm.bias', 'encoder.layer.2.intermediate.dense.bias', 'encoder.layer.2.attention.attn.v.bias', 'encoder.layer.4.output.dense.weight', 'encoder.layer.5.intermediate.dense.bias', 'encoder.layer.5.output.LayerNorm.bias', 'encoder.layer.5.attention.attn.v.bias', 'encoder.layer.5.attention.attn.k.weight', 'encoder.layer.3.attention.attn.k.weight', 'encoder.layer.2.attention.attn.k.bias', 'encoder.layer.2.output.dense.bias', 'encoder.layer.2.output.dense.weight', 'encoder.layer.3.intermediate.dense.bias', 'encoder.layer.5.attention.attn.v.weight', 'encoder.layer.4.attention.attn.o.weight', 'encoder.layer.3.output.dense.bias', 'encoder.layer.2.attention.attn.q.weight', 'encoder.layer.3.attention.attn.v.bias', 'encoder.layer.2.attention.attn.o.weight', 'encoder.layer.3.attention.LayerNorm.bias', 'encoder.layer.4.attention.LayerNorm.weight', 'encoder.layer.5.intermediate.dense.weight', 'encoder.layer.3.attention.attn.o.bias', 'encoder.layer.5.attention.attn.q.weight', 'encoder.layer.5.output.LayerNorm.weight', 'encoder.layer.3.attention.LayerNorm.weight', 'encoder.layer.5.attention.attn.q.bias', 'encoder.layer.2.output.LayerNorm.bias', 'encoder.layer.5.output.dense.weight', 'encoder.layer.4.attention.attn.o.bias', 'encoder.layer.5.attention.attn.k.bias', 'encoder.layer.3.output.dense.weight', 'encoder.layer.3.output.LayerNorm.bias', 'encoder.layer.4.attention.attn.k.bias', 'encoder.layer.3.attention.attn.o.weight', 'encoder.layer.4.intermediate.dense.bias', 'encoder.layer.2.attention.attn.o.bias', 'encoder.layer.4.attention.attn.v.weight', 'encoder.layer.4.attention.attn.q.bias', 'encoder.layer.2.output.LayerNorm.weight', 'encoder.layer.4.intermediate.dense.weight', 'encoder.layer.2.intermediate.dense.weight', 'encoder.layer.5.attention.attn.o.bias', 'encoder.layer.3.output.LayerNorm.weight', 'encoder.layer.4.output.LayerNorm.weight', 'encoder.layer.2.attention.LayerNorm.weight', 'encoder.layer.2.attention.attn.q.bias', 'encoder.layer.2.attention.LayerNorm.bias', 'encoder.layer.3.attention.attn.q.bias', 'encoder.layer.3.attention.attn.q.weight']\n",
      "You should probably TRAIN this model on a down-stream task to be able to use it for predictions and inference.\n"
     ]
    },
    {
     "name": "stdout",
     "output_type": "stream",
     "text": [
      "starting_time : 1713345927.98\n",
      "ending_time : 1713346259.92\n",
      "Embedding_shape : (113884, 768)\n",
      "total_time_taken for embedding generation:  331.94 seconds \n"
     ]
    }
   ],
   "source": [
    "model_6_layer=SentenceTransformer('..//models/pruning_model_with_6_layer')\n",
    "get_model_embedding(model_6_layer,\"pruning_model_with_6_layer\")"
   ]
  },
  {
   "cell_type": "markdown",
   "id": "7aa5ded3",
   "metadata": {},
   "source": [
    "# Getting the size of model with 6 layer\n"
   ]
  },
  {
   "cell_type": "code",
   "execution_count": 28,
   "id": "657eb183",
   "metadata": {},
   "outputs": [
    {
     "name": "stdout",
     "output_type": "stream",
     "text": [
      "Size of 6 layer model is 148.19 MB\n"
     ]
    }
   ],
   "source": [
    "size=func_object.get_model_size(\"..//models/pruning_model_with_6_layer\")\n",
    "\n",
    "print(f\"Size of 6 layer model is {(size/(1024*1024)):.2f} MB\")"
   ]
  },
  {
   "cell_type": "markdown",
   "id": "6f0e2cb3",
   "metadata": {},
   "source": [
    "# Getting the size of embeddings"
   ]
  },
  {
   "cell_type": "code",
   "execution_count": 29,
   "id": "84879be6",
   "metadata": {},
   "outputs": [
    {
     "name": "stdout",
     "output_type": "stream",
     "text": [
      "Size of embeddings of 6 layer model is 333.64 MB\n"
     ]
    }
   ],
   "source": [
    "size_of_embeddings=func_object.get_embedding_size(\"..//embeddings/embeddings_pruning_model_with_6_layer.npy\")\n",
    "\n",
    "print(f\"Size of embeddings of 6 layer model is {(size_of_embeddings/(1024*1024)):.2f} MB\")"
   ]
  },
  {
   "cell_type": "markdown",
   "id": "6f3390bb",
   "metadata": {},
   "source": [
    "# Loading the values in different list"
   ]
  },
  {
   "cell_type": "code",
   "execution_count": 153,
   "id": "774d3ef5",
   "metadata": {},
   "outputs": [],
   "source": [
    "time_embedding_generation.append(331.94)\n",
    "emebdding_size_MB.append(333.64)\n",
    "model_size_MB.append(148.19)\n",
    "layers.append(6)"
   ]
  },
  {
   "cell_type": "markdown",
   "id": "04f0e4aa",
   "metadata": {},
   "source": [
    "# Architecture of model with 6 layer"
   ]
  },
  {
   "cell_type": "code",
   "execution_count": 42,
   "id": "74f96c90",
   "metadata": {},
   "outputs": [
    {
     "name": "stderr",
     "output_type": "stream",
     "text": [
      "Some weights of MPNetModel were not initialized from the model checkpoint at models/distilled_model_with_6_layer and are newly initialized: ['encoder.layer.4.output.LayerNorm.bias', 'encoder.layer.5.attention.LayerNorm.weight', 'encoder.layer.5.output.dense.bias', 'encoder.layer.3.attention.attn.k.bias', 'encoder.layer.2.attention.attn.v.weight', 'encoder.layer.4.attention.attn.k.weight', 'encoder.layer.4.output.dense.bias', 'encoder.layer.4.attention.attn.q.weight', 'encoder.layer.3.attention.attn.v.weight', 'encoder.layer.4.attention.attn.v.bias', 'encoder.layer.3.intermediate.dense.weight', 'encoder.layer.2.attention.attn.k.weight', 'encoder.layer.5.attention.attn.o.weight', 'encoder.layer.4.attention.LayerNorm.bias', 'encoder.layer.5.attention.LayerNorm.bias', 'encoder.layer.2.intermediate.dense.bias', 'encoder.layer.2.attention.attn.v.bias', 'encoder.layer.4.output.dense.weight', 'encoder.layer.5.intermediate.dense.bias', 'encoder.layer.5.output.LayerNorm.bias', 'encoder.layer.5.attention.attn.v.bias', 'encoder.layer.5.attention.attn.k.weight', 'encoder.layer.3.attention.attn.k.weight', 'encoder.layer.2.attention.attn.k.bias', 'encoder.layer.2.output.dense.bias', 'encoder.layer.2.output.dense.weight', 'encoder.layer.3.intermediate.dense.bias', 'encoder.layer.5.attention.attn.v.weight', 'encoder.layer.4.attention.attn.o.weight', 'encoder.layer.3.output.dense.bias', 'encoder.layer.2.attention.attn.q.weight', 'encoder.layer.3.attention.attn.v.bias', 'encoder.layer.2.attention.attn.o.weight', 'encoder.layer.3.attention.LayerNorm.bias', 'encoder.layer.4.attention.LayerNorm.weight', 'encoder.layer.5.intermediate.dense.weight', 'encoder.layer.3.attention.attn.o.bias', 'encoder.layer.5.attention.attn.q.weight', 'encoder.layer.5.output.LayerNorm.weight', 'encoder.layer.3.attention.LayerNorm.weight', 'encoder.layer.5.attention.attn.q.bias', 'encoder.layer.2.output.LayerNorm.bias', 'encoder.layer.5.output.dense.weight', 'encoder.layer.4.attention.attn.o.bias', 'encoder.layer.5.attention.attn.k.bias', 'encoder.layer.3.output.dense.weight', 'encoder.layer.3.output.LayerNorm.bias', 'encoder.layer.4.attention.attn.k.bias', 'encoder.layer.3.attention.attn.o.weight', 'encoder.layer.4.intermediate.dense.bias', 'encoder.layer.2.attention.attn.o.bias', 'encoder.layer.4.attention.attn.v.weight', 'encoder.layer.4.attention.attn.q.bias', 'encoder.layer.2.output.LayerNorm.weight', 'encoder.layer.4.intermediate.dense.weight', 'encoder.layer.2.intermediate.dense.weight', 'encoder.layer.5.attention.attn.o.bias', 'encoder.layer.3.output.LayerNorm.weight', 'encoder.layer.4.output.LayerNorm.weight', 'encoder.layer.2.attention.LayerNorm.weight', 'encoder.layer.2.attention.attn.q.bias', 'encoder.layer.2.attention.LayerNorm.bias', 'encoder.layer.3.attention.attn.q.bias', 'encoder.layer.3.attention.attn.q.weight']\n",
      "You should probably TRAIN this model on a down-stream task to be able to use it for predictions and inference.\n"
     ]
    },
    {
     "name": "stdout",
     "output_type": "stream",
     "text": [
      "MPNetModel(\n",
      "  (embeddings): MPNetEmbeddings(\n",
      "    (word_embeddings): Embedding(30527, 768, padding_idx=1)\n",
      "    (position_embeddings): Embedding(514, 768, padding_idx=1)\n",
      "    (LayerNorm): LayerNorm((768,), eps=1e-05, elementwise_affine=True)\n",
      "    (dropout): Dropout(p=0.1, inplace=False)\n",
      "  )\n",
      "  (encoder): MPNetEncoder(\n",
      "    (layer): ModuleList(\n",
      "      (0-5): 6 x MPNetLayer(\n",
      "        (attention): MPNetAttention(\n",
      "          (attn): MPNetSelfAttention(\n",
      "            (q): Linear(in_features=768, out_features=768, bias=True)\n",
      "            (k): Linear(in_features=768, out_features=768, bias=True)\n",
      "            (v): Linear(in_features=768, out_features=768, bias=True)\n",
      "            (o): Linear(in_features=768, out_features=768, bias=True)\n",
      "            (dropout): Dropout(p=0.1, inplace=False)\n",
      "          )\n",
      "          (LayerNorm): LayerNorm((768,), eps=1e-05, elementwise_affine=True)\n",
      "          (dropout): Dropout(p=0.1, inplace=False)\n",
      "        )\n",
      "        (intermediate): MPNetIntermediate(\n",
      "          (dense): Linear(in_features=768, out_features=3072, bias=True)\n",
      "          (intermediate_act_fn): GELUActivation()\n",
      "        )\n",
      "        (output): MPNetOutput(\n",
      "          (dense): Linear(in_features=3072, out_features=768, bias=True)\n",
      "          (LayerNorm): LayerNorm((768,), eps=1e-05, elementwise_affine=True)\n",
      "          (dropout): Dropout(p=0.1, inplace=False)\n",
      "        )\n",
      "      )\n",
      "    )\n",
      "    (relative_attention_bias): Embedding(32, 12)\n",
      "  )\n",
      "  (pooler): MPNetPooler(\n",
      "    (dense): Linear(in_features=768, out_features=768, bias=True)\n",
      "    (activation): Tanh()\n",
      "  )\n",
      ")\n"
     ]
    }
   ],
   "source": [
    "# Print the model summary to view its architecture\n",
    "print(model_6_layer)\n",
    "\n",
    "\n",
    "# Number of layers is 6 and Embedding vector dimnesion is 768 "
   ]
  },
  {
   "cell_type": "markdown",
   "id": "e36fa0ee",
   "metadata": {},
   "source": [
    "# Generating the response for the testing data"
   ]
  },
  {
   "cell_type": "code",
   "execution_count": 80,
   "id": "2edf87e9",
   "metadata": {},
   "outputs": [
    {
     "name": "stderr",
     "output_type": "stream",
     "text": [
      "Some weights of MPNetModel were not initialized from the model checkpoint at models/distilled_model_with_6_layer and are newly initialized: ['encoder.layer.4.output.LayerNorm.bias', 'encoder.layer.5.attention.LayerNorm.weight', 'encoder.layer.5.output.dense.bias', 'encoder.layer.3.attention.attn.k.bias', 'encoder.layer.2.attention.attn.v.weight', 'encoder.layer.4.attention.attn.k.weight', 'encoder.layer.4.output.dense.bias', 'encoder.layer.4.attention.attn.q.weight', 'encoder.layer.3.attention.attn.v.weight', 'encoder.layer.4.attention.attn.v.bias', 'encoder.layer.3.intermediate.dense.weight', 'encoder.layer.2.attention.attn.k.weight', 'encoder.layer.5.attention.attn.o.weight', 'encoder.layer.4.attention.LayerNorm.bias', 'encoder.layer.5.attention.LayerNorm.bias', 'encoder.layer.2.intermediate.dense.bias', 'encoder.layer.2.attention.attn.v.bias', 'encoder.layer.4.output.dense.weight', 'encoder.layer.5.intermediate.dense.bias', 'encoder.layer.5.output.LayerNorm.bias', 'encoder.layer.5.attention.attn.v.bias', 'encoder.layer.5.attention.attn.k.weight', 'encoder.layer.3.attention.attn.k.weight', 'encoder.layer.2.attention.attn.k.bias', 'encoder.layer.2.output.dense.bias', 'encoder.layer.2.output.dense.weight', 'encoder.layer.3.intermediate.dense.bias', 'encoder.layer.5.attention.attn.v.weight', 'encoder.layer.4.attention.attn.o.weight', 'encoder.layer.3.output.dense.bias', 'encoder.layer.2.attention.attn.q.weight', 'encoder.layer.3.attention.attn.v.bias', 'encoder.layer.2.attention.attn.o.weight', 'encoder.layer.3.attention.LayerNorm.bias', 'encoder.layer.4.attention.LayerNorm.weight', 'encoder.layer.5.intermediate.dense.weight', 'encoder.layer.3.attention.attn.o.bias', 'encoder.layer.5.attention.attn.q.weight', 'encoder.layer.5.output.LayerNorm.weight', 'encoder.layer.3.attention.LayerNorm.weight', 'encoder.layer.5.attention.attn.q.bias', 'encoder.layer.2.output.LayerNorm.bias', 'encoder.layer.5.output.dense.weight', 'encoder.layer.4.attention.attn.o.bias', 'encoder.layer.5.attention.attn.k.bias', 'encoder.layer.3.output.dense.weight', 'encoder.layer.3.output.LayerNorm.bias', 'encoder.layer.4.attention.attn.k.bias', 'encoder.layer.3.attention.attn.o.weight', 'encoder.layer.4.intermediate.dense.bias', 'encoder.layer.2.attention.attn.o.bias', 'encoder.layer.4.attention.attn.v.weight', 'encoder.layer.4.attention.attn.q.bias', 'encoder.layer.2.output.LayerNorm.weight', 'encoder.layer.4.intermediate.dense.weight', 'encoder.layer.2.intermediate.dense.weight', 'encoder.layer.5.attention.attn.o.bias', 'encoder.layer.3.output.LayerNorm.weight', 'encoder.layer.4.output.LayerNorm.weight', 'encoder.layer.2.attention.LayerNorm.weight', 'encoder.layer.2.attention.attn.q.bias', 'encoder.layer.2.attention.LayerNorm.bias', 'encoder.layer.3.attention.attn.q.bias', 'encoder.layer.3.attention.attn.q.weight']\n",
      "You should probably TRAIN this model on a down-stream task to be able to use it for predictions and inference.\n"
     ]
    },
    {
     "name": "stdout",
     "output_type": "stream",
     "text": [
      "(113884, 768)\n"
     ]
    }
   ],
   "source": [
    "# order in which column of databse will be present\n",
    "column_order = ['Query', 'Docstrings', 'Code','Match']\n",
    "\n",
    "#creating the dataframe for model_1 which consists of for particular query all top code and\n",
    "#match column shows whether it is correctly retrieved or not\n",
    "model_6_layer_query_response=pd.DataFrame(columns=column_order)\n",
    "\n",
    "model_6_layer=SentenceTransformer('..//models/pruned_model_with_6_layer')\n",
    "\n",
    "emb_6_layer=np.load(\"..//embeddings/embeddings_pruned_model_with_6_layer.npy\")\n",
    "\n",
    "print(emb_6_layer.shape)\n",
    "\n",
    "for i in range(len(queries)):\n",
    "    #getting the particular query from queries \n",
    "    query=queries.loc[i].Questions\n",
    "    \n",
    "    # getting the table dataframe that consists of docstring and code \n",
    "    #that has top match with query using cosine similarity\n",
    "    table=eval_object.get_top_code_and_docstring(query,emb_6_layer,model_6_layer,list_data,df)\n",
    "    \n",
    "    #adding the column query with all values as \n",
    "    table=add_column(table,query)\n",
    "    \n",
    "    #adding columns Match that defines whether the code for given query is correctly retrieved or not\n",
    "    table=add_column(table,'Match')\n",
    "    \n",
    "    #reordering the table for better view\n",
    "    table=reorder_columns(table)\n",
    "    \n",
    "    #iterating in the table\n",
    "    for index,row in table.iterrows():\n",
    "        \n",
    "        #fetching the current code for query\n",
    "        result = row['Code']\n",
    "        \n",
    "        #getting the response from claude api\n",
    "        response=eval_object.check_response(query,row['Code'])\n",
    "    \n",
    "        #Checking the value present in the response generated by the claude\n",
    "        if 'YES' in response.content:\n",
    "            response='YES'\n",
    "        else :\n",
    "            response='NO'\n",
    "            \n",
    "        #Giving the value of response in match column for current row\n",
    "        table.at[index,'Match']=response\n",
    "    \n",
    "    #merging the table dataframe and model_6_query_response in single dataframe\n",
    "    model_6_layer_query_response= pd.concat([model_6_layer_query_response, table], ignore_index=True)"
   ]
  },
  {
   "cell_type": "markdown",
   "id": "553137c8",
   "metadata": {},
   "source": [
    "# 8 Layer Model"
   ]
  },
  {
   "cell_type": "code",
   "execution_count": 30,
   "id": "fed9ab90",
   "metadata": {},
   "outputs": [],
   "source": [
    "# layers to keep in base model\n",
    "layers=[0,2,3,4,7,8,10,11]\n",
    "\n",
    "# object of distillation class\n",
    "prun_object=pruning(layers,teacher_model)\n",
    "\n",
    "# function of distillation class that makes the model with 8 layer\n",
    "prun_object.pruning_model()"
   ]
  },
  {
   "cell_type": "markdown",
   "id": "097213af",
   "metadata": {},
   "source": [
    "# Loading the model and generating the embeddings"
   ]
  },
  {
   "cell_type": "code",
   "execution_count": 31,
   "id": "8d9b962a",
   "metadata": {},
   "outputs": [
    {
     "name": "stderr",
     "output_type": "stream",
     "text": [
      "Some weights of MPNetModel were not initialized from the model checkpoint at models/distilled_model_with_8_layer and are newly initialized: ['encoder.layer.5.attention.LayerNorm.weight', 'encoder.layer.5.output.dense.bias', 'encoder.layer.6.attention.attn.q.bias', 'encoder.layer.6.intermediate.dense.weight', 'encoder.layer.1.attention.attn.v.bias', 'encoder.layer.4.output.dense.weight', 'encoder.layer.5.attention.attn.v.bias', 'encoder.layer.5.attention.attn.k.weight', 'encoder.layer.2.attention.attn.k.bias', 'encoder.layer.1.attention.attn.o.weight', 'encoder.layer.1.attention.attn.v.weight', 'encoder.layer.3.output.dense.bias', 'encoder.layer.2.attention.attn.q.weight', 'encoder.layer.4.attention.LayerNorm.weight', 'encoder.layer.1.output.LayerNorm.bias', 'encoder.layer.3.output.LayerNorm.bias', 'encoder.layer.1.attention.attn.q.weight', 'encoder.layer.2.attention.attn.o.bias', 'encoder.layer.4.attention.attn.v.weight', 'encoder.layer.6.attention.attn.k.weight', 'encoder.layer.5.attention.attn.o.bias', 'encoder.layer.3.output.LayerNorm.weight', 'encoder.layer.4.output.LayerNorm.weight', 'encoder.layer.2.attention.LayerNorm.weight', 'encoder.layer.7.output.dense.weight', 'encoder.layer.4.output.LayerNorm.bias', 'encoder.layer.3.attention.attn.k.bias', 'encoder.layer.4.attention.attn.v.bias', 'encoder.layer.7.attention.attn.v.weight', 'encoder.layer.6.attention.attn.k.bias', 'encoder.layer.2.intermediate.dense.bias', 'encoder.layer.3.attention.attn.k.weight', 'encoder.layer.6.attention.attn.o.bias', 'encoder.layer.1.output.LayerNorm.weight', 'encoder.layer.6.intermediate.dense.bias', 'encoder.layer.4.attention.attn.o.weight', 'encoder.layer.3.attention.attn.v.bias', 'encoder.layer.7.attention.attn.q.weight', 'encoder.layer.5.output.LayerNorm.weight', 'encoder.layer.7.attention.attn.q.bias', 'encoder.layer.2.output.LayerNorm.bias', 'encoder.layer.7.attention.attn.k.bias', 'encoder.layer.7.intermediate.dense.weight', 'encoder.layer.4.attention.attn.k.bias', 'encoder.layer.6.attention.LayerNorm.weight', 'encoder.layer.7.output.LayerNorm.weight', 'encoder.layer.4.attention.attn.q.bias', 'encoder.layer.2.intermediate.dense.weight', 'encoder.layer.2.attention.attn.q.bias', 'encoder.layer.1.attention.attn.q.bias', 'encoder.layer.3.attention.attn.q.weight', 'encoder.layer.1.attention.attn.o.bias', 'encoder.layer.4.attention.attn.k.weight', 'encoder.layer.4.output.dense.bias', 'encoder.layer.3.intermediate.dense.weight', 'encoder.layer.2.attention.attn.k.weight', 'encoder.layer.5.attention.attn.o.weight', 'encoder.layer.7.output.dense.bias', 'encoder.layer.1.output.dense.weight', 'encoder.layer.2.attention.attn.v.bias', 'encoder.layer.5.intermediate.dense.bias', 'encoder.layer.5.output.LayerNorm.bias', 'encoder.layer.7.attention.LayerNorm.bias', 'encoder.layer.7.attention.LayerNorm.weight', 'encoder.layer.2.output.dense.weight', 'encoder.layer.3.intermediate.dense.bias', 'encoder.layer.1.attention.attn.k.weight', 'encoder.layer.1.output.dense.bias', 'encoder.layer.1.intermediate.dense.weight', 'encoder.layer.5.attention.attn.q.weight', 'encoder.layer.1.intermediate.dense.bias', 'encoder.layer.3.attention.LayerNorm.weight', 'encoder.layer.7.attention.attn.o.weight', 'encoder.layer.4.attention.attn.o.bias', 'encoder.layer.7.attention.attn.k.weight', 'encoder.layer.1.attention.attn.k.bias', 'encoder.layer.7.intermediate.dense.bias', 'encoder.layer.2.attention.LayerNorm.bias', 'encoder.layer.5.attention.attn.q.bias', 'encoder.layer.6.attention.LayerNorm.bias', 'encoder.layer.3.attention.attn.q.bias', 'encoder.layer.6.attention.attn.v.weight', 'encoder.layer.2.attention.attn.v.weight', 'encoder.layer.6.attention.attn.q.weight', 'encoder.layer.6.output.dense.weight', 'encoder.layer.1.attention.LayerNorm.weight', 'encoder.layer.4.attention.attn.q.weight', 'encoder.layer.3.attention.attn.v.weight', 'encoder.layer.6.output.LayerNorm.weight', 'encoder.layer.4.attention.LayerNorm.bias', 'encoder.layer.5.attention.LayerNorm.bias', 'encoder.layer.6.attention.attn.v.bias', 'encoder.layer.6.attention.attn.o.weight', 'encoder.layer.1.attention.LayerNorm.bias', 'encoder.layer.2.output.dense.bias', 'encoder.layer.5.attention.attn.v.weight', 'encoder.layer.7.output.LayerNorm.bias', 'encoder.layer.2.attention.attn.o.weight', 'encoder.layer.3.attention.LayerNorm.bias', 'encoder.layer.5.intermediate.dense.weight', 'encoder.layer.3.attention.attn.o.bias', 'encoder.layer.6.output.dense.bias', 'encoder.layer.5.output.dense.weight', 'encoder.layer.5.attention.attn.k.bias', 'encoder.layer.3.output.dense.weight', 'encoder.layer.7.attention.attn.o.bias', 'encoder.layer.3.attention.attn.o.weight', 'encoder.layer.4.intermediate.dense.bias', 'encoder.layer.2.output.LayerNorm.weight', 'encoder.layer.4.intermediate.dense.weight', 'encoder.layer.6.output.LayerNorm.bias', 'encoder.layer.7.attention.attn.v.bias']\n",
      "You should probably TRAIN this model on a down-stream task to be able to use it for predictions and inference.\n"
     ]
    },
    {
     "name": "stdout",
     "output_type": "stream",
     "text": [
      "starting_time : 1713348422.37\n",
      "ending_time : 1713348865.61\n",
      "Embedding_shape : (113884, 768)\n",
      "total_time_taken for embedding generation:  443.23 seconds \n"
     ]
    }
   ],
   "source": [
    "model=SentenceTransformer('..//models/pruned_model_with_8_layer')\n",
    "func_object.get_model_embedding(model,\"pruned_model_with_8_layer\")"
   ]
  },
  {
   "cell_type": "markdown",
   "id": "54c20eba",
   "metadata": {},
   "source": [
    "# Size of Model "
   ]
  },
  {
   "cell_type": "code",
   "execution_count": 32,
   "id": "78951f30",
   "metadata": {},
   "outputs": [
    {
     "name": "stdout",
     "output_type": "stream",
     "text": [
      "Size of 8 layer model is 121.15 MB\n"
     ]
    }
   ],
   "source": [
    "size=get_model_size(\"..//models/pruned_model_with_8_layer\")\n",
    "\n",
    "print(f\"Size of 8 layer model is {(size/(1024*1024)):.2f} MB\")"
   ]
  },
  {
   "cell_type": "markdown",
   "id": "3fabf73b",
   "metadata": {},
   "source": [
    "# size of embeddings"
   ]
  },
  {
   "cell_type": "code",
   "execution_count": 33,
   "id": "531d0267",
   "metadata": {},
   "outputs": [
    {
     "name": "stdout",
     "output_type": "stream",
     "text": [
      "Size of embeddings of 8 layer model is 333.64 MB\n"
     ]
    }
   ],
   "source": [
    "func_object.size_of_embeddings=get_embedding_size(\"..//embeddings/embeddings_pruned_model_with_8_layer.npy\")\n",
    "\n",
    "print(f\"Size of embeddings of 8 layer model is {(size_of_embeddings/(1024*1024)):.2f} MB\")"
   ]
  },
  {
   "cell_type": "markdown",
   "id": "f215f12f",
   "metadata": {},
   "source": [
    "# saving the values in the list"
   ]
  },
  {
   "cell_type": "code",
   "execution_count": 154,
   "id": "90346d6a",
   "metadata": {},
   "outputs": [],
   "source": [
    "time_embedding_generation.append(443.23)\n",
    "emebdding_size_MB.append(333.64)\n",
    "model_size_MB.append(121.15)\n",
    "layers.append(8)"
   ]
  },
  {
   "cell_type": "markdown",
   "id": "702c8e06",
   "metadata": {},
   "source": [
    "# Architecture of model with 8 layer"
   ]
  },
  {
   "cell_type": "code",
   "execution_count": 43,
   "id": "20e4b011",
   "metadata": {},
   "outputs": [
    {
     "name": "stderr",
     "output_type": "stream",
     "text": [
      "Some weights of MPNetModel were not initialized from the model checkpoint at models/distilled_model_with_8_layer and are newly initialized: ['encoder.layer.5.attention.LayerNorm.weight', 'encoder.layer.5.output.dense.bias', 'encoder.layer.6.attention.attn.q.bias', 'encoder.layer.6.intermediate.dense.weight', 'encoder.layer.1.attention.attn.v.bias', 'encoder.layer.4.output.dense.weight', 'encoder.layer.5.attention.attn.v.bias', 'encoder.layer.5.attention.attn.k.weight', 'encoder.layer.2.attention.attn.k.bias', 'encoder.layer.1.attention.attn.o.weight', 'encoder.layer.1.attention.attn.v.weight', 'encoder.layer.3.output.dense.bias', 'encoder.layer.2.attention.attn.q.weight', 'encoder.layer.4.attention.LayerNorm.weight', 'encoder.layer.1.output.LayerNorm.bias', 'encoder.layer.3.output.LayerNorm.bias', 'encoder.layer.1.attention.attn.q.weight', 'encoder.layer.2.attention.attn.o.bias', 'encoder.layer.4.attention.attn.v.weight', 'encoder.layer.6.attention.attn.k.weight', 'encoder.layer.5.attention.attn.o.bias', 'encoder.layer.3.output.LayerNorm.weight', 'encoder.layer.4.output.LayerNorm.weight', 'encoder.layer.2.attention.LayerNorm.weight', 'encoder.layer.7.output.dense.weight', 'encoder.layer.4.output.LayerNorm.bias', 'encoder.layer.3.attention.attn.k.bias', 'encoder.layer.4.attention.attn.v.bias', 'encoder.layer.7.attention.attn.v.weight', 'encoder.layer.6.attention.attn.k.bias', 'encoder.layer.2.intermediate.dense.bias', 'encoder.layer.3.attention.attn.k.weight', 'encoder.layer.6.attention.attn.o.bias', 'encoder.layer.1.output.LayerNorm.weight', 'encoder.layer.6.intermediate.dense.bias', 'encoder.layer.4.attention.attn.o.weight', 'encoder.layer.3.attention.attn.v.bias', 'encoder.layer.7.attention.attn.q.weight', 'encoder.layer.5.output.LayerNorm.weight', 'encoder.layer.7.attention.attn.q.bias', 'encoder.layer.2.output.LayerNorm.bias', 'encoder.layer.7.attention.attn.k.bias', 'encoder.layer.7.intermediate.dense.weight', 'encoder.layer.4.attention.attn.k.bias', 'encoder.layer.6.attention.LayerNorm.weight', 'encoder.layer.7.output.LayerNorm.weight', 'encoder.layer.4.attention.attn.q.bias', 'encoder.layer.2.intermediate.dense.weight', 'encoder.layer.2.attention.attn.q.bias', 'encoder.layer.1.attention.attn.q.bias', 'encoder.layer.3.attention.attn.q.weight', 'encoder.layer.1.attention.attn.o.bias', 'encoder.layer.4.attention.attn.k.weight', 'encoder.layer.4.output.dense.bias', 'encoder.layer.3.intermediate.dense.weight', 'encoder.layer.2.attention.attn.k.weight', 'encoder.layer.5.attention.attn.o.weight', 'encoder.layer.7.output.dense.bias', 'encoder.layer.1.output.dense.weight', 'encoder.layer.2.attention.attn.v.bias', 'encoder.layer.5.intermediate.dense.bias', 'encoder.layer.5.output.LayerNorm.bias', 'encoder.layer.7.attention.LayerNorm.bias', 'encoder.layer.7.attention.LayerNorm.weight', 'encoder.layer.2.output.dense.weight', 'encoder.layer.3.intermediate.dense.bias', 'encoder.layer.1.attention.attn.k.weight', 'encoder.layer.1.output.dense.bias', 'encoder.layer.1.intermediate.dense.weight', 'encoder.layer.5.attention.attn.q.weight', 'encoder.layer.1.intermediate.dense.bias', 'encoder.layer.3.attention.LayerNorm.weight', 'encoder.layer.7.attention.attn.o.weight', 'encoder.layer.4.attention.attn.o.bias', 'encoder.layer.7.attention.attn.k.weight', 'encoder.layer.1.attention.attn.k.bias', 'encoder.layer.7.intermediate.dense.bias', 'encoder.layer.2.attention.LayerNorm.bias', 'encoder.layer.5.attention.attn.q.bias', 'encoder.layer.6.attention.LayerNorm.bias', 'encoder.layer.3.attention.attn.q.bias', 'encoder.layer.6.attention.attn.v.weight', 'encoder.layer.2.attention.attn.v.weight', 'encoder.layer.6.attention.attn.q.weight', 'encoder.layer.6.output.dense.weight', 'encoder.layer.1.attention.LayerNorm.weight', 'encoder.layer.4.attention.attn.q.weight', 'encoder.layer.3.attention.attn.v.weight', 'encoder.layer.6.output.LayerNorm.weight', 'encoder.layer.4.attention.LayerNorm.bias', 'encoder.layer.5.attention.LayerNorm.bias', 'encoder.layer.6.attention.attn.v.bias', 'encoder.layer.6.attention.attn.o.weight', 'encoder.layer.1.attention.LayerNorm.bias', 'encoder.layer.2.output.dense.bias', 'encoder.layer.5.attention.attn.v.weight', 'encoder.layer.7.output.LayerNorm.bias', 'encoder.layer.2.attention.attn.o.weight', 'encoder.layer.3.attention.LayerNorm.bias', 'encoder.layer.5.intermediate.dense.weight', 'encoder.layer.3.attention.attn.o.bias', 'encoder.layer.6.output.dense.bias', 'encoder.layer.5.output.dense.weight', 'encoder.layer.5.attention.attn.k.bias', 'encoder.layer.3.output.dense.weight', 'encoder.layer.7.attention.attn.o.bias', 'encoder.layer.3.attention.attn.o.weight', 'encoder.layer.4.intermediate.dense.bias', 'encoder.layer.2.output.LayerNorm.weight', 'encoder.layer.4.intermediate.dense.weight', 'encoder.layer.6.output.LayerNorm.bias', 'encoder.layer.7.attention.attn.v.bias']\n",
      "You should probably TRAIN this model on a down-stream task to be able to use it for predictions and inference.\n"
     ]
    },
    {
     "name": "stdout",
     "output_type": "stream",
     "text": [
      "MPNetModel(\n",
      "  (embeddings): MPNetEmbeddings(\n",
      "    (word_embeddings): Embedding(30527, 768, padding_idx=1)\n",
      "    (position_embeddings): Embedding(514, 768, padding_idx=1)\n",
      "    (LayerNorm): LayerNorm((768,), eps=1e-05, elementwise_affine=True)\n",
      "    (dropout): Dropout(p=0.1, inplace=False)\n",
      "  )\n",
      "  (encoder): MPNetEncoder(\n",
      "    (layer): ModuleList(\n",
      "      (0-7): 8 x MPNetLayer(\n",
      "        (attention): MPNetAttention(\n",
      "          (attn): MPNetSelfAttention(\n",
      "            (q): Linear(in_features=768, out_features=768, bias=True)\n",
      "            (k): Linear(in_features=768, out_features=768, bias=True)\n",
      "            (v): Linear(in_features=768, out_features=768, bias=True)\n",
      "            (o): Linear(in_features=768, out_features=768, bias=True)\n",
      "            (dropout): Dropout(p=0.1, inplace=False)\n",
      "          )\n",
      "          (LayerNorm): LayerNorm((768,), eps=1e-05, elementwise_affine=True)\n",
      "          (dropout): Dropout(p=0.1, inplace=False)\n",
      "        )\n",
      "        (intermediate): MPNetIntermediate(\n",
      "          (dense): Linear(in_features=768, out_features=3072, bias=True)\n",
      "          (intermediate_act_fn): GELUActivation()\n",
      "        )\n",
      "        (output): MPNetOutput(\n",
      "          (dense): Linear(in_features=3072, out_features=768, bias=True)\n",
      "          (LayerNorm): LayerNorm((768,), eps=1e-05, elementwise_affine=True)\n",
      "          (dropout): Dropout(p=0.1, inplace=False)\n",
      "        )\n",
      "      )\n",
      "    )\n",
      "    (relative_attention_bias): Embedding(32, 12)\n",
      "  )\n",
      "  (pooler): MPNetPooler(\n",
      "    (dense): Linear(in_features=768, out_features=768, bias=True)\n",
      "    (activation): Tanh()\n",
      "  )\n",
      ")\n"
     ]
    }
   ],
   "source": [
    "# Print the model summary to view its architecture\n",
    "print(model_8_layer)\n",
    "\n",
    "\n",
    "# Number of layers is 8 and Embedding vector dimnesion is 768 "
   ]
  },
  {
   "cell_type": "markdown",
   "id": "ed383876",
   "metadata": {},
   "source": [
    "# Response on the testing data"
   ]
  },
  {
   "cell_type": "code",
   "execution_count": 81,
   "id": "35af2610",
   "metadata": {},
   "outputs": [
    {
     "name": "stderr",
     "output_type": "stream",
     "text": [
      "Some weights of MPNetModel were not initialized from the model checkpoint at models/distilled_model_with_8_layer and are newly initialized: ['encoder.layer.5.attention.LayerNorm.weight', 'encoder.layer.5.output.dense.bias', 'encoder.layer.6.attention.attn.q.bias', 'encoder.layer.6.intermediate.dense.weight', 'encoder.layer.1.attention.attn.v.bias', 'encoder.layer.4.output.dense.weight', 'encoder.layer.5.attention.attn.v.bias', 'encoder.layer.5.attention.attn.k.weight', 'encoder.layer.2.attention.attn.k.bias', 'encoder.layer.1.attention.attn.o.weight', 'encoder.layer.1.attention.attn.v.weight', 'encoder.layer.3.output.dense.bias', 'encoder.layer.2.attention.attn.q.weight', 'encoder.layer.4.attention.LayerNorm.weight', 'encoder.layer.1.output.LayerNorm.bias', 'encoder.layer.3.output.LayerNorm.bias', 'encoder.layer.1.attention.attn.q.weight', 'encoder.layer.2.attention.attn.o.bias', 'encoder.layer.4.attention.attn.v.weight', 'encoder.layer.6.attention.attn.k.weight', 'encoder.layer.5.attention.attn.o.bias', 'encoder.layer.3.output.LayerNorm.weight', 'encoder.layer.4.output.LayerNorm.weight', 'encoder.layer.2.attention.LayerNorm.weight', 'encoder.layer.7.output.dense.weight', 'encoder.layer.4.output.LayerNorm.bias', 'encoder.layer.3.attention.attn.k.bias', 'encoder.layer.4.attention.attn.v.bias', 'encoder.layer.7.attention.attn.v.weight', 'encoder.layer.6.attention.attn.k.bias', 'encoder.layer.2.intermediate.dense.bias', 'encoder.layer.3.attention.attn.k.weight', 'encoder.layer.6.attention.attn.o.bias', 'encoder.layer.1.output.LayerNorm.weight', 'encoder.layer.6.intermediate.dense.bias', 'encoder.layer.4.attention.attn.o.weight', 'encoder.layer.3.attention.attn.v.bias', 'encoder.layer.7.attention.attn.q.weight', 'encoder.layer.5.output.LayerNorm.weight', 'encoder.layer.7.attention.attn.q.bias', 'encoder.layer.2.output.LayerNorm.bias', 'encoder.layer.7.attention.attn.k.bias', 'encoder.layer.7.intermediate.dense.weight', 'encoder.layer.4.attention.attn.k.bias', 'encoder.layer.6.attention.LayerNorm.weight', 'encoder.layer.7.output.LayerNorm.weight', 'encoder.layer.4.attention.attn.q.bias', 'encoder.layer.2.intermediate.dense.weight', 'encoder.layer.2.attention.attn.q.bias', 'encoder.layer.1.attention.attn.q.bias', 'encoder.layer.3.attention.attn.q.weight', 'encoder.layer.1.attention.attn.o.bias', 'encoder.layer.4.attention.attn.k.weight', 'encoder.layer.4.output.dense.bias', 'encoder.layer.3.intermediate.dense.weight', 'encoder.layer.2.attention.attn.k.weight', 'encoder.layer.5.attention.attn.o.weight', 'encoder.layer.7.output.dense.bias', 'encoder.layer.1.output.dense.weight', 'encoder.layer.2.attention.attn.v.bias', 'encoder.layer.5.intermediate.dense.bias', 'encoder.layer.5.output.LayerNorm.bias', 'encoder.layer.7.attention.LayerNorm.bias', 'encoder.layer.7.attention.LayerNorm.weight', 'encoder.layer.2.output.dense.weight', 'encoder.layer.3.intermediate.dense.bias', 'encoder.layer.1.attention.attn.k.weight', 'encoder.layer.1.output.dense.bias', 'encoder.layer.1.intermediate.dense.weight', 'encoder.layer.5.attention.attn.q.weight', 'encoder.layer.1.intermediate.dense.bias', 'encoder.layer.3.attention.LayerNorm.weight', 'encoder.layer.7.attention.attn.o.weight', 'encoder.layer.4.attention.attn.o.bias', 'encoder.layer.7.attention.attn.k.weight', 'encoder.layer.1.attention.attn.k.bias', 'encoder.layer.7.intermediate.dense.bias', 'encoder.layer.2.attention.LayerNorm.bias', 'encoder.layer.5.attention.attn.q.bias', 'encoder.layer.6.attention.LayerNorm.bias', 'encoder.layer.3.attention.attn.q.bias', 'encoder.layer.6.attention.attn.v.weight', 'encoder.layer.2.attention.attn.v.weight', 'encoder.layer.6.attention.attn.q.weight', 'encoder.layer.6.output.dense.weight', 'encoder.layer.1.attention.LayerNorm.weight', 'encoder.layer.4.attention.attn.q.weight', 'encoder.layer.3.attention.attn.v.weight', 'encoder.layer.6.output.LayerNorm.weight', 'encoder.layer.4.attention.LayerNorm.bias', 'encoder.layer.5.attention.LayerNorm.bias', 'encoder.layer.6.attention.attn.v.bias', 'encoder.layer.6.attention.attn.o.weight', 'encoder.layer.1.attention.LayerNorm.bias', 'encoder.layer.2.output.dense.bias', 'encoder.layer.5.attention.attn.v.weight', 'encoder.layer.7.output.LayerNorm.bias', 'encoder.layer.2.attention.attn.o.weight', 'encoder.layer.3.attention.LayerNorm.bias', 'encoder.layer.5.intermediate.dense.weight', 'encoder.layer.3.attention.attn.o.bias', 'encoder.layer.6.output.dense.bias', 'encoder.layer.5.output.dense.weight', 'encoder.layer.5.attention.attn.k.bias', 'encoder.layer.3.output.dense.weight', 'encoder.layer.7.attention.attn.o.bias', 'encoder.layer.3.attention.attn.o.weight', 'encoder.layer.4.intermediate.dense.bias', 'encoder.layer.2.output.LayerNorm.weight', 'encoder.layer.4.intermediate.dense.weight', 'encoder.layer.6.output.LayerNorm.bias', 'encoder.layer.7.attention.attn.v.bias']\n",
      "You should probably TRAIN this model on a down-stream task to be able to use it for predictions and inference.\n"
     ]
    },
    {
     "name": "stdout",
     "output_type": "stream",
     "text": [
      "(113884, 768)\n"
     ]
    }
   ],
   "source": [
    "# order in which column of databse will be present\n",
    "column_order = ['Query', 'Docstrings', 'Code','Match']\n",
    "\n",
    "#creating the dataframe for model_1 which consists of for particular query all top code and\n",
    "#match column shows whether it is correctly retrieved or not\n",
    "model_8_layer_query_response=pd.DataFrame(columns=column_order)\n",
    "\n",
    "model_8_layer=SentenceTransformer('..//models/pruned_model_with_8_layer')\n",
    "\n",
    "emb_8_layer=np.load(\"..//embeddings/embeddings_pruned_model_with_8_layer.npy\")\n",
    "\n",
    "print(emb_8_layer.shape)\n",
    "\n",
    "for i in range(len(queries)):\n",
    "    #getting the particular query from queries \n",
    "    query=queries.loc[i].Questions\n",
    "    \n",
    "    # getting the table dataframe that consists of docstring and code \n",
    "    #that has top match with query using cosine similarity\n",
    "    table=eval_object.get_top_code_and_docstring(query,emb_8_layer,model_8_layer,list_data,df)\n",
    "    \n",
    "    #adding the column query with all values as \n",
    "    table=add_column(table,query)\n",
    "    \n",
    "    #adding columns Match that defines whether the code for given query is correctly retrieved or not\n",
    "    table=add_column(table,'Match')\n",
    "    \n",
    "    #reordering the table for better view\n",
    "    table=reorder_columns(table)\n",
    "    \n",
    "    #iterating in the table\n",
    "    for index,row in table.iterrows():\n",
    "        \n",
    "        #fetching the current code for query\n",
    "        result = row['Code']\n",
    "        \n",
    "        #getting the response from claude api\n",
    "        response=eval_object.check_response(query,row['Code'])\n",
    "    \n",
    "        #Checking the value present in the response generated by the claude\n",
    "        if 'YES' in response.content:\n",
    "            response='YES'\n",
    "        else :\n",
    "            response='NO'\n",
    "            \n",
    "        #Giving the value of response in match column for current row\n",
    "        table.at[index,'Match']=response\n",
    "    \n",
    "    #merging the table dataframe and model_1_query_response in single dataframe\n",
    "    model_8_layer_query_response= pd.concat([model_8_layer_query_response, table], ignore_index=True)"
   ]
  },
  {
   "cell_type": "markdown",
   "id": "a8163531",
   "metadata": {},
   "source": [
    "# 10 layer Model"
   ]
  },
  {
   "cell_type": "code",
   "execution_count": 34,
   "id": "bdd69b58",
   "metadata": {},
   "outputs": [],
   "source": [
    "# layers to keep in base model\n",
    "layers=[0,2,3,4,5,7,8,9,10,11]\n",
    "\n",
    "# creating the object of distillation class\n",
    "prun_object=pruning(layers,teacher_model)\n",
    "\n",
    "# function of distillation that make the model with 10 layer\n",
    "prun_object.pruning_model()"
   ]
  },
  {
   "cell_type": "markdown",
   "id": "b6f55d8c",
   "metadata": {},
   "source": [
    "# Loading the model and generatting the embeddings"
   ]
  },
  {
   "cell_type": "code",
   "execution_count": 35,
   "id": "7254a886",
   "metadata": {},
   "outputs": [
    {
     "name": "stderr",
     "output_type": "stream",
     "text": [
      "Some weights of MPNetModel were not initialized from the model checkpoint at models/distilled_model_with_10_layer and are newly initialized: ['encoder.layer.5.attention.LayerNorm.weight', 'encoder.layer.5.output.dense.bias', 'encoder.layer.6.attention.attn.q.bias', 'encoder.layer.9.output.LayerNorm.bias', 'encoder.layer.6.intermediate.dense.weight', 'encoder.layer.1.attention.attn.v.bias', 'encoder.layer.4.output.dense.weight', 'encoder.layer.9.output.LayerNorm.weight', 'encoder.layer.5.attention.attn.v.bias', 'encoder.layer.5.attention.attn.k.weight', 'encoder.layer.8.attention.attn.o.weight', 'encoder.layer.2.attention.attn.k.bias', 'encoder.layer.1.attention.attn.o.weight', 'encoder.layer.1.attention.attn.v.weight', 'encoder.layer.3.output.dense.bias', 'encoder.layer.2.attention.attn.q.weight', 'encoder.layer.9.attention.attn.k.weight', 'encoder.layer.8.intermediate.dense.bias', 'encoder.layer.9.attention.attn.k.bias', 'encoder.layer.4.attention.LayerNorm.weight', 'encoder.layer.1.output.LayerNorm.bias', 'encoder.layer.8.attention.LayerNorm.bias', 'encoder.layer.3.output.LayerNorm.bias', 'encoder.layer.8.output.LayerNorm.bias', 'encoder.layer.1.attention.attn.q.weight', 'encoder.layer.2.attention.attn.o.bias', 'encoder.layer.4.attention.attn.v.weight', 'encoder.layer.6.attention.attn.k.weight', 'encoder.layer.9.attention.LayerNorm.weight', 'encoder.layer.5.attention.attn.o.bias', 'encoder.layer.3.output.LayerNorm.weight', 'encoder.layer.8.attention.attn.q.weight', 'encoder.layer.4.output.LayerNorm.weight', 'encoder.layer.8.attention.attn.k.bias', 'encoder.layer.2.attention.LayerNorm.weight', 'encoder.layer.7.output.dense.weight', 'encoder.layer.4.output.LayerNorm.bias', 'encoder.layer.3.attention.attn.k.bias', 'encoder.layer.4.attention.attn.v.bias', 'encoder.layer.7.attention.attn.v.weight', 'encoder.layer.6.attention.attn.k.bias', 'encoder.layer.2.intermediate.dense.bias', 'encoder.layer.3.attention.attn.k.weight', 'encoder.layer.6.attention.attn.o.bias', 'encoder.layer.8.attention.attn.q.bias', 'encoder.layer.1.output.LayerNorm.weight', 'encoder.layer.6.intermediate.dense.bias', 'encoder.layer.4.attention.attn.o.weight', 'encoder.layer.3.attention.attn.v.bias', 'encoder.layer.8.output.dense.weight', 'encoder.layer.7.attention.attn.q.weight', 'encoder.layer.5.output.LayerNorm.weight', 'encoder.layer.7.attention.attn.q.bias', 'encoder.layer.2.output.LayerNorm.bias', 'encoder.layer.7.attention.attn.k.bias', 'encoder.layer.7.intermediate.dense.weight', 'encoder.layer.4.attention.attn.k.bias', 'encoder.layer.9.attention.attn.o.bias', 'encoder.layer.6.attention.LayerNorm.weight', 'encoder.layer.7.output.LayerNorm.weight', 'encoder.layer.4.attention.attn.q.bias', 'encoder.layer.2.intermediate.dense.weight', 'encoder.layer.8.attention.attn.o.bias', 'encoder.layer.2.attention.attn.q.bias', 'encoder.layer.8.intermediate.dense.weight', 'encoder.layer.1.attention.attn.q.bias', 'encoder.layer.3.attention.attn.q.weight', 'encoder.layer.1.attention.attn.o.bias', 'encoder.layer.9.intermediate.dense.weight', 'encoder.layer.4.attention.attn.k.weight', 'encoder.layer.4.output.dense.bias', 'encoder.layer.3.intermediate.dense.weight', 'encoder.layer.2.attention.attn.k.weight', 'encoder.layer.5.attention.attn.o.weight', 'encoder.layer.7.output.dense.bias', 'encoder.layer.1.output.dense.weight', 'encoder.layer.9.attention.attn.v.weight', 'encoder.layer.2.attention.attn.v.bias', 'encoder.layer.5.intermediate.dense.bias', 'encoder.layer.5.output.LayerNorm.bias', 'encoder.layer.9.intermediate.dense.bias', 'encoder.layer.7.attention.LayerNorm.bias', 'encoder.layer.7.attention.LayerNorm.weight', 'encoder.layer.2.output.dense.weight', 'encoder.layer.8.output.dense.bias', 'encoder.layer.3.intermediate.dense.bias', 'encoder.layer.1.attention.attn.k.weight', 'encoder.layer.1.output.dense.bias', 'encoder.layer.8.attention.attn.k.weight', 'encoder.layer.9.attention.attn.v.bias', 'encoder.layer.1.intermediate.dense.weight', 'encoder.layer.9.attention.LayerNorm.bias', 'encoder.layer.5.attention.attn.q.weight', 'encoder.layer.8.output.LayerNorm.weight', 'encoder.layer.1.intermediate.dense.bias', 'encoder.layer.9.attention.attn.q.weight', 'encoder.layer.3.attention.LayerNorm.weight', 'encoder.layer.7.attention.attn.o.weight', 'encoder.layer.4.attention.attn.o.bias', 'encoder.layer.8.attention.attn.v.bias', 'encoder.layer.7.attention.attn.k.weight', 'encoder.layer.1.attention.attn.k.bias', 'encoder.layer.7.intermediate.dense.bias', 'encoder.layer.9.output.dense.weight', 'encoder.layer.2.attention.LayerNorm.bias', 'encoder.layer.5.attention.attn.q.bias', 'encoder.layer.6.attention.LayerNorm.bias', 'encoder.layer.3.attention.attn.q.bias', 'encoder.layer.6.attention.attn.v.weight', 'encoder.layer.2.attention.attn.v.weight', 'encoder.layer.6.attention.attn.q.weight', 'encoder.layer.6.output.dense.weight', 'encoder.layer.1.attention.LayerNorm.weight', 'encoder.layer.4.attention.attn.q.weight', 'encoder.layer.3.attention.attn.v.weight', 'encoder.layer.6.output.LayerNorm.weight', 'encoder.layer.4.attention.LayerNorm.bias', 'encoder.layer.5.attention.LayerNorm.bias', 'encoder.layer.6.attention.attn.v.bias', 'encoder.layer.8.attention.LayerNorm.weight', 'encoder.layer.6.attention.attn.o.weight', 'encoder.layer.1.attention.LayerNorm.bias', 'encoder.layer.2.output.dense.bias', 'encoder.layer.5.attention.attn.v.weight', 'encoder.layer.7.output.LayerNorm.bias', 'encoder.layer.8.attention.attn.v.weight', 'encoder.layer.9.attention.attn.o.weight', 'encoder.layer.2.attention.attn.o.weight', 'encoder.layer.3.attention.LayerNorm.bias', 'encoder.layer.5.intermediate.dense.weight', 'encoder.layer.3.attention.attn.o.bias', 'encoder.layer.9.output.dense.bias', 'encoder.layer.6.output.dense.bias', 'encoder.layer.5.output.dense.weight', 'encoder.layer.5.attention.attn.k.bias', 'encoder.layer.3.output.dense.weight', 'encoder.layer.7.attention.attn.o.bias', 'encoder.layer.3.attention.attn.o.weight', 'encoder.layer.4.intermediate.dense.bias', 'encoder.layer.2.output.LayerNorm.weight', 'encoder.layer.4.intermediate.dense.weight', 'encoder.layer.6.output.LayerNorm.bias', 'encoder.layer.9.attention.attn.q.bias', 'encoder.layer.7.attention.attn.v.bias']\n",
      "You should probably TRAIN this model on a down-stream task to be able to use it for predictions and inference.\n"
     ]
    },
    {
     "name": "stdout",
     "output_type": "stream",
     "text": [
      "starting_time : 1713349285.19\n",
      "ending_time : 1713349821.06\n",
      "Embedding_shape : (113884, 768)\n",
      "total_time_taken for embedding generation:  535.87 seconds \n"
     ]
    }
   ],
   "source": [
    "model=SentenceTransformer('..//models/pruned_model_with_10_layer')\n",
    "func_object.get_model_embedding(model,\"pruned_model_with_10_layer\")"
   ]
  },
  {
   "cell_type": "markdown",
   "id": "f23d9a52",
   "metadata": {},
   "source": [
    "# size of model"
   ]
  },
  {
   "cell_type": "code",
   "execution_count": 36,
   "id": "d58d2605",
   "metadata": {},
   "outputs": [
    {
     "name": "stdout",
     "output_type": "stream",
     "text": [
      "Size of 10 layer model is 121.15 MB\n"
     ]
    }
   ],
   "source": [
    "size=func_object.get_model_size(\"..//models/pruned_model_with_10_layer\")\n",
    "\n",
    "print(f\"Size of 10 layer model is {(size/(1024*1024)):.2f} MB\")"
   ]
  },
  {
   "cell_type": "markdown",
   "id": "1a593c68",
   "metadata": {},
   "source": [
    "# size of embeddings"
   ]
  },
  {
   "cell_type": "code",
   "execution_count": 37,
   "id": "2da08ce6",
   "metadata": {},
   "outputs": [
    {
     "name": "stdout",
     "output_type": "stream",
     "text": [
      "Size of embeddings of 10 layer model is 333.64 MB\n"
     ]
    }
   ],
   "source": [
    "size_of_embeddings=func_object.get_embedding_size(\"..//embeddings/embeddings_pruned_model_with_10_layer.npy\")\n",
    "\n",
    "print(f\"Size of embeddings of 10 layer model is {(size_of_embeddings/(1024*1024)):.2f} MB\")"
   ]
  },
  {
   "cell_type": "markdown",
   "id": "cf1628e0",
   "metadata": {},
   "source": [
    "# loading the values in different lists"
   ]
  },
  {
   "cell_type": "code",
   "execution_count": 155,
   "id": "b08302f3",
   "metadata": {},
   "outputs": [],
   "source": [
    "time_embedding_generation.append(535.87)\n",
    "emebdding_size_MB.append(333.64)\n",
    "model_size_MB.append(121.15)\n",
    "layers.append(10)"
   ]
  },
  {
   "cell_type": "markdown",
   "id": "f4865eba",
   "metadata": {},
   "source": [
    "# Architecture of 10 layer model"
   ]
  },
  {
   "cell_type": "code",
   "execution_count": 45,
   "id": "2726ebee",
   "metadata": {},
   "outputs": [
    {
     "name": "stderr",
     "output_type": "stream",
     "text": [
      "Some weights of MPNetModel were not initialized from the model checkpoint at models/distilled_model_with_10_layer and are newly initialized: ['encoder.layer.5.attention.LayerNorm.weight', 'encoder.layer.5.output.dense.bias', 'encoder.layer.6.attention.attn.q.bias', 'encoder.layer.9.output.LayerNorm.bias', 'encoder.layer.6.intermediate.dense.weight', 'encoder.layer.1.attention.attn.v.bias', 'encoder.layer.4.output.dense.weight', 'encoder.layer.9.output.LayerNorm.weight', 'encoder.layer.5.attention.attn.v.bias', 'encoder.layer.5.attention.attn.k.weight', 'encoder.layer.8.attention.attn.o.weight', 'encoder.layer.2.attention.attn.k.bias', 'encoder.layer.1.attention.attn.o.weight', 'encoder.layer.1.attention.attn.v.weight', 'encoder.layer.3.output.dense.bias', 'encoder.layer.2.attention.attn.q.weight', 'encoder.layer.9.attention.attn.k.weight', 'encoder.layer.8.intermediate.dense.bias', 'encoder.layer.9.attention.attn.k.bias', 'encoder.layer.4.attention.LayerNorm.weight', 'encoder.layer.1.output.LayerNorm.bias', 'encoder.layer.8.attention.LayerNorm.bias', 'encoder.layer.3.output.LayerNorm.bias', 'encoder.layer.8.output.LayerNorm.bias', 'encoder.layer.1.attention.attn.q.weight', 'encoder.layer.2.attention.attn.o.bias', 'encoder.layer.4.attention.attn.v.weight', 'encoder.layer.6.attention.attn.k.weight', 'encoder.layer.9.attention.LayerNorm.weight', 'encoder.layer.5.attention.attn.o.bias', 'encoder.layer.3.output.LayerNorm.weight', 'encoder.layer.8.attention.attn.q.weight', 'encoder.layer.4.output.LayerNorm.weight', 'encoder.layer.8.attention.attn.k.bias', 'encoder.layer.2.attention.LayerNorm.weight', 'encoder.layer.7.output.dense.weight', 'encoder.layer.4.output.LayerNorm.bias', 'encoder.layer.3.attention.attn.k.bias', 'encoder.layer.4.attention.attn.v.bias', 'encoder.layer.7.attention.attn.v.weight', 'encoder.layer.6.attention.attn.k.bias', 'encoder.layer.2.intermediate.dense.bias', 'encoder.layer.3.attention.attn.k.weight', 'encoder.layer.6.attention.attn.o.bias', 'encoder.layer.8.attention.attn.q.bias', 'encoder.layer.1.output.LayerNorm.weight', 'encoder.layer.6.intermediate.dense.bias', 'encoder.layer.4.attention.attn.o.weight', 'encoder.layer.3.attention.attn.v.bias', 'encoder.layer.8.output.dense.weight', 'encoder.layer.7.attention.attn.q.weight', 'encoder.layer.5.output.LayerNorm.weight', 'encoder.layer.7.attention.attn.q.bias', 'encoder.layer.2.output.LayerNorm.bias', 'encoder.layer.7.attention.attn.k.bias', 'encoder.layer.7.intermediate.dense.weight', 'encoder.layer.4.attention.attn.k.bias', 'encoder.layer.9.attention.attn.o.bias', 'encoder.layer.6.attention.LayerNorm.weight', 'encoder.layer.7.output.LayerNorm.weight', 'encoder.layer.4.attention.attn.q.bias', 'encoder.layer.2.intermediate.dense.weight', 'encoder.layer.8.attention.attn.o.bias', 'encoder.layer.2.attention.attn.q.bias', 'encoder.layer.8.intermediate.dense.weight', 'encoder.layer.1.attention.attn.q.bias', 'encoder.layer.3.attention.attn.q.weight', 'encoder.layer.1.attention.attn.o.bias', 'encoder.layer.9.intermediate.dense.weight', 'encoder.layer.4.attention.attn.k.weight', 'encoder.layer.4.output.dense.bias', 'encoder.layer.3.intermediate.dense.weight', 'encoder.layer.2.attention.attn.k.weight', 'encoder.layer.5.attention.attn.o.weight', 'encoder.layer.7.output.dense.bias', 'encoder.layer.1.output.dense.weight', 'encoder.layer.9.attention.attn.v.weight', 'encoder.layer.2.attention.attn.v.bias', 'encoder.layer.5.intermediate.dense.bias', 'encoder.layer.5.output.LayerNorm.bias', 'encoder.layer.9.intermediate.dense.bias', 'encoder.layer.7.attention.LayerNorm.bias', 'encoder.layer.7.attention.LayerNorm.weight', 'encoder.layer.2.output.dense.weight', 'encoder.layer.8.output.dense.bias', 'encoder.layer.3.intermediate.dense.bias', 'encoder.layer.1.attention.attn.k.weight', 'encoder.layer.1.output.dense.bias', 'encoder.layer.8.attention.attn.k.weight', 'encoder.layer.9.attention.attn.v.bias', 'encoder.layer.1.intermediate.dense.weight', 'encoder.layer.9.attention.LayerNorm.bias', 'encoder.layer.5.attention.attn.q.weight', 'encoder.layer.8.output.LayerNorm.weight', 'encoder.layer.1.intermediate.dense.bias', 'encoder.layer.9.attention.attn.q.weight', 'encoder.layer.3.attention.LayerNorm.weight', 'encoder.layer.7.attention.attn.o.weight', 'encoder.layer.4.attention.attn.o.bias', 'encoder.layer.8.attention.attn.v.bias', 'encoder.layer.7.attention.attn.k.weight', 'encoder.layer.1.attention.attn.k.bias', 'encoder.layer.7.intermediate.dense.bias', 'encoder.layer.9.output.dense.weight', 'encoder.layer.2.attention.LayerNorm.bias', 'encoder.layer.5.attention.attn.q.bias', 'encoder.layer.6.attention.LayerNorm.bias', 'encoder.layer.3.attention.attn.q.bias', 'encoder.layer.6.attention.attn.v.weight', 'encoder.layer.2.attention.attn.v.weight', 'encoder.layer.6.attention.attn.q.weight', 'encoder.layer.6.output.dense.weight', 'encoder.layer.1.attention.LayerNorm.weight', 'encoder.layer.4.attention.attn.q.weight', 'encoder.layer.3.attention.attn.v.weight', 'encoder.layer.6.output.LayerNorm.weight', 'encoder.layer.4.attention.LayerNorm.bias', 'encoder.layer.5.attention.LayerNorm.bias', 'encoder.layer.6.attention.attn.v.bias', 'encoder.layer.8.attention.LayerNorm.weight', 'encoder.layer.6.attention.attn.o.weight', 'encoder.layer.1.attention.LayerNorm.bias', 'encoder.layer.2.output.dense.bias', 'encoder.layer.5.attention.attn.v.weight', 'encoder.layer.7.output.LayerNorm.bias', 'encoder.layer.8.attention.attn.v.weight', 'encoder.layer.9.attention.attn.o.weight', 'encoder.layer.2.attention.attn.o.weight', 'encoder.layer.3.attention.LayerNorm.bias', 'encoder.layer.5.intermediate.dense.weight', 'encoder.layer.3.attention.attn.o.bias', 'encoder.layer.9.output.dense.bias', 'encoder.layer.6.output.dense.bias', 'encoder.layer.5.output.dense.weight', 'encoder.layer.5.attention.attn.k.bias', 'encoder.layer.3.output.dense.weight', 'encoder.layer.7.attention.attn.o.bias', 'encoder.layer.3.attention.attn.o.weight', 'encoder.layer.4.intermediate.dense.bias', 'encoder.layer.2.output.LayerNorm.weight', 'encoder.layer.4.intermediate.dense.weight', 'encoder.layer.6.output.LayerNorm.bias', 'encoder.layer.9.attention.attn.q.bias', 'encoder.layer.7.attention.attn.v.bias']\n",
      "You should probably TRAIN this model on a down-stream task to be able to use it for predictions and inference.\n"
     ]
    },
    {
     "name": "stdout",
     "output_type": "stream",
     "text": [
      "MPNetModel(\n",
      "  (embeddings): MPNetEmbeddings(\n",
      "    (word_embeddings): Embedding(30527, 768, padding_idx=1)\n",
      "    (position_embeddings): Embedding(514, 768, padding_idx=1)\n",
      "    (LayerNorm): LayerNorm((768,), eps=1e-05, elementwise_affine=True)\n",
      "    (dropout): Dropout(p=0.1, inplace=False)\n",
      "  )\n",
      "  (encoder): MPNetEncoder(\n",
      "    (layer): ModuleList(\n",
      "      (0-9): 10 x MPNetLayer(\n",
      "        (attention): MPNetAttention(\n",
      "          (attn): MPNetSelfAttention(\n",
      "            (q): Linear(in_features=768, out_features=768, bias=True)\n",
      "            (k): Linear(in_features=768, out_features=768, bias=True)\n",
      "            (v): Linear(in_features=768, out_features=768, bias=True)\n",
      "            (o): Linear(in_features=768, out_features=768, bias=True)\n",
      "            (dropout): Dropout(p=0.1, inplace=False)\n",
      "          )\n",
      "          (LayerNorm): LayerNorm((768,), eps=1e-05, elementwise_affine=True)\n",
      "          (dropout): Dropout(p=0.1, inplace=False)\n",
      "        )\n",
      "        (intermediate): MPNetIntermediate(\n",
      "          (dense): Linear(in_features=768, out_features=3072, bias=True)\n",
      "          (intermediate_act_fn): GELUActivation()\n",
      "        )\n",
      "        (output): MPNetOutput(\n",
      "          (dense): Linear(in_features=3072, out_features=768, bias=True)\n",
      "          (LayerNorm): LayerNorm((768,), eps=1e-05, elementwise_affine=True)\n",
      "          (dropout): Dropout(p=0.1, inplace=False)\n",
      "        )\n",
      "      )\n",
      "    )\n",
      "    (relative_attention_bias): Embedding(32, 12)\n",
      "  )\n",
      "  (pooler): MPNetPooler(\n",
      "    (dense): Linear(in_features=768, out_features=768, bias=True)\n",
      "    (activation): Tanh()\n",
      "  )\n",
      ")\n"
     ]
    }
   ],
   "source": [
    "# Print the model summary to view its architecture\n",
    "print(model_10_layer)\n",
    "\n",
    "# Number of layers is 8 and Embedding vector dimnesion is 768 "
   ]
  },
  {
   "cell_type": "markdown",
   "id": "6469a192",
   "metadata": {},
   "source": [
    "# Response on the testing data"
   ]
  },
  {
   "cell_type": "code",
   "execution_count": 82,
   "id": "474e437f",
   "metadata": {},
   "outputs": [
    {
     "name": "stderr",
     "output_type": "stream",
     "text": [
      "Some weights of MPNetModel were not initialized from the model checkpoint at models/distilled_model_with_10_layer and are newly initialized: ['encoder.layer.5.attention.LayerNorm.weight', 'encoder.layer.5.output.dense.bias', 'encoder.layer.6.attention.attn.q.bias', 'encoder.layer.9.output.LayerNorm.bias', 'encoder.layer.6.intermediate.dense.weight', 'encoder.layer.1.attention.attn.v.bias', 'encoder.layer.4.output.dense.weight', 'encoder.layer.9.output.LayerNorm.weight', 'encoder.layer.5.attention.attn.v.bias', 'encoder.layer.5.attention.attn.k.weight', 'encoder.layer.8.attention.attn.o.weight', 'encoder.layer.2.attention.attn.k.bias', 'encoder.layer.1.attention.attn.o.weight', 'encoder.layer.1.attention.attn.v.weight', 'encoder.layer.3.output.dense.bias', 'encoder.layer.2.attention.attn.q.weight', 'encoder.layer.9.attention.attn.k.weight', 'encoder.layer.8.intermediate.dense.bias', 'encoder.layer.9.attention.attn.k.bias', 'encoder.layer.4.attention.LayerNorm.weight', 'encoder.layer.1.output.LayerNorm.bias', 'encoder.layer.8.attention.LayerNorm.bias', 'encoder.layer.3.output.LayerNorm.bias', 'encoder.layer.8.output.LayerNorm.bias', 'encoder.layer.1.attention.attn.q.weight', 'encoder.layer.2.attention.attn.o.bias', 'encoder.layer.4.attention.attn.v.weight', 'encoder.layer.6.attention.attn.k.weight', 'encoder.layer.9.attention.LayerNorm.weight', 'encoder.layer.5.attention.attn.o.bias', 'encoder.layer.3.output.LayerNorm.weight', 'encoder.layer.8.attention.attn.q.weight', 'encoder.layer.4.output.LayerNorm.weight', 'encoder.layer.8.attention.attn.k.bias', 'encoder.layer.2.attention.LayerNorm.weight', 'encoder.layer.7.output.dense.weight', 'encoder.layer.4.output.LayerNorm.bias', 'encoder.layer.3.attention.attn.k.bias', 'encoder.layer.4.attention.attn.v.bias', 'encoder.layer.7.attention.attn.v.weight', 'encoder.layer.6.attention.attn.k.bias', 'encoder.layer.2.intermediate.dense.bias', 'encoder.layer.3.attention.attn.k.weight', 'encoder.layer.6.attention.attn.o.bias', 'encoder.layer.8.attention.attn.q.bias', 'encoder.layer.1.output.LayerNorm.weight', 'encoder.layer.6.intermediate.dense.bias', 'encoder.layer.4.attention.attn.o.weight', 'encoder.layer.3.attention.attn.v.bias', 'encoder.layer.8.output.dense.weight', 'encoder.layer.7.attention.attn.q.weight', 'encoder.layer.5.output.LayerNorm.weight', 'encoder.layer.7.attention.attn.q.bias', 'encoder.layer.2.output.LayerNorm.bias', 'encoder.layer.7.attention.attn.k.bias', 'encoder.layer.7.intermediate.dense.weight', 'encoder.layer.4.attention.attn.k.bias', 'encoder.layer.9.attention.attn.o.bias', 'encoder.layer.6.attention.LayerNorm.weight', 'encoder.layer.7.output.LayerNorm.weight', 'encoder.layer.4.attention.attn.q.bias', 'encoder.layer.2.intermediate.dense.weight', 'encoder.layer.8.attention.attn.o.bias', 'encoder.layer.2.attention.attn.q.bias', 'encoder.layer.8.intermediate.dense.weight', 'encoder.layer.1.attention.attn.q.bias', 'encoder.layer.3.attention.attn.q.weight', 'encoder.layer.1.attention.attn.o.bias', 'encoder.layer.9.intermediate.dense.weight', 'encoder.layer.4.attention.attn.k.weight', 'encoder.layer.4.output.dense.bias', 'encoder.layer.3.intermediate.dense.weight', 'encoder.layer.2.attention.attn.k.weight', 'encoder.layer.5.attention.attn.o.weight', 'encoder.layer.7.output.dense.bias', 'encoder.layer.1.output.dense.weight', 'encoder.layer.9.attention.attn.v.weight', 'encoder.layer.2.attention.attn.v.bias', 'encoder.layer.5.intermediate.dense.bias', 'encoder.layer.5.output.LayerNorm.bias', 'encoder.layer.9.intermediate.dense.bias', 'encoder.layer.7.attention.LayerNorm.bias', 'encoder.layer.7.attention.LayerNorm.weight', 'encoder.layer.2.output.dense.weight', 'encoder.layer.8.output.dense.bias', 'encoder.layer.3.intermediate.dense.bias', 'encoder.layer.1.attention.attn.k.weight', 'encoder.layer.1.output.dense.bias', 'encoder.layer.8.attention.attn.k.weight', 'encoder.layer.9.attention.attn.v.bias', 'encoder.layer.1.intermediate.dense.weight', 'encoder.layer.9.attention.LayerNorm.bias', 'encoder.layer.5.attention.attn.q.weight', 'encoder.layer.8.output.LayerNorm.weight', 'encoder.layer.1.intermediate.dense.bias', 'encoder.layer.9.attention.attn.q.weight', 'encoder.layer.3.attention.LayerNorm.weight', 'encoder.layer.7.attention.attn.o.weight', 'encoder.layer.4.attention.attn.o.bias', 'encoder.layer.8.attention.attn.v.bias', 'encoder.layer.7.attention.attn.k.weight', 'encoder.layer.1.attention.attn.k.bias', 'encoder.layer.7.intermediate.dense.bias', 'encoder.layer.9.output.dense.weight', 'encoder.layer.2.attention.LayerNorm.bias', 'encoder.layer.5.attention.attn.q.bias', 'encoder.layer.6.attention.LayerNorm.bias', 'encoder.layer.3.attention.attn.q.bias', 'encoder.layer.6.attention.attn.v.weight', 'encoder.layer.2.attention.attn.v.weight', 'encoder.layer.6.attention.attn.q.weight', 'encoder.layer.6.output.dense.weight', 'encoder.layer.1.attention.LayerNorm.weight', 'encoder.layer.4.attention.attn.q.weight', 'encoder.layer.3.attention.attn.v.weight', 'encoder.layer.6.output.LayerNorm.weight', 'encoder.layer.4.attention.LayerNorm.bias', 'encoder.layer.5.attention.LayerNorm.bias', 'encoder.layer.6.attention.attn.v.bias', 'encoder.layer.8.attention.LayerNorm.weight', 'encoder.layer.6.attention.attn.o.weight', 'encoder.layer.1.attention.LayerNorm.bias', 'encoder.layer.2.output.dense.bias', 'encoder.layer.5.attention.attn.v.weight', 'encoder.layer.7.output.LayerNorm.bias', 'encoder.layer.8.attention.attn.v.weight', 'encoder.layer.9.attention.attn.o.weight', 'encoder.layer.2.attention.attn.o.weight', 'encoder.layer.3.attention.LayerNorm.bias', 'encoder.layer.5.intermediate.dense.weight', 'encoder.layer.3.attention.attn.o.bias', 'encoder.layer.9.output.dense.bias', 'encoder.layer.6.output.dense.bias', 'encoder.layer.5.output.dense.weight', 'encoder.layer.5.attention.attn.k.bias', 'encoder.layer.3.output.dense.weight', 'encoder.layer.7.attention.attn.o.bias', 'encoder.layer.3.attention.attn.o.weight', 'encoder.layer.4.intermediate.dense.bias', 'encoder.layer.2.output.LayerNorm.weight', 'encoder.layer.4.intermediate.dense.weight', 'encoder.layer.6.output.LayerNorm.bias', 'encoder.layer.9.attention.attn.q.bias', 'encoder.layer.7.attention.attn.v.bias']\n",
      "You should probably TRAIN this model on a down-stream task to be able to use it for predictions and inference.\n"
     ]
    },
    {
     "name": "stdout",
     "output_type": "stream",
     "text": [
      "(113884, 768)\n"
     ]
    }
   ],
   "source": [
    "# order in which column of databse will be present\n",
    "column_order = ['Query', 'Docstrings', 'Code','Match']\n",
    "\n",
    "#creating the dataframe for model_1 which consists of for particular query all top code and\n",
    "#match column shows whether it is correctly retrieved or not\n",
    "model_10_layer_query_response=pd.DataFrame(columns=column_order)\n",
    "\n",
    "model_10_layer=SentenceTransformer('..//models/pruned_model_with_10_layer')\n",
    "\n",
    "emb_10_layer=np.load(\"..//embeddings/embeddings_pruned_model_with_10_layer.npy\")\n",
    "\n",
    "print(emb_10_layer.shape)\n",
    "\n",
    "for i in range(len(queries)):\n",
    "    #getting the particular query from queries \n",
    "    query=queries.loc[i].Questions\n",
    "    \n",
    "    # getting the table dataframe that consists of docstring and code \n",
    "    #that has top match with query using cosine similarity\n",
    "    table=eval_object.get_top_code_and_docstring(query,emb_10_layer,model_10_layer,list_data,df)\n",
    "    \n",
    "    #adding the column query with all values as \n",
    "    table=add_column(table,query)\n",
    "    \n",
    "    #adding columns Match that defines whether the code for given query is correctly retrieved or not\n",
    "    table=add_column(table,'Match')\n",
    "    \n",
    "    #reordering the table for better view\n",
    "    table=reorder_columns(table)\n",
    "    \n",
    "    #iterating in the table\n",
    "    for index,row in table.iterrows():\n",
    "        \n",
    "        #fetching the current code for query\n",
    "        result = row['Code']\n",
    "        \n",
    "        #getting the response from claude api\n",
    "        response=eval_object.check_response(query,row['Code'])\n",
    "    \n",
    "        #Checking the value present in the response generated by the claude\n",
    "        if 'YES' in response.content:\n",
    "            response='YES'\n",
    "        else :\n",
    "            response='NO'\n",
    "            \n",
    "        #Giving the value of response in match column for current row\n",
    "        table.at[index,'Match']=response\n",
    "    \n",
    "    #merging the table dataframe and model_1_query_response in single dataframe\n",
    "    model_10_layer_query_response= pd.concat([model_10_layer_query_response, table], ignore_index=True)"
   ]
  },
  {
   "cell_type": "markdown",
   "id": "c784a36f",
   "metadata": {},
   "source": [
    "# Base Model with 12 Layers"
   ]
  },
  {
   "cell_type": "code",
   "execution_count": 46,
   "id": "3c8db622",
   "metadata": {},
   "outputs": [
    {
     "name": "stdout",
     "output_type": "stream",
     "text": [
      "starting_time : 1713351176.98\n",
      "ending_time : 1713351830.03\n",
      "Embedding_shape : (113884, 768)\n",
      "total_time_taken for embedding generation:  653.05 seconds \n"
     ]
    }
   ],
   "source": [
    "base_model=SentenceTransformer('sentence-transformers/all-mpnet-base-v2')\n",
    "func_object.get_model_embedding(base_model,\"all_mpnet_base_v2\")"
   ]
  },
  {
   "cell_type": "markdown",
   "id": "519d07fa",
   "metadata": {},
   "source": [
    "# size of embeddings"
   ]
  },
  {
   "cell_type": "code",
   "execution_count": 157,
   "id": "746ce9dc",
   "metadata": {},
   "outputs": [
    {
     "name": "stdout",
     "output_type": "stream",
     "text": [
      "Size of embeddings of 10 layer model is 333.64 MB\n"
     ]
    }
   ],
   "source": [
    "size_of_embeddings=func_object.get_embedding_size(\"..//embeddings/embeddings_all_mpnet_base_v2.npy\")\n",
    "\n",
    "print(f\"Size of embeddings of 10 layer model is {(size_of_embeddings/(1024*1024)):.2f} MB\")"
   ]
  },
  {
   "cell_type": "markdown",
   "id": "279e8640",
   "metadata": {},
   "source": [
    "# loading the values in lists"
   ]
  },
  {
   "cell_type": "code",
   "execution_count": 158,
   "id": "7e6e3893",
   "metadata": {},
   "outputs": [],
   "source": [
    "time_embedding_generation.append(653.05)\n",
    "emebdding_size_MB.append(333.64)\n",
    "model_size_MB.append(450)\n",
    "layers.append(12)"
   ]
  },
  {
   "cell_type": "markdown",
   "id": "a6f09eb7",
   "metadata": {},
   "source": [
    "# response for the testing data"
   ]
  },
  {
   "cell_type": "code",
   "execution_count": 85,
   "id": "f1f8883f",
   "metadata": {},
   "outputs": [
    {
     "name": "stdout",
     "output_type": "stream",
     "text": [
      "(113884, 768)\n"
     ]
    }
   ],
   "source": [
    "# order in which column of databse will be present\n",
    "column_order = ['Query', 'Docstrings', 'Code','Match']\n",
    "\n",
    "#creating the dataframe for model_1 which consists of for particular query all top code and\n",
    "#match column shows whether it is correctly retrieved or not\n",
    "base_model_query_response=pd.DataFrame(columns=column_order)\n",
    "\n",
    "base_model=SentenceTransformer('sentence-transformers/all-mpnet-base-v2')\n",
    "\n",
    "emb_base_model=np.load(\"..//embeddings/embeddings_all_mpnet_base_v2.npy\")\n",
    "\n",
    "print(emb_10_layer.shape)\n",
    "\n",
    "for i in range(len(queries)):\n",
    "    #getting the particular query from queries \n",
    "    query=queries.loc[i].Questions\n",
    "    \n",
    "    # getting the table dataframe that consists of docstring and code \n",
    "    #that has top match with query using cosine similarity\n",
    "    table=eval_object.get_top_code_and_docstring(query,emb_base_model,base_model,list_data,df)\n",
    "    \n",
    "    #adding the column query with all values as \n",
    "    table=add_column(table,query)\n",
    "    \n",
    "    #adding columns Match that defines whether the code for given query is correctly retrieved or not\n",
    "    table=add_column(table,'Match')\n",
    "    \n",
    "    #reordering the table for better view\n",
    "    table=reorder_columns(table)\n",
    "    \n",
    "    #iterating in the table\n",
    "    for index,row in table.iterrows():\n",
    "        \n",
    "        #fetching the current code for query\n",
    "        result = row['Code']\n",
    "        \n",
    "        #getting the response from claude api\n",
    "        response=eval_object.check_response(query,row['Code'])\n",
    "    \n",
    "        #Checking the value present in the response generated by the claude\n",
    "        if 'YES' in response.content:\n",
    "            response='YES'\n",
    "        else :\n",
    "            response='NO'\n",
    "            \n",
    "        #Giving the value of response in match column for current row\n",
    "        table.at[index,'Match']=response\n",
    "    \n",
    "    #merging the table dataframe and model_1_query_response in single dataframe\n",
    "    base_model_query_response= pd.concat([base_model_query_response, table], ignore_index=True)"
   ]
  },
  {
   "cell_type": "markdown",
   "id": "47770e79",
   "metadata": {},
   "source": [
    "# MAP of 4 layer model"
   ]
  },
  {
   "cell_type": "code",
   "execution_count": 197,
   "id": "3c11ab65",
   "metadata": {},
   "outputs": [
    {
     "name": "stdout",
     "output_type": "stream",
     "text": [
      "MAP@10 (mean average precision) of 4 layer model : 61.40350877192983\n"
     ]
    }
   ],
   "source": [
    "total_yes_model_4_layer = (model_4_layer_query_response['Match'] == 'YES').sum()\n",
    "total_no_model_4_layer = (model_4_layer_query_response['Match'] == 'NO').sum()\n",
    "\n",
    "accuracy_4_layer=(total_yes_model_4_layer/(total_yes_model_4_layer+total_no_model_4_layer))*100\n",
    "\n",
    "print(f\"MAP@10 (mean average precision) of 4 layer model : {accuracy_4_layer}\")\n",
    "\n",
    "accuracy.append(int(accuracy_4_layer))"
   ]
  },
  {
   "cell_type": "markdown",
   "id": "7186defe",
   "metadata": {},
   "source": [
    "# MAP of 6 layer model"
   ]
  },
  {
   "cell_type": "code",
   "execution_count": 198,
   "id": "3c8801e0",
   "metadata": {},
   "outputs": [
    {
     "name": "stdout",
     "output_type": "stream",
     "text": [
      "MAP@10 (mean average precision) of 6 layer model : 67.71929824561404\n"
     ]
    }
   ],
   "source": [
    "total_yes_model_6_layer = (model_6_layer_query_response['Match'] == 'YES').sum()\n",
    "total_no_model_6_layer = (model_6_layer_query_response['Match'] == 'NO').sum()\n",
    "\n",
    "accuracy_6_layer=(total_yes_model_6_layer/(total_yes_model_6_layer+total_no_model_6_layer))*100\n",
    "\n",
    "print(f\"MAP@10 (mean average precision) of 6 layer model : {accuracy_6_layer}\")\n",
    "\n",
    "accuracy.append(int(accuracy_6_layer))"
   ]
  },
  {
   "cell_type": "markdown",
   "id": "32b640d4",
   "metadata": {},
   "source": [
    "# MAP for 8 layer model"
   ]
  },
  {
   "cell_type": "code",
   "execution_count": 199,
   "id": "672ffc44",
   "metadata": {},
   "outputs": [
    {
     "name": "stdout",
     "output_type": "stream",
     "text": [
      "MAP@10 (mean average precision) of 8 layer model : 64.3859649122807\n"
     ]
    }
   ],
   "source": [
    "total_yes_model_8_layer = (model_8_layer_query_response['Match'] == 'YES').sum()\n",
    "total_no_model_8_layer = (model_8_layer_query_response['Match'] == 'NO').sum()\n",
    "\n",
    "accuracy_8_layer=(total_yes_model_8_layer/(total_yes_model_8_layer+total_no_model_8_layer))*100\n",
    "\n",
    "print(f\"MAP@10 (mean average precision) of 8 layer model : {accuracy_8_layer}\")\n",
    "\n",
    "accuracy.append(int(accuracy_8_layer))"
   ]
  },
  {
   "cell_type": "markdown",
   "id": "db0e7029",
   "metadata": {},
   "source": [
    "# MAP for 10 Layer model"
   ]
  },
  {
   "cell_type": "code",
   "execution_count": 200,
   "id": "870624e4",
   "metadata": {},
   "outputs": [
    {
     "name": "stdout",
     "output_type": "stream",
     "text": [
      "MAP@10 (mean average precision) of 10 layer model : 64.73684210526316\n"
     ]
    }
   ],
   "source": [
    "total_yes_model_10_layer = (model_10_layer_query_response['Match'] == 'YES').sum()\n",
    "total_no_model_10_layer = (model_10_layer_query_response['Match'] == 'NO').sum()\n",
    "\n",
    "accuracy_10_layer=(total_yes_model_10_layer/(total_yes_model_10_layer+total_no_model_10_layer))*100\n",
    "\n",
    "print(f\"MAP@10 (mean average precision) of 10 layer model : {accuracy_10_layer}\")\n",
    "\n",
    "accuracy.append(int(accuracy_10_layer))"
   ]
  },
  {
   "cell_type": "markdown",
   "id": "90e741aa",
   "metadata": {},
   "source": [
    "#  MAP of original model"
   ]
  },
  {
   "cell_type": "code",
   "execution_count": 201,
   "id": "4d423eaa",
   "metadata": {},
   "outputs": [
    {
     "name": "stdout",
     "output_type": "stream",
     "text": [
      "MAP@10 (mean average precision) of 12 layer model : 66.14035087719297\n"
     ]
    }
   ],
   "source": [
    "total_yes_model_12_layer = (base_model_query_response['Match'] == 'YES').sum()\n",
    "total_no_model_12_layer = (base_model_query_response['Match'] == 'NO').sum()\n",
    "\n",
    "accuracy_12_layer=(total_yes_model_12_layer/(total_yes_model_12_layer+total_no_model_12_layer))*100\n",
    "\n",
    "print(f\"MAP@10 (mean average precision) of 12 layer model : {accuracy_12_layer}\")\n",
    "\n",
    "accuracy.append(int(accuracy_12_layer))"
   ]
  },
  {
   "cell_type": "code",
   "execution_count": 210,
   "id": "40dff0a6",
   "metadata": {},
   "outputs": [
    {
     "name": "stdout",
     "output_type": "stream",
     "text": [
      "[202.27, 148.19, 121.15, 121.15, 450]\n"
     ]
    }
   ],
   "source": [
    "print(model_size_MB)"
   ]
  },
  {
   "cell_type": "markdown",
   "id": "bdd5378e",
   "metadata": {},
   "source": [
    "# Graph between Layers and Accuracy"
   ]
  },
  {
   "cell_type": "code",
   "execution_count": 206,
   "id": "183f65fa",
   "metadata": {},
   "outputs": [
    {
     "data": {
      "application/vnd.plotly.v1+json": {
       "config": {
        "plotlyServerURL": "https://plot.ly"
       },
       "data": [
        {
         "mode": "lines+markers",
         "type": "scatter",
         "x": [
          4,
          6,
          8,
          10,
          12
         ],
         "y": [
          61,
          67,
          64,
          64,
          66
         ]
        }
       ],
       "layout": {
        "template": {
         "data": {
          "bar": [
           {
            "error_x": {
             "color": "#2a3f5f"
            },
            "error_y": {
             "color": "#2a3f5f"
            },
            "marker": {
             "line": {
              "color": "#E5ECF6",
              "width": 0.5
             },
             "pattern": {
              "fillmode": "overlay",
              "size": 10,
              "solidity": 0.2
             }
            },
            "type": "bar"
           }
          ],
          "barpolar": [
           {
            "marker": {
             "line": {
              "color": "#E5ECF6",
              "width": 0.5
             },
             "pattern": {
              "fillmode": "overlay",
              "size": 10,
              "solidity": 0.2
             }
            },
            "type": "barpolar"
           }
          ],
          "carpet": [
           {
            "aaxis": {
             "endlinecolor": "#2a3f5f",
             "gridcolor": "white",
             "linecolor": "white",
             "minorgridcolor": "white",
             "startlinecolor": "#2a3f5f"
            },
            "baxis": {
             "endlinecolor": "#2a3f5f",
             "gridcolor": "white",
             "linecolor": "white",
             "minorgridcolor": "white",
             "startlinecolor": "#2a3f5f"
            },
            "type": "carpet"
           }
          ],
          "choropleth": [
           {
            "colorbar": {
             "outlinewidth": 0,
             "ticks": ""
            },
            "type": "choropleth"
           }
          ],
          "contour": [
           {
            "colorbar": {
             "outlinewidth": 0,
             "ticks": ""
            },
            "colorscale": [
             [
              0,
              "#0d0887"
             ],
             [
              0.1111111111111111,
              "#46039f"
             ],
             [
              0.2222222222222222,
              "#7201a8"
             ],
             [
              0.3333333333333333,
              "#9c179e"
             ],
             [
              0.4444444444444444,
              "#bd3786"
             ],
             [
              0.5555555555555556,
              "#d8576b"
             ],
             [
              0.6666666666666666,
              "#ed7953"
             ],
             [
              0.7777777777777778,
              "#fb9f3a"
             ],
             [
              0.8888888888888888,
              "#fdca26"
             ],
             [
              1,
              "#f0f921"
             ]
            ],
            "type": "contour"
           }
          ],
          "contourcarpet": [
           {
            "colorbar": {
             "outlinewidth": 0,
             "ticks": ""
            },
            "type": "contourcarpet"
           }
          ],
          "heatmap": [
           {
            "colorbar": {
             "outlinewidth": 0,
             "ticks": ""
            },
            "colorscale": [
             [
              0,
              "#0d0887"
             ],
             [
              0.1111111111111111,
              "#46039f"
             ],
             [
              0.2222222222222222,
              "#7201a8"
             ],
             [
              0.3333333333333333,
              "#9c179e"
             ],
             [
              0.4444444444444444,
              "#bd3786"
             ],
             [
              0.5555555555555556,
              "#d8576b"
             ],
             [
              0.6666666666666666,
              "#ed7953"
             ],
             [
              0.7777777777777778,
              "#fb9f3a"
             ],
             [
              0.8888888888888888,
              "#fdca26"
             ],
             [
              1,
              "#f0f921"
             ]
            ],
            "type": "heatmap"
           }
          ],
          "heatmapgl": [
           {
            "colorbar": {
             "outlinewidth": 0,
             "ticks": ""
            },
            "colorscale": [
             [
              0,
              "#0d0887"
             ],
             [
              0.1111111111111111,
              "#46039f"
             ],
             [
              0.2222222222222222,
              "#7201a8"
             ],
             [
              0.3333333333333333,
              "#9c179e"
             ],
             [
              0.4444444444444444,
              "#bd3786"
             ],
             [
              0.5555555555555556,
              "#d8576b"
             ],
             [
              0.6666666666666666,
              "#ed7953"
             ],
             [
              0.7777777777777778,
              "#fb9f3a"
             ],
             [
              0.8888888888888888,
              "#fdca26"
             ],
             [
              1,
              "#f0f921"
             ]
            ],
            "type": "heatmapgl"
           }
          ],
          "histogram": [
           {
            "marker": {
             "pattern": {
              "fillmode": "overlay",
              "size": 10,
              "solidity": 0.2
             }
            },
            "type": "histogram"
           }
          ],
          "histogram2d": [
           {
            "colorbar": {
             "outlinewidth": 0,
             "ticks": ""
            },
            "colorscale": [
             [
              0,
              "#0d0887"
             ],
             [
              0.1111111111111111,
              "#46039f"
             ],
             [
              0.2222222222222222,
              "#7201a8"
             ],
             [
              0.3333333333333333,
              "#9c179e"
             ],
             [
              0.4444444444444444,
              "#bd3786"
             ],
             [
              0.5555555555555556,
              "#d8576b"
             ],
             [
              0.6666666666666666,
              "#ed7953"
             ],
             [
              0.7777777777777778,
              "#fb9f3a"
             ],
             [
              0.8888888888888888,
              "#fdca26"
             ],
             [
              1,
              "#f0f921"
             ]
            ],
            "type": "histogram2d"
           }
          ],
          "histogram2dcontour": [
           {
            "colorbar": {
             "outlinewidth": 0,
             "ticks": ""
            },
            "colorscale": [
             [
              0,
              "#0d0887"
             ],
             [
              0.1111111111111111,
              "#46039f"
             ],
             [
              0.2222222222222222,
              "#7201a8"
             ],
             [
              0.3333333333333333,
              "#9c179e"
             ],
             [
              0.4444444444444444,
              "#bd3786"
             ],
             [
              0.5555555555555556,
              "#d8576b"
             ],
             [
              0.6666666666666666,
              "#ed7953"
             ],
             [
              0.7777777777777778,
              "#fb9f3a"
             ],
             [
              0.8888888888888888,
              "#fdca26"
             ],
             [
              1,
              "#f0f921"
             ]
            ],
            "type": "histogram2dcontour"
           }
          ],
          "mesh3d": [
           {
            "colorbar": {
             "outlinewidth": 0,
             "ticks": ""
            },
            "type": "mesh3d"
           }
          ],
          "parcoords": [
           {
            "line": {
             "colorbar": {
              "outlinewidth": 0,
              "ticks": ""
             }
            },
            "type": "parcoords"
           }
          ],
          "pie": [
           {
            "automargin": true,
            "type": "pie"
           }
          ],
          "scatter": [
           {
            "fillpattern": {
             "fillmode": "overlay",
             "size": 10,
             "solidity": 0.2
            },
            "type": "scatter"
           }
          ],
          "scatter3d": [
           {
            "line": {
             "colorbar": {
              "outlinewidth": 0,
              "ticks": ""
             }
            },
            "marker": {
             "colorbar": {
              "outlinewidth": 0,
              "ticks": ""
             }
            },
            "type": "scatter3d"
           }
          ],
          "scattercarpet": [
           {
            "marker": {
             "colorbar": {
              "outlinewidth": 0,
              "ticks": ""
             }
            },
            "type": "scattercarpet"
           }
          ],
          "scattergeo": [
           {
            "marker": {
             "colorbar": {
              "outlinewidth": 0,
              "ticks": ""
             }
            },
            "type": "scattergeo"
           }
          ],
          "scattergl": [
           {
            "marker": {
             "colorbar": {
              "outlinewidth": 0,
              "ticks": ""
             }
            },
            "type": "scattergl"
           }
          ],
          "scattermapbox": [
           {
            "marker": {
             "colorbar": {
              "outlinewidth": 0,
              "ticks": ""
             }
            },
            "type": "scattermapbox"
           }
          ],
          "scatterpolar": [
           {
            "marker": {
             "colorbar": {
              "outlinewidth": 0,
              "ticks": ""
             }
            },
            "type": "scatterpolar"
           }
          ],
          "scatterpolargl": [
           {
            "marker": {
             "colorbar": {
              "outlinewidth": 0,
              "ticks": ""
             }
            },
            "type": "scatterpolargl"
           }
          ],
          "scatterternary": [
           {
            "marker": {
             "colorbar": {
              "outlinewidth": 0,
              "ticks": ""
             }
            },
            "type": "scatterternary"
           }
          ],
          "surface": [
           {
            "colorbar": {
             "outlinewidth": 0,
             "ticks": ""
            },
            "colorscale": [
             [
              0,
              "#0d0887"
             ],
             [
              0.1111111111111111,
              "#46039f"
             ],
             [
              0.2222222222222222,
              "#7201a8"
             ],
             [
              0.3333333333333333,
              "#9c179e"
             ],
             [
              0.4444444444444444,
              "#bd3786"
             ],
             [
              0.5555555555555556,
              "#d8576b"
             ],
             [
              0.6666666666666666,
              "#ed7953"
             ],
             [
              0.7777777777777778,
              "#fb9f3a"
             ],
             [
              0.8888888888888888,
              "#fdca26"
             ],
             [
              1,
              "#f0f921"
             ]
            ],
            "type": "surface"
           }
          ],
          "table": [
           {
            "cells": {
             "fill": {
              "color": "#EBF0F8"
             },
             "line": {
              "color": "white"
             }
            },
            "header": {
             "fill": {
              "color": "#C8D4E3"
             },
             "line": {
              "color": "white"
             }
            },
            "type": "table"
           }
          ]
         },
         "layout": {
          "annotationdefaults": {
           "arrowcolor": "#2a3f5f",
           "arrowhead": 0,
           "arrowwidth": 1
          },
          "autotypenumbers": "strict",
          "coloraxis": {
           "colorbar": {
            "outlinewidth": 0,
            "ticks": ""
           }
          },
          "colorscale": {
           "diverging": [
            [
             0,
             "#8e0152"
            ],
            [
             0.1,
             "#c51b7d"
            ],
            [
             0.2,
             "#de77ae"
            ],
            [
             0.3,
             "#f1b6da"
            ],
            [
             0.4,
             "#fde0ef"
            ],
            [
             0.5,
             "#f7f7f7"
            ],
            [
             0.6,
             "#e6f5d0"
            ],
            [
             0.7,
             "#b8e186"
            ],
            [
             0.8,
             "#7fbc41"
            ],
            [
             0.9,
             "#4d9221"
            ],
            [
             1,
             "#276419"
            ]
           ],
           "sequential": [
            [
             0,
             "#0d0887"
            ],
            [
             0.1111111111111111,
             "#46039f"
            ],
            [
             0.2222222222222222,
             "#7201a8"
            ],
            [
             0.3333333333333333,
             "#9c179e"
            ],
            [
             0.4444444444444444,
             "#bd3786"
            ],
            [
             0.5555555555555556,
             "#d8576b"
            ],
            [
             0.6666666666666666,
             "#ed7953"
            ],
            [
             0.7777777777777778,
             "#fb9f3a"
            ],
            [
             0.8888888888888888,
             "#fdca26"
            ],
            [
             1,
             "#f0f921"
            ]
           ],
           "sequentialminus": [
            [
             0,
             "#0d0887"
            ],
            [
             0.1111111111111111,
             "#46039f"
            ],
            [
             0.2222222222222222,
             "#7201a8"
            ],
            [
             0.3333333333333333,
             "#9c179e"
            ],
            [
             0.4444444444444444,
             "#bd3786"
            ],
            [
             0.5555555555555556,
             "#d8576b"
            ],
            [
             0.6666666666666666,
             "#ed7953"
            ],
            [
             0.7777777777777778,
             "#fb9f3a"
            ],
            [
             0.8888888888888888,
             "#fdca26"
            ],
            [
             1,
             "#f0f921"
            ]
           ]
          },
          "colorway": [
           "#636efa",
           "#EF553B",
           "#00cc96",
           "#ab63fa",
           "#FFA15A",
           "#19d3f3",
           "#FF6692",
           "#B6E880",
           "#FF97FF",
           "#FECB52"
          ],
          "font": {
           "color": "#2a3f5f"
          },
          "geo": {
           "bgcolor": "white",
           "lakecolor": "white",
           "landcolor": "#E5ECF6",
           "showlakes": true,
           "showland": true,
           "subunitcolor": "white"
          },
          "hoverlabel": {
           "align": "left"
          },
          "hovermode": "closest",
          "mapbox": {
           "style": "light"
          },
          "paper_bgcolor": "white",
          "plot_bgcolor": "#E5ECF6",
          "polar": {
           "angularaxis": {
            "gridcolor": "white",
            "linecolor": "white",
            "ticks": ""
           },
           "bgcolor": "#E5ECF6",
           "radialaxis": {
            "gridcolor": "white",
            "linecolor": "white",
            "ticks": ""
           }
          },
          "scene": {
           "xaxis": {
            "backgroundcolor": "#E5ECF6",
            "gridcolor": "white",
            "gridwidth": 2,
            "linecolor": "white",
            "showbackground": true,
            "ticks": "",
            "zerolinecolor": "white"
           },
           "yaxis": {
            "backgroundcolor": "#E5ECF6",
            "gridcolor": "white",
            "gridwidth": 2,
            "linecolor": "white",
            "showbackground": true,
            "ticks": "",
            "zerolinecolor": "white"
           },
           "zaxis": {
            "backgroundcolor": "#E5ECF6",
            "gridcolor": "white",
            "gridwidth": 2,
            "linecolor": "white",
            "showbackground": true,
            "ticks": "",
            "zerolinecolor": "white"
           }
          },
          "shapedefaults": {
           "line": {
            "color": "#2a3f5f"
           }
          },
          "ternary": {
           "aaxis": {
            "gridcolor": "white",
            "linecolor": "white",
            "ticks": ""
           },
           "baxis": {
            "gridcolor": "white",
            "linecolor": "white",
            "ticks": ""
           },
           "bgcolor": "#E5ECF6",
           "caxis": {
            "gridcolor": "white",
            "linecolor": "white",
            "ticks": ""
           }
          },
          "title": {
           "x": 0.05
          },
          "xaxis": {
           "automargin": true,
           "gridcolor": "white",
           "linecolor": "white",
           "ticks": "",
           "title": {
            "standoff": 15
           },
           "zerolinecolor": "white",
           "zerolinewidth": 2
          },
          "yaxis": {
           "automargin": true,
           "gridcolor": "white",
           "linecolor": "white",
           "ticks": "",
           "title": {
            "standoff": 15
           },
           "zerolinecolor": "white",
           "zerolinewidth": 2
          }
         }
        },
        "title": {
         "text": "Layers vs. Accuracy"
        },
        "xaxis": {
         "title": {
          "text": "Layers of Model"
         }
        },
        "yaxis": {
         "title": {
          "text": "Accuracy"
         }
        }
       }
      },
      "text/html": [
       "<div>                            <div id=\"0607d19c-41cc-4abb-a7db-d743753e9877\" class=\"plotly-graph-div\" style=\"height:525px; width:100%;\"></div>            <script type=\"text/javascript\">                require([\"plotly\"], function(Plotly) {                    window.PLOTLYENV=window.PLOTLYENV || {};                                    if (document.getElementById(\"0607d19c-41cc-4abb-a7db-d743753e9877\")) {                    Plotly.newPlot(                        \"0607d19c-41cc-4abb-a7db-d743753e9877\",                        [{\"mode\":\"lines+markers\",\"x\":[4,6,8,10,12],\"y\":[61,67,64,64,66],\"type\":\"scatter\"}],                        {\"template\":{\"data\":{\"histogram2dcontour\":[{\"type\":\"histogram2dcontour\",\"colorbar\":{\"outlinewidth\":0,\"ticks\":\"\"},\"colorscale\":[[0.0,\"#0d0887\"],[0.1111111111111111,\"#46039f\"],[0.2222222222222222,\"#7201a8\"],[0.3333333333333333,\"#9c179e\"],[0.4444444444444444,\"#bd3786\"],[0.5555555555555556,\"#d8576b\"],[0.6666666666666666,\"#ed7953\"],[0.7777777777777778,\"#fb9f3a\"],[0.8888888888888888,\"#fdca26\"],[1.0,\"#f0f921\"]]}],\"choropleth\":[{\"type\":\"choropleth\",\"colorbar\":{\"outlinewidth\":0,\"ticks\":\"\"}}],\"histogram2d\":[{\"type\":\"histogram2d\",\"colorbar\":{\"outlinewidth\":0,\"ticks\":\"\"},\"colorscale\":[[0.0,\"#0d0887\"],[0.1111111111111111,\"#46039f\"],[0.2222222222222222,\"#7201a8\"],[0.3333333333333333,\"#9c179e\"],[0.4444444444444444,\"#bd3786\"],[0.5555555555555556,\"#d8576b\"],[0.6666666666666666,\"#ed7953\"],[0.7777777777777778,\"#fb9f3a\"],[0.8888888888888888,\"#fdca26\"],[1.0,\"#f0f921\"]]}],\"heatmap\":[{\"type\":\"heatmap\",\"colorbar\":{\"outlinewidth\":0,\"ticks\":\"\"},\"colorscale\":[[0.0,\"#0d0887\"],[0.1111111111111111,\"#46039f\"],[0.2222222222222222,\"#7201a8\"],[0.3333333333333333,\"#9c179e\"],[0.4444444444444444,\"#bd3786\"],[0.5555555555555556,\"#d8576b\"],[0.6666666666666666,\"#ed7953\"],[0.7777777777777778,\"#fb9f3a\"],[0.8888888888888888,\"#fdca26\"],[1.0,\"#f0f921\"]]}],\"heatmapgl\":[{\"type\":\"heatmapgl\",\"colorbar\":{\"outlinewidth\":0,\"ticks\":\"\"},\"colorscale\":[[0.0,\"#0d0887\"],[0.1111111111111111,\"#46039f\"],[0.2222222222222222,\"#7201a8\"],[0.3333333333333333,\"#9c179e\"],[0.4444444444444444,\"#bd3786\"],[0.5555555555555556,\"#d8576b\"],[0.6666666666666666,\"#ed7953\"],[0.7777777777777778,\"#fb9f3a\"],[0.8888888888888888,\"#fdca26\"],[1.0,\"#f0f921\"]]}],\"contourcarpet\":[{\"type\":\"contourcarpet\",\"colorbar\":{\"outlinewidth\":0,\"ticks\":\"\"}}],\"contour\":[{\"type\":\"contour\",\"colorbar\":{\"outlinewidth\":0,\"ticks\":\"\"},\"colorscale\":[[0.0,\"#0d0887\"],[0.1111111111111111,\"#46039f\"],[0.2222222222222222,\"#7201a8\"],[0.3333333333333333,\"#9c179e\"],[0.4444444444444444,\"#bd3786\"],[0.5555555555555556,\"#d8576b\"],[0.6666666666666666,\"#ed7953\"],[0.7777777777777778,\"#fb9f3a\"],[0.8888888888888888,\"#fdca26\"],[1.0,\"#f0f921\"]]}],\"surface\":[{\"type\":\"surface\",\"colorbar\":{\"outlinewidth\":0,\"ticks\":\"\"},\"colorscale\":[[0.0,\"#0d0887\"],[0.1111111111111111,\"#46039f\"],[0.2222222222222222,\"#7201a8\"],[0.3333333333333333,\"#9c179e\"],[0.4444444444444444,\"#bd3786\"],[0.5555555555555556,\"#d8576b\"],[0.6666666666666666,\"#ed7953\"],[0.7777777777777778,\"#fb9f3a\"],[0.8888888888888888,\"#fdca26\"],[1.0,\"#f0f921\"]]}],\"mesh3d\":[{\"type\":\"mesh3d\",\"colorbar\":{\"outlinewidth\":0,\"ticks\":\"\"}}],\"scatter\":[{\"fillpattern\":{\"fillmode\":\"overlay\",\"size\":10,\"solidity\":0.2},\"type\":\"scatter\"}],\"parcoords\":[{\"type\":\"parcoords\",\"line\":{\"colorbar\":{\"outlinewidth\":0,\"ticks\":\"\"}}}],\"scatterpolargl\":[{\"type\":\"scatterpolargl\",\"marker\":{\"colorbar\":{\"outlinewidth\":0,\"ticks\":\"\"}}}],\"bar\":[{\"error_x\":{\"color\":\"#2a3f5f\"},\"error_y\":{\"color\":\"#2a3f5f\"},\"marker\":{\"line\":{\"color\":\"#E5ECF6\",\"width\":0.5},\"pattern\":{\"fillmode\":\"overlay\",\"size\":10,\"solidity\":0.2}},\"type\":\"bar\"}],\"scattergeo\":[{\"type\":\"scattergeo\",\"marker\":{\"colorbar\":{\"outlinewidth\":0,\"ticks\":\"\"}}}],\"scatterpolar\":[{\"type\":\"scatterpolar\",\"marker\":{\"colorbar\":{\"outlinewidth\":0,\"ticks\":\"\"}}}],\"histogram\":[{\"marker\":{\"pattern\":{\"fillmode\":\"overlay\",\"size\":10,\"solidity\":0.2}},\"type\":\"histogram\"}],\"scattergl\":[{\"type\":\"scattergl\",\"marker\":{\"colorbar\":{\"outlinewidth\":0,\"ticks\":\"\"}}}],\"scatter3d\":[{\"type\":\"scatter3d\",\"line\":{\"colorbar\":{\"outlinewidth\":0,\"ticks\":\"\"}},\"marker\":{\"colorbar\":{\"outlinewidth\":0,\"ticks\":\"\"}}}],\"scattermapbox\":[{\"type\":\"scattermapbox\",\"marker\":{\"colorbar\":{\"outlinewidth\":0,\"ticks\":\"\"}}}],\"scatterternary\":[{\"type\":\"scatterternary\",\"marker\":{\"colorbar\":{\"outlinewidth\":0,\"ticks\":\"\"}}}],\"scattercarpet\":[{\"type\":\"scattercarpet\",\"marker\":{\"colorbar\":{\"outlinewidth\":0,\"ticks\":\"\"}}}],\"carpet\":[{\"aaxis\":{\"endlinecolor\":\"#2a3f5f\",\"gridcolor\":\"white\",\"linecolor\":\"white\",\"minorgridcolor\":\"white\",\"startlinecolor\":\"#2a3f5f\"},\"baxis\":{\"endlinecolor\":\"#2a3f5f\",\"gridcolor\":\"white\",\"linecolor\":\"white\",\"minorgridcolor\":\"white\",\"startlinecolor\":\"#2a3f5f\"},\"type\":\"carpet\"}],\"table\":[{\"cells\":{\"fill\":{\"color\":\"#EBF0F8\"},\"line\":{\"color\":\"white\"}},\"header\":{\"fill\":{\"color\":\"#C8D4E3\"},\"line\":{\"color\":\"white\"}},\"type\":\"table\"}],\"barpolar\":[{\"marker\":{\"line\":{\"color\":\"#E5ECF6\",\"width\":0.5},\"pattern\":{\"fillmode\":\"overlay\",\"size\":10,\"solidity\":0.2}},\"type\":\"barpolar\"}],\"pie\":[{\"automargin\":true,\"type\":\"pie\"}]},\"layout\":{\"autotypenumbers\":\"strict\",\"colorway\":[\"#636efa\",\"#EF553B\",\"#00cc96\",\"#ab63fa\",\"#FFA15A\",\"#19d3f3\",\"#FF6692\",\"#B6E880\",\"#FF97FF\",\"#FECB52\"],\"font\":{\"color\":\"#2a3f5f\"},\"hovermode\":\"closest\",\"hoverlabel\":{\"align\":\"left\"},\"paper_bgcolor\":\"white\",\"plot_bgcolor\":\"#E5ECF6\",\"polar\":{\"bgcolor\":\"#E5ECF6\",\"angularaxis\":{\"gridcolor\":\"white\",\"linecolor\":\"white\",\"ticks\":\"\"},\"radialaxis\":{\"gridcolor\":\"white\",\"linecolor\":\"white\",\"ticks\":\"\"}},\"ternary\":{\"bgcolor\":\"#E5ECF6\",\"aaxis\":{\"gridcolor\":\"white\",\"linecolor\":\"white\",\"ticks\":\"\"},\"baxis\":{\"gridcolor\":\"white\",\"linecolor\":\"white\",\"ticks\":\"\"},\"caxis\":{\"gridcolor\":\"white\",\"linecolor\":\"white\",\"ticks\":\"\"}},\"coloraxis\":{\"colorbar\":{\"outlinewidth\":0,\"ticks\":\"\"}},\"colorscale\":{\"sequential\":[[0.0,\"#0d0887\"],[0.1111111111111111,\"#46039f\"],[0.2222222222222222,\"#7201a8\"],[0.3333333333333333,\"#9c179e\"],[0.4444444444444444,\"#bd3786\"],[0.5555555555555556,\"#d8576b\"],[0.6666666666666666,\"#ed7953\"],[0.7777777777777778,\"#fb9f3a\"],[0.8888888888888888,\"#fdca26\"],[1.0,\"#f0f921\"]],\"sequentialminus\":[[0.0,\"#0d0887\"],[0.1111111111111111,\"#46039f\"],[0.2222222222222222,\"#7201a8\"],[0.3333333333333333,\"#9c179e\"],[0.4444444444444444,\"#bd3786\"],[0.5555555555555556,\"#d8576b\"],[0.6666666666666666,\"#ed7953\"],[0.7777777777777778,\"#fb9f3a\"],[0.8888888888888888,\"#fdca26\"],[1.0,\"#f0f921\"]],\"diverging\":[[0,\"#8e0152\"],[0.1,\"#c51b7d\"],[0.2,\"#de77ae\"],[0.3,\"#f1b6da\"],[0.4,\"#fde0ef\"],[0.5,\"#f7f7f7\"],[0.6,\"#e6f5d0\"],[0.7,\"#b8e186\"],[0.8,\"#7fbc41\"],[0.9,\"#4d9221\"],[1,\"#276419\"]]},\"xaxis\":{\"gridcolor\":\"white\",\"linecolor\":\"white\",\"ticks\":\"\",\"title\":{\"standoff\":15},\"zerolinecolor\":\"white\",\"automargin\":true,\"zerolinewidth\":2},\"yaxis\":{\"gridcolor\":\"white\",\"linecolor\":\"white\",\"ticks\":\"\",\"title\":{\"standoff\":15},\"zerolinecolor\":\"white\",\"automargin\":true,\"zerolinewidth\":2},\"scene\":{\"xaxis\":{\"backgroundcolor\":\"#E5ECF6\",\"gridcolor\":\"white\",\"linecolor\":\"white\",\"showbackground\":true,\"ticks\":\"\",\"zerolinecolor\":\"white\",\"gridwidth\":2},\"yaxis\":{\"backgroundcolor\":\"#E5ECF6\",\"gridcolor\":\"white\",\"linecolor\":\"white\",\"showbackground\":true,\"ticks\":\"\",\"zerolinecolor\":\"white\",\"gridwidth\":2},\"zaxis\":{\"backgroundcolor\":\"#E5ECF6\",\"gridcolor\":\"white\",\"linecolor\":\"white\",\"showbackground\":true,\"ticks\":\"\",\"zerolinecolor\":\"white\",\"gridwidth\":2}},\"shapedefaults\":{\"line\":{\"color\":\"#2a3f5f\"}},\"annotationdefaults\":{\"arrowcolor\":\"#2a3f5f\",\"arrowhead\":0,\"arrowwidth\":1},\"geo\":{\"bgcolor\":\"white\",\"landcolor\":\"#E5ECF6\",\"subunitcolor\":\"white\",\"showland\":true,\"showlakes\":true,\"lakecolor\":\"white\"},\"title\":{\"x\":0.05},\"mapbox\":{\"style\":\"light\"}}},\"title\":{\"text\":\"Layers vs. Accuracy\"},\"xaxis\":{\"title\":{\"text\":\"Layers of Model\"}},\"yaxis\":{\"title\":{\"text\":\"Accuracy\"}}},                        {\"responsive\": true}                    ).then(function(){\n",
       "                            \n",
       "var gd = document.getElementById('0607d19c-41cc-4abb-a7db-d743753e9877');\n",
       "var x = new MutationObserver(function (mutations, observer) {{\n",
       "        var display = window.getComputedStyle(gd).display;\n",
       "        if (!display || display === 'none') {{\n",
       "            console.log([gd, 'removed!']);\n",
       "            Plotly.purge(gd);\n",
       "            observer.disconnect();\n",
       "        }}\n",
       "}});\n",
       "\n",
       "// Listen for the removal of the full notebook cells\n",
       "var notebookContainer = gd.closest('#notebook-container');\n",
       "if (notebookContainer) {{\n",
       "    x.observe(notebookContainer, {childList: true});\n",
       "}}\n",
       "\n",
       "// Listen for the clearing of the current output cell\n",
       "var outputEl = gd.closest('.output');\n",
       "if (outputEl) {{\n",
       "    x.observe(outputEl, {childList: true});\n",
       "}}\n",
       "\n",
       "                        })                };                });            </script>        </div>"
      ]
     },
     "metadata": {},
     "output_type": "display_data"
    }
   ],
   "source": [
    "fig_model_size = go.Figure()\n",
    "fig_model_size.add_trace(go.Scatter(x=layers, y=accuracy, mode='lines+markers'))\n",
    "fig_model_size.update_layout(title='Layers vs. Accuracy', xaxis_title='Layers of Model', yaxis_title='Accuracy')\n",
    "fig_model_size.show()"
   ]
  },
  {
   "cell_type": "markdown",
   "id": "32d42124",
   "metadata": {},
   "source": [
    "# Graph between layers and model size"
   ]
  },
  {
   "cell_type": "code",
   "execution_count": 205,
   "id": "60adad25",
   "metadata": {},
   "outputs": [
    {
     "data": {
      "application/vnd.plotly.v1+json": {
       "config": {
        "plotlyServerURL": "https://plot.ly"
       },
       "data": [
        {
         "mode": "lines+markers",
         "type": "scatter",
         "x": [
          4,
          6,
          8,
          10,
          12
         ],
         "y": [
          202.27,
          148.19,
          121.15,
          121.15,
          450
         ]
        }
       ],
       "layout": {
        "template": {
         "data": {
          "bar": [
           {
            "error_x": {
             "color": "#2a3f5f"
            },
            "error_y": {
             "color": "#2a3f5f"
            },
            "marker": {
             "line": {
              "color": "#E5ECF6",
              "width": 0.5
             },
             "pattern": {
              "fillmode": "overlay",
              "size": 10,
              "solidity": 0.2
             }
            },
            "type": "bar"
           }
          ],
          "barpolar": [
           {
            "marker": {
             "line": {
              "color": "#E5ECF6",
              "width": 0.5
             },
             "pattern": {
              "fillmode": "overlay",
              "size": 10,
              "solidity": 0.2
             }
            },
            "type": "barpolar"
           }
          ],
          "carpet": [
           {
            "aaxis": {
             "endlinecolor": "#2a3f5f",
             "gridcolor": "white",
             "linecolor": "white",
             "minorgridcolor": "white",
             "startlinecolor": "#2a3f5f"
            },
            "baxis": {
             "endlinecolor": "#2a3f5f",
             "gridcolor": "white",
             "linecolor": "white",
             "minorgridcolor": "white",
             "startlinecolor": "#2a3f5f"
            },
            "type": "carpet"
           }
          ],
          "choropleth": [
           {
            "colorbar": {
             "outlinewidth": 0,
             "ticks": ""
            },
            "type": "choropleth"
           }
          ],
          "contour": [
           {
            "colorbar": {
             "outlinewidth": 0,
             "ticks": ""
            },
            "colorscale": [
             [
              0,
              "#0d0887"
             ],
             [
              0.1111111111111111,
              "#46039f"
             ],
             [
              0.2222222222222222,
              "#7201a8"
             ],
             [
              0.3333333333333333,
              "#9c179e"
             ],
             [
              0.4444444444444444,
              "#bd3786"
             ],
             [
              0.5555555555555556,
              "#d8576b"
             ],
             [
              0.6666666666666666,
              "#ed7953"
             ],
             [
              0.7777777777777778,
              "#fb9f3a"
             ],
             [
              0.8888888888888888,
              "#fdca26"
             ],
             [
              1,
              "#f0f921"
             ]
            ],
            "type": "contour"
           }
          ],
          "contourcarpet": [
           {
            "colorbar": {
             "outlinewidth": 0,
             "ticks": ""
            },
            "type": "contourcarpet"
           }
          ],
          "heatmap": [
           {
            "colorbar": {
             "outlinewidth": 0,
             "ticks": ""
            },
            "colorscale": [
             [
              0,
              "#0d0887"
             ],
             [
              0.1111111111111111,
              "#46039f"
             ],
             [
              0.2222222222222222,
              "#7201a8"
             ],
             [
              0.3333333333333333,
              "#9c179e"
             ],
             [
              0.4444444444444444,
              "#bd3786"
             ],
             [
              0.5555555555555556,
              "#d8576b"
             ],
             [
              0.6666666666666666,
              "#ed7953"
             ],
             [
              0.7777777777777778,
              "#fb9f3a"
             ],
             [
              0.8888888888888888,
              "#fdca26"
             ],
             [
              1,
              "#f0f921"
             ]
            ],
            "type": "heatmap"
           }
          ],
          "heatmapgl": [
           {
            "colorbar": {
             "outlinewidth": 0,
             "ticks": ""
            },
            "colorscale": [
             [
              0,
              "#0d0887"
             ],
             [
              0.1111111111111111,
              "#46039f"
             ],
             [
              0.2222222222222222,
              "#7201a8"
             ],
             [
              0.3333333333333333,
              "#9c179e"
             ],
             [
              0.4444444444444444,
              "#bd3786"
             ],
             [
              0.5555555555555556,
              "#d8576b"
             ],
             [
              0.6666666666666666,
              "#ed7953"
             ],
             [
              0.7777777777777778,
              "#fb9f3a"
             ],
             [
              0.8888888888888888,
              "#fdca26"
             ],
             [
              1,
              "#f0f921"
             ]
            ],
            "type": "heatmapgl"
           }
          ],
          "histogram": [
           {
            "marker": {
             "pattern": {
              "fillmode": "overlay",
              "size": 10,
              "solidity": 0.2
             }
            },
            "type": "histogram"
           }
          ],
          "histogram2d": [
           {
            "colorbar": {
             "outlinewidth": 0,
             "ticks": ""
            },
            "colorscale": [
             [
              0,
              "#0d0887"
             ],
             [
              0.1111111111111111,
              "#46039f"
             ],
             [
              0.2222222222222222,
              "#7201a8"
             ],
             [
              0.3333333333333333,
              "#9c179e"
             ],
             [
              0.4444444444444444,
              "#bd3786"
             ],
             [
              0.5555555555555556,
              "#d8576b"
             ],
             [
              0.6666666666666666,
              "#ed7953"
             ],
             [
              0.7777777777777778,
              "#fb9f3a"
             ],
             [
              0.8888888888888888,
              "#fdca26"
             ],
             [
              1,
              "#f0f921"
             ]
            ],
            "type": "histogram2d"
           }
          ],
          "histogram2dcontour": [
           {
            "colorbar": {
             "outlinewidth": 0,
             "ticks": ""
            },
            "colorscale": [
             [
              0,
              "#0d0887"
             ],
             [
              0.1111111111111111,
              "#46039f"
             ],
             [
              0.2222222222222222,
              "#7201a8"
             ],
             [
              0.3333333333333333,
              "#9c179e"
             ],
             [
              0.4444444444444444,
              "#bd3786"
             ],
             [
              0.5555555555555556,
              "#d8576b"
             ],
             [
              0.6666666666666666,
              "#ed7953"
             ],
             [
              0.7777777777777778,
              "#fb9f3a"
             ],
             [
              0.8888888888888888,
              "#fdca26"
             ],
             [
              1,
              "#f0f921"
             ]
            ],
            "type": "histogram2dcontour"
           }
          ],
          "mesh3d": [
           {
            "colorbar": {
             "outlinewidth": 0,
             "ticks": ""
            },
            "type": "mesh3d"
           }
          ],
          "parcoords": [
           {
            "line": {
             "colorbar": {
              "outlinewidth": 0,
              "ticks": ""
             }
            },
            "type": "parcoords"
           }
          ],
          "pie": [
           {
            "automargin": true,
            "type": "pie"
           }
          ],
          "scatter": [
           {
            "fillpattern": {
             "fillmode": "overlay",
             "size": 10,
             "solidity": 0.2
            },
            "type": "scatter"
           }
          ],
          "scatter3d": [
           {
            "line": {
             "colorbar": {
              "outlinewidth": 0,
              "ticks": ""
             }
            },
            "marker": {
             "colorbar": {
              "outlinewidth": 0,
              "ticks": ""
             }
            },
            "type": "scatter3d"
           }
          ],
          "scattercarpet": [
           {
            "marker": {
             "colorbar": {
              "outlinewidth": 0,
              "ticks": ""
             }
            },
            "type": "scattercarpet"
           }
          ],
          "scattergeo": [
           {
            "marker": {
             "colorbar": {
              "outlinewidth": 0,
              "ticks": ""
             }
            },
            "type": "scattergeo"
           }
          ],
          "scattergl": [
           {
            "marker": {
             "colorbar": {
              "outlinewidth": 0,
              "ticks": ""
             }
            },
            "type": "scattergl"
           }
          ],
          "scattermapbox": [
           {
            "marker": {
             "colorbar": {
              "outlinewidth": 0,
              "ticks": ""
             }
            },
            "type": "scattermapbox"
           }
          ],
          "scatterpolar": [
           {
            "marker": {
             "colorbar": {
              "outlinewidth": 0,
              "ticks": ""
             }
            },
            "type": "scatterpolar"
           }
          ],
          "scatterpolargl": [
           {
            "marker": {
             "colorbar": {
              "outlinewidth": 0,
              "ticks": ""
             }
            },
            "type": "scatterpolargl"
           }
          ],
          "scatterternary": [
           {
            "marker": {
             "colorbar": {
              "outlinewidth": 0,
              "ticks": ""
             }
            },
            "type": "scatterternary"
           }
          ],
          "surface": [
           {
            "colorbar": {
             "outlinewidth": 0,
             "ticks": ""
            },
            "colorscale": [
             [
              0,
              "#0d0887"
             ],
             [
              0.1111111111111111,
              "#46039f"
             ],
             [
              0.2222222222222222,
              "#7201a8"
             ],
             [
              0.3333333333333333,
              "#9c179e"
             ],
             [
              0.4444444444444444,
              "#bd3786"
             ],
             [
              0.5555555555555556,
              "#d8576b"
             ],
             [
              0.6666666666666666,
              "#ed7953"
             ],
             [
              0.7777777777777778,
              "#fb9f3a"
             ],
             [
              0.8888888888888888,
              "#fdca26"
             ],
             [
              1,
              "#f0f921"
             ]
            ],
            "type": "surface"
           }
          ],
          "table": [
           {
            "cells": {
             "fill": {
              "color": "#EBF0F8"
             },
             "line": {
              "color": "white"
             }
            },
            "header": {
             "fill": {
              "color": "#C8D4E3"
             },
             "line": {
              "color": "white"
             }
            },
            "type": "table"
           }
          ]
         },
         "layout": {
          "annotationdefaults": {
           "arrowcolor": "#2a3f5f",
           "arrowhead": 0,
           "arrowwidth": 1
          },
          "autotypenumbers": "strict",
          "coloraxis": {
           "colorbar": {
            "outlinewidth": 0,
            "ticks": ""
           }
          },
          "colorscale": {
           "diverging": [
            [
             0,
             "#8e0152"
            ],
            [
             0.1,
             "#c51b7d"
            ],
            [
             0.2,
             "#de77ae"
            ],
            [
             0.3,
             "#f1b6da"
            ],
            [
             0.4,
             "#fde0ef"
            ],
            [
             0.5,
             "#f7f7f7"
            ],
            [
             0.6,
             "#e6f5d0"
            ],
            [
             0.7,
             "#b8e186"
            ],
            [
             0.8,
             "#7fbc41"
            ],
            [
             0.9,
             "#4d9221"
            ],
            [
             1,
             "#276419"
            ]
           ],
           "sequential": [
            [
             0,
             "#0d0887"
            ],
            [
             0.1111111111111111,
             "#46039f"
            ],
            [
             0.2222222222222222,
             "#7201a8"
            ],
            [
             0.3333333333333333,
             "#9c179e"
            ],
            [
             0.4444444444444444,
             "#bd3786"
            ],
            [
             0.5555555555555556,
             "#d8576b"
            ],
            [
             0.6666666666666666,
             "#ed7953"
            ],
            [
             0.7777777777777778,
             "#fb9f3a"
            ],
            [
             0.8888888888888888,
             "#fdca26"
            ],
            [
             1,
             "#f0f921"
            ]
           ],
           "sequentialminus": [
            [
             0,
             "#0d0887"
            ],
            [
             0.1111111111111111,
             "#46039f"
            ],
            [
             0.2222222222222222,
             "#7201a8"
            ],
            [
             0.3333333333333333,
             "#9c179e"
            ],
            [
             0.4444444444444444,
             "#bd3786"
            ],
            [
             0.5555555555555556,
             "#d8576b"
            ],
            [
             0.6666666666666666,
             "#ed7953"
            ],
            [
             0.7777777777777778,
             "#fb9f3a"
            ],
            [
             0.8888888888888888,
             "#fdca26"
            ],
            [
             1,
             "#f0f921"
            ]
           ]
          },
          "colorway": [
           "#636efa",
           "#EF553B",
           "#00cc96",
           "#ab63fa",
           "#FFA15A",
           "#19d3f3",
           "#FF6692",
           "#B6E880",
           "#FF97FF",
           "#FECB52"
          ],
          "font": {
           "color": "#2a3f5f"
          },
          "geo": {
           "bgcolor": "white",
           "lakecolor": "white",
           "landcolor": "#E5ECF6",
           "showlakes": true,
           "showland": true,
           "subunitcolor": "white"
          },
          "hoverlabel": {
           "align": "left"
          },
          "hovermode": "closest",
          "mapbox": {
           "style": "light"
          },
          "paper_bgcolor": "white",
          "plot_bgcolor": "#E5ECF6",
          "polar": {
           "angularaxis": {
            "gridcolor": "white",
            "linecolor": "white",
            "ticks": ""
           },
           "bgcolor": "#E5ECF6",
           "radialaxis": {
            "gridcolor": "white",
            "linecolor": "white",
            "ticks": ""
           }
          },
          "scene": {
           "xaxis": {
            "backgroundcolor": "#E5ECF6",
            "gridcolor": "white",
            "gridwidth": 2,
            "linecolor": "white",
            "showbackground": true,
            "ticks": "",
            "zerolinecolor": "white"
           },
           "yaxis": {
            "backgroundcolor": "#E5ECF6",
            "gridcolor": "white",
            "gridwidth": 2,
            "linecolor": "white",
            "showbackground": true,
            "ticks": "",
            "zerolinecolor": "white"
           },
           "zaxis": {
            "backgroundcolor": "#E5ECF6",
            "gridcolor": "white",
            "gridwidth": 2,
            "linecolor": "white",
            "showbackground": true,
            "ticks": "",
            "zerolinecolor": "white"
           }
          },
          "shapedefaults": {
           "line": {
            "color": "#2a3f5f"
           }
          },
          "ternary": {
           "aaxis": {
            "gridcolor": "white",
            "linecolor": "white",
            "ticks": ""
           },
           "baxis": {
            "gridcolor": "white",
            "linecolor": "white",
            "ticks": ""
           },
           "bgcolor": "#E5ECF6",
           "caxis": {
            "gridcolor": "white",
            "linecolor": "white",
            "ticks": ""
           }
          },
          "title": {
           "x": 0.05
          },
          "xaxis": {
           "automargin": true,
           "gridcolor": "white",
           "linecolor": "white",
           "ticks": "",
           "title": {
            "standoff": 15
           },
           "zerolinecolor": "white",
           "zerolinewidth": 2
          },
          "yaxis": {
           "automargin": true,
           "gridcolor": "white",
           "linecolor": "white",
           "ticks": "",
           "title": {
            "standoff": 15
           },
           "zerolinecolor": "white",
           "zerolinewidth": 2
          }
         }
        },
        "title": {
         "text": "Layers vs. Model size "
        },
        "xaxis": {
         "title": {
          "text": "Layers of Model"
         }
        },
        "yaxis": {
         "title": {
          "text": "Model size in MB"
         }
        }
       }
      },
      "text/html": [
       "<div>                            <div id=\"3c6ce90b-58d4-4acb-a944-ce8328fdc72a\" class=\"plotly-graph-div\" style=\"height:525px; width:100%;\"></div>            <script type=\"text/javascript\">                require([\"plotly\"], function(Plotly) {                    window.PLOTLYENV=window.PLOTLYENV || {};                                    if (document.getElementById(\"3c6ce90b-58d4-4acb-a944-ce8328fdc72a\")) {                    Plotly.newPlot(                        \"3c6ce90b-58d4-4acb-a944-ce8328fdc72a\",                        [{\"mode\":\"lines+markers\",\"x\":[4,6,8,10,12],\"y\":[202.27,148.19,121.15,121.15,450],\"type\":\"scatter\"}],                        {\"template\":{\"data\":{\"histogram2dcontour\":[{\"type\":\"histogram2dcontour\",\"colorbar\":{\"outlinewidth\":0,\"ticks\":\"\"},\"colorscale\":[[0.0,\"#0d0887\"],[0.1111111111111111,\"#46039f\"],[0.2222222222222222,\"#7201a8\"],[0.3333333333333333,\"#9c179e\"],[0.4444444444444444,\"#bd3786\"],[0.5555555555555556,\"#d8576b\"],[0.6666666666666666,\"#ed7953\"],[0.7777777777777778,\"#fb9f3a\"],[0.8888888888888888,\"#fdca26\"],[1.0,\"#f0f921\"]]}],\"choropleth\":[{\"type\":\"choropleth\",\"colorbar\":{\"outlinewidth\":0,\"ticks\":\"\"}}],\"histogram2d\":[{\"type\":\"histogram2d\",\"colorbar\":{\"outlinewidth\":0,\"ticks\":\"\"},\"colorscale\":[[0.0,\"#0d0887\"],[0.1111111111111111,\"#46039f\"],[0.2222222222222222,\"#7201a8\"],[0.3333333333333333,\"#9c179e\"],[0.4444444444444444,\"#bd3786\"],[0.5555555555555556,\"#d8576b\"],[0.6666666666666666,\"#ed7953\"],[0.7777777777777778,\"#fb9f3a\"],[0.8888888888888888,\"#fdca26\"],[1.0,\"#f0f921\"]]}],\"heatmap\":[{\"type\":\"heatmap\",\"colorbar\":{\"outlinewidth\":0,\"ticks\":\"\"},\"colorscale\":[[0.0,\"#0d0887\"],[0.1111111111111111,\"#46039f\"],[0.2222222222222222,\"#7201a8\"],[0.3333333333333333,\"#9c179e\"],[0.4444444444444444,\"#bd3786\"],[0.5555555555555556,\"#d8576b\"],[0.6666666666666666,\"#ed7953\"],[0.7777777777777778,\"#fb9f3a\"],[0.8888888888888888,\"#fdca26\"],[1.0,\"#f0f921\"]]}],\"heatmapgl\":[{\"type\":\"heatmapgl\",\"colorbar\":{\"outlinewidth\":0,\"ticks\":\"\"},\"colorscale\":[[0.0,\"#0d0887\"],[0.1111111111111111,\"#46039f\"],[0.2222222222222222,\"#7201a8\"],[0.3333333333333333,\"#9c179e\"],[0.4444444444444444,\"#bd3786\"],[0.5555555555555556,\"#d8576b\"],[0.6666666666666666,\"#ed7953\"],[0.7777777777777778,\"#fb9f3a\"],[0.8888888888888888,\"#fdca26\"],[1.0,\"#f0f921\"]]}],\"contourcarpet\":[{\"type\":\"contourcarpet\",\"colorbar\":{\"outlinewidth\":0,\"ticks\":\"\"}}],\"contour\":[{\"type\":\"contour\",\"colorbar\":{\"outlinewidth\":0,\"ticks\":\"\"},\"colorscale\":[[0.0,\"#0d0887\"],[0.1111111111111111,\"#46039f\"],[0.2222222222222222,\"#7201a8\"],[0.3333333333333333,\"#9c179e\"],[0.4444444444444444,\"#bd3786\"],[0.5555555555555556,\"#d8576b\"],[0.6666666666666666,\"#ed7953\"],[0.7777777777777778,\"#fb9f3a\"],[0.8888888888888888,\"#fdca26\"],[1.0,\"#f0f921\"]]}],\"surface\":[{\"type\":\"surface\",\"colorbar\":{\"outlinewidth\":0,\"ticks\":\"\"},\"colorscale\":[[0.0,\"#0d0887\"],[0.1111111111111111,\"#46039f\"],[0.2222222222222222,\"#7201a8\"],[0.3333333333333333,\"#9c179e\"],[0.4444444444444444,\"#bd3786\"],[0.5555555555555556,\"#d8576b\"],[0.6666666666666666,\"#ed7953\"],[0.7777777777777778,\"#fb9f3a\"],[0.8888888888888888,\"#fdca26\"],[1.0,\"#f0f921\"]]}],\"mesh3d\":[{\"type\":\"mesh3d\",\"colorbar\":{\"outlinewidth\":0,\"ticks\":\"\"}}],\"scatter\":[{\"fillpattern\":{\"fillmode\":\"overlay\",\"size\":10,\"solidity\":0.2},\"type\":\"scatter\"}],\"parcoords\":[{\"type\":\"parcoords\",\"line\":{\"colorbar\":{\"outlinewidth\":0,\"ticks\":\"\"}}}],\"scatterpolargl\":[{\"type\":\"scatterpolargl\",\"marker\":{\"colorbar\":{\"outlinewidth\":0,\"ticks\":\"\"}}}],\"bar\":[{\"error_x\":{\"color\":\"#2a3f5f\"},\"error_y\":{\"color\":\"#2a3f5f\"},\"marker\":{\"line\":{\"color\":\"#E5ECF6\",\"width\":0.5},\"pattern\":{\"fillmode\":\"overlay\",\"size\":10,\"solidity\":0.2}},\"type\":\"bar\"}],\"scattergeo\":[{\"type\":\"scattergeo\",\"marker\":{\"colorbar\":{\"outlinewidth\":0,\"ticks\":\"\"}}}],\"scatterpolar\":[{\"type\":\"scatterpolar\",\"marker\":{\"colorbar\":{\"outlinewidth\":0,\"ticks\":\"\"}}}],\"histogram\":[{\"marker\":{\"pattern\":{\"fillmode\":\"overlay\",\"size\":10,\"solidity\":0.2}},\"type\":\"histogram\"}],\"scattergl\":[{\"type\":\"scattergl\",\"marker\":{\"colorbar\":{\"outlinewidth\":0,\"ticks\":\"\"}}}],\"scatter3d\":[{\"type\":\"scatter3d\",\"line\":{\"colorbar\":{\"outlinewidth\":0,\"ticks\":\"\"}},\"marker\":{\"colorbar\":{\"outlinewidth\":0,\"ticks\":\"\"}}}],\"scattermapbox\":[{\"type\":\"scattermapbox\",\"marker\":{\"colorbar\":{\"outlinewidth\":0,\"ticks\":\"\"}}}],\"scatterternary\":[{\"type\":\"scatterternary\",\"marker\":{\"colorbar\":{\"outlinewidth\":0,\"ticks\":\"\"}}}],\"scattercarpet\":[{\"type\":\"scattercarpet\",\"marker\":{\"colorbar\":{\"outlinewidth\":0,\"ticks\":\"\"}}}],\"carpet\":[{\"aaxis\":{\"endlinecolor\":\"#2a3f5f\",\"gridcolor\":\"white\",\"linecolor\":\"white\",\"minorgridcolor\":\"white\",\"startlinecolor\":\"#2a3f5f\"},\"baxis\":{\"endlinecolor\":\"#2a3f5f\",\"gridcolor\":\"white\",\"linecolor\":\"white\",\"minorgridcolor\":\"white\",\"startlinecolor\":\"#2a3f5f\"},\"type\":\"carpet\"}],\"table\":[{\"cells\":{\"fill\":{\"color\":\"#EBF0F8\"},\"line\":{\"color\":\"white\"}},\"header\":{\"fill\":{\"color\":\"#C8D4E3\"},\"line\":{\"color\":\"white\"}},\"type\":\"table\"}],\"barpolar\":[{\"marker\":{\"line\":{\"color\":\"#E5ECF6\",\"width\":0.5},\"pattern\":{\"fillmode\":\"overlay\",\"size\":10,\"solidity\":0.2}},\"type\":\"barpolar\"}],\"pie\":[{\"automargin\":true,\"type\":\"pie\"}]},\"layout\":{\"autotypenumbers\":\"strict\",\"colorway\":[\"#636efa\",\"#EF553B\",\"#00cc96\",\"#ab63fa\",\"#FFA15A\",\"#19d3f3\",\"#FF6692\",\"#B6E880\",\"#FF97FF\",\"#FECB52\"],\"font\":{\"color\":\"#2a3f5f\"},\"hovermode\":\"closest\",\"hoverlabel\":{\"align\":\"left\"},\"paper_bgcolor\":\"white\",\"plot_bgcolor\":\"#E5ECF6\",\"polar\":{\"bgcolor\":\"#E5ECF6\",\"angularaxis\":{\"gridcolor\":\"white\",\"linecolor\":\"white\",\"ticks\":\"\"},\"radialaxis\":{\"gridcolor\":\"white\",\"linecolor\":\"white\",\"ticks\":\"\"}},\"ternary\":{\"bgcolor\":\"#E5ECF6\",\"aaxis\":{\"gridcolor\":\"white\",\"linecolor\":\"white\",\"ticks\":\"\"},\"baxis\":{\"gridcolor\":\"white\",\"linecolor\":\"white\",\"ticks\":\"\"},\"caxis\":{\"gridcolor\":\"white\",\"linecolor\":\"white\",\"ticks\":\"\"}},\"coloraxis\":{\"colorbar\":{\"outlinewidth\":0,\"ticks\":\"\"}},\"colorscale\":{\"sequential\":[[0.0,\"#0d0887\"],[0.1111111111111111,\"#46039f\"],[0.2222222222222222,\"#7201a8\"],[0.3333333333333333,\"#9c179e\"],[0.4444444444444444,\"#bd3786\"],[0.5555555555555556,\"#d8576b\"],[0.6666666666666666,\"#ed7953\"],[0.7777777777777778,\"#fb9f3a\"],[0.8888888888888888,\"#fdca26\"],[1.0,\"#f0f921\"]],\"sequentialminus\":[[0.0,\"#0d0887\"],[0.1111111111111111,\"#46039f\"],[0.2222222222222222,\"#7201a8\"],[0.3333333333333333,\"#9c179e\"],[0.4444444444444444,\"#bd3786\"],[0.5555555555555556,\"#d8576b\"],[0.6666666666666666,\"#ed7953\"],[0.7777777777777778,\"#fb9f3a\"],[0.8888888888888888,\"#fdca26\"],[1.0,\"#f0f921\"]],\"diverging\":[[0,\"#8e0152\"],[0.1,\"#c51b7d\"],[0.2,\"#de77ae\"],[0.3,\"#f1b6da\"],[0.4,\"#fde0ef\"],[0.5,\"#f7f7f7\"],[0.6,\"#e6f5d0\"],[0.7,\"#b8e186\"],[0.8,\"#7fbc41\"],[0.9,\"#4d9221\"],[1,\"#276419\"]]},\"xaxis\":{\"gridcolor\":\"white\",\"linecolor\":\"white\",\"ticks\":\"\",\"title\":{\"standoff\":15},\"zerolinecolor\":\"white\",\"automargin\":true,\"zerolinewidth\":2},\"yaxis\":{\"gridcolor\":\"white\",\"linecolor\":\"white\",\"ticks\":\"\",\"title\":{\"standoff\":15},\"zerolinecolor\":\"white\",\"automargin\":true,\"zerolinewidth\":2},\"scene\":{\"xaxis\":{\"backgroundcolor\":\"#E5ECF6\",\"gridcolor\":\"white\",\"linecolor\":\"white\",\"showbackground\":true,\"ticks\":\"\",\"zerolinecolor\":\"white\",\"gridwidth\":2},\"yaxis\":{\"backgroundcolor\":\"#E5ECF6\",\"gridcolor\":\"white\",\"linecolor\":\"white\",\"showbackground\":true,\"ticks\":\"\",\"zerolinecolor\":\"white\",\"gridwidth\":2},\"zaxis\":{\"backgroundcolor\":\"#E5ECF6\",\"gridcolor\":\"white\",\"linecolor\":\"white\",\"showbackground\":true,\"ticks\":\"\",\"zerolinecolor\":\"white\",\"gridwidth\":2}},\"shapedefaults\":{\"line\":{\"color\":\"#2a3f5f\"}},\"annotationdefaults\":{\"arrowcolor\":\"#2a3f5f\",\"arrowhead\":0,\"arrowwidth\":1},\"geo\":{\"bgcolor\":\"white\",\"landcolor\":\"#E5ECF6\",\"subunitcolor\":\"white\",\"showland\":true,\"showlakes\":true,\"lakecolor\":\"white\"},\"title\":{\"x\":0.05},\"mapbox\":{\"style\":\"light\"}}},\"title\":{\"text\":\"Layers vs. Model size \"},\"xaxis\":{\"title\":{\"text\":\"Layers of Model\"}},\"yaxis\":{\"title\":{\"text\":\"Model size in MB\"}}},                        {\"responsive\": true}                    ).then(function(){\n",
       "                            \n",
       "var gd = document.getElementById('3c6ce90b-58d4-4acb-a944-ce8328fdc72a');\n",
       "var x = new MutationObserver(function (mutations, observer) {{\n",
       "        var display = window.getComputedStyle(gd).display;\n",
       "        if (!display || display === 'none') {{\n",
       "            console.log([gd, 'removed!']);\n",
       "            Plotly.purge(gd);\n",
       "            observer.disconnect();\n",
       "        }}\n",
       "}});\n",
       "\n",
       "// Listen for the removal of the full notebook cells\n",
       "var notebookContainer = gd.closest('#notebook-container');\n",
       "if (notebookContainer) {{\n",
       "    x.observe(notebookContainer, {childList: true});\n",
       "}}\n",
       "\n",
       "// Listen for the clearing of the current output cell\n",
       "var outputEl = gd.closest('.output');\n",
       "if (outputEl) {{\n",
       "    x.observe(outputEl, {childList: true});\n",
       "}}\n",
       "\n",
       "                        })                };                });            </script>        </div>"
      ]
     },
     "metadata": {},
     "output_type": "display_data"
    }
   ],
   "source": [
    "fig_model_size = go.Figure()\n",
    "fig_model_size.add_trace(go.Scatter(x=layers, y=model_size_MB, mode='lines+markers'))\n",
    "fig_model_size.update_layout(title='Layers vs. Model size ', xaxis_title='Layers of Model', yaxis_title='Model size in MB')\n",
    "fig_model_size.show()"
   ]
  },
  {
   "cell_type": "markdown",
   "id": "0bb1b5da",
   "metadata": {},
   "source": [
    "# Graph between the layers and time taken to generate the embeddings"
   ]
  },
  {
   "cell_type": "code",
   "execution_count": 211,
   "id": "84d51179",
   "metadata": {},
   "outputs": [
    {
     "data": {
      "application/vnd.plotly.v1+json": {
       "config": {
        "plotlyServerURL": "https://plot.ly"
       },
       "data": [
        {
         "mode": "lines+markers",
         "type": "scatter",
         "x": [
          4,
          6,
          8,
          10,
          12
         ],
         "y": [
          570.79,
          331.94,
          443.23,
          535.87,
          653.05
         ]
        }
       ],
       "layout": {
        "template": {
         "data": {
          "bar": [
           {
            "error_x": {
             "color": "#2a3f5f"
            },
            "error_y": {
             "color": "#2a3f5f"
            },
            "marker": {
             "line": {
              "color": "#E5ECF6",
              "width": 0.5
             },
             "pattern": {
              "fillmode": "overlay",
              "size": 10,
              "solidity": 0.2
             }
            },
            "type": "bar"
           }
          ],
          "barpolar": [
           {
            "marker": {
             "line": {
              "color": "#E5ECF6",
              "width": 0.5
             },
             "pattern": {
              "fillmode": "overlay",
              "size": 10,
              "solidity": 0.2
             }
            },
            "type": "barpolar"
           }
          ],
          "carpet": [
           {
            "aaxis": {
             "endlinecolor": "#2a3f5f",
             "gridcolor": "white",
             "linecolor": "white",
             "minorgridcolor": "white",
             "startlinecolor": "#2a3f5f"
            },
            "baxis": {
             "endlinecolor": "#2a3f5f",
             "gridcolor": "white",
             "linecolor": "white",
             "minorgridcolor": "white",
             "startlinecolor": "#2a3f5f"
            },
            "type": "carpet"
           }
          ],
          "choropleth": [
           {
            "colorbar": {
             "outlinewidth": 0,
             "ticks": ""
            },
            "type": "choropleth"
           }
          ],
          "contour": [
           {
            "colorbar": {
             "outlinewidth": 0,
             "ticks": ""
            },
            "colorscale": [
             [
              0,
              "#0d0887"
             ],
             [
              0.1111111111111111,
              "#46039f"
             ],
             [
              0.2222222222222222,
              "#7201a8"
             ],
             [
              0.3333333333333333,
              "#9c179e"
             ],
             [
              0.4444444444444444,
              "#bd3786"
             ],
             [
              0.5555555555555556,
              "#d8576b"
             ],
             [
              0.6666666666666666,
              "#ed7953"
             ],
             [
              0.7777777777777778,
              "#fb9f3a"
             ],
             [
              0.8888888888888888,
              "#fdca26"
             ],
             [
              1,
              "#f0f921"
             ]
            ],
            "type": "contour"
           }
          ],
          "contourcarpet": [
           {
            "colorbar": {
             "outlinewidth": 0,
             "ticks": ""
            },
            "type": "contourcarpet"
           }
          ],
          "heatmap": [
           {
            "colorbar": {
             "outlinewidth": 0,
             "ticks": ""
            },
            "colorscale": [
             [
              0,
              "#0d0887"
             ],
             [
              0.1111111111111111,
              "#46039f"
             ],
             [
              0.2222222222222222,
              "#7201a8"
             ],
             [
              0.3333333333333333,
              "#9c179e"
             ],
             [
              0.4444444444444444,
              "#bd3786"
             ],
             [
              0.5555555555555556,
              "#d8576b"
             ],
             [
              0.6666666666666666,
              "#ed7953"
             ],
             [
              0.7777777777777778,
              "#fb9f3a"
             ],
             [
              0.8888888888888888,
              "#fdca26"
             ],
             [
              1,
              "#f0f921"
             ]
            ],
            "type": "heatmap"
           }
          ],
          "heatmapgl": [
           {
            "colorbar": {
             "outlinewidth": 0,
             "ticks": ""
            },
            "colorscale": [
             [
              0,
              "#0d0887"
             ],
             [
              0.1111111111111111,
              "#46039f"
             ],
             [
              0.2222222222222222,
              "#7201a8"
             ],
             [
              0.3333333333333333,
              "#9c179e"
             ],
             [
              0.4444444444444444,
              "#bd3786"
             ],
             [
              0.5555555555555556,
              "#d8576b"
             ],
             [
              0.6666666666666666,
              "#ed7953"
             ],
             [
              0.7777777777777778,
              "#fb9f3a"
             ],
             [
              0.8888888888888888,
              "#fdca26"
             ],
             [
              1,
              "#f0f921"
             ]
            ],
            "type": "heatmapgl"
           }
          ],
          "histogram": [
           {
            "marker": {
             "pattern": {
              "fillmode": "overlay",
              "size": 10,
              "solidity": 0.2
             }
            },
            "type": "histogram"
           }
          ],
          "histogram2d": [
           {
            "colorbar": {
             "outlinewidth": 0,
             "ticks": ""
            },
            "colorscale": [
             [
              0,
              "#0d0887"
             ],
             [
              0.1111111111111111,
              "#46039f"
             ],
             [
              0.2222222222222222,
              "#7201a8"
             ],
             [
              0.3333333333333333,
              "#9c179e"
             ],
             [
              0.4444444444444444,
              "#bd3786"
             ],
             [
              0.5555555555555556,
              "#d8576b"
             ],
             [
              0.6666666666666666,
              "#ed7953"
             ],
             [
              0.7777777777777778,
              "#fb9f3a"
             ],
             [
              0.8888888888888888,
              "#fdca26"
             ],
             [
              1,
              "#f0f921"
             ]
            ],
            "type": "histogram2d"
           }
          ],
          "histogram2dcontour": [
           {
            "colorbar": {
             "outlinewidth": 0,
             "ticks": ""
            },
            "colorscale": [
             [
              0,
              "#0d0887"
             ],
             [
              0.1111111111111111,
              "#46039f"
             ],
             [
              0.2222222222222222,
              "#7201a8"
             ],
             [
              0.3333333333333333,
              "#9c179e"
             ],
             [
              0.4444444444444444,
              "#bd3786"
             ],
             [
              0.5555555555555556,
              "#d8576b"
             ],
             [
              0.6666666666666666,
              "#ed7953"
             ],
             [
              0.7777777777777778,
              "#fb9f3a"
             ],
             [
              0.8888888888888888,
              "#fdca26"
             ],
             [
              1,
              "#f0f921"
             ]
            ],
            "type": "histogram2dcontour"
           }
          ],
          "mesh3d": [
           {
            "colorbar": {
             "outlinewidth": 0,
             "ticks": ""
            },
            "type": "mesh3d"
           }
          ],
          "parcoords": [
           {
            "line": {
             "colorbar": {
              "outlinewidth": 0,
              "ticks": ""
             }
            },
            "type": "parcoords"
           }
          ],
          "pie": [
           {
            "automargin": true,
            "type": "pie"
           }
          ],
          "scatter": [
           {
            "fillpattern": {
             "fillmode": "overlay",
             "size": 10,
             "solidity": 0.2
            },
            "type": "scatter"
           }
          ],
          "scatter3d": [
           {
            "line": {
             "colorbar": {
              "outlinewidth": 0,
              "ticks": ""
             }
            },
            "marker": {
             "colorbar": {
              "outlinewidth": 0,
              "ticks": ""
             }
            },
            "type": "scatter3d"
           }
          ],
          "scattercarpet": [
           {
            "marker": {
             "colorbar": {
              "outlinewidth": 0,
              "ticks": ""
             }
            },
            "type": "scattercarpet"
           }
          ],
          "scattergeo": [
           {
            "marker": {
             "colorbar": {
              "outlinewidth": 0,
              "ticks": ""
             }
            },
            "type": "scattergeo"
           }
          ],
          "scattergl": [
           {
            "marker": {
             "colorbar": {
              "outlinewidth": 0,
              "ticks": ""
             }
            },
            "type": "scattergl"
           }
          ],
          "scattermapbox": [
           {
            "marker": {
             "colorbar": {
              "outlinewidth": 0,
              "ticks": ""
             }
            },
            "type": "scattermapbox"
           }
          ],
          "scatterpolar": [
           {
            "marker": {
             "colorbar": {
              "outlinewidth": 0,
              "ticks": ""
             }
            },
            "type": "scatterpolar"
           }
          ],
          "scatterpolargl": [
           {
            "marker": {
             "colorbar": {
              "outlinewidth": 0,
              "ticks": ""
             }
            },
            "type": "scatterpolargl"
           }
          ],
          "scatterternary": [
           {
            "marker": {
             "colorbar": {
              "outlinewidth": 0,
              "ticks": ""
             }
            },
            "type": "scatterternary"
           }
          ],
          "surface": [
           {
            "colorbar": {
             "outlinewidth": 0,
             "ticks": ""
            },
            "colorscale": [
             [
              0,
              "#0d0887"
             ],
             [
              0.1111111111111111,
              "#46039f"
             ],
             [
              0.2222222222222222,
              "#7201a8"
             ],
             [
              0.3333333333333333,
              "#9c179e"
             ],
             [
              0.4444444444444444,
              "#bd3786"
             ],
             [
              0.5555555555555556,
              "#d8576b"
             ],
             [
              0.6666666666666666,
              "#ed7953"
             ],
             [
              0.7777777777777778,
              "#fb9f3a"
             ],
             [
              0.8888888888888888,
              "#fdca26"
             ],
             [
              1,
              "#f0f921"
             ]
            ],
            "type": "surface"
           }
          ],
          "table": [
           {
            "cells": {
             "fill": {
              "color": "#EBF0F8"
             },
             "line": {
              "color": "white"
             }
            },
            "header": {
             "fill": {
              "color": "#C8D4E3"
             },
             "line": {
              "color": "white"
             }
            },
            "type": "table"
           }
          ]
         },
         "layout": {
          "annotationdefaults": {
           "arrowcolor": "#2a3f5f",
           "arrowhead": 0,
           "arrowwidth": 1
          },
          "autotypenumbers": "strict",
          "coloraxis": {
           "colorbar": {
            "outlinewidth": 0,
            "ticks": ""
           }
          },
          "colorscale": {
           "diverging": [
            [
             0,
             "#8e0152"
            ],
            [
             0.1,
             "#c51b7d"
            ],
            [
             0.2,
             "#de77ae"
            ],
            [
             0.3,
             "#f1b6da"
            ],
            [
             0.4,
             "#fde0ef"
            ],
            [
             0.5,
             "#f7f7f7"
            ],
            [
             0.6,
             "#e6f5d0"
            ],
            [
             0.7,
             "#b8e186"
            ],
            [
             0.8,
             "#7fbc41"
            ],
            [
             0.9,
             "#4d9221"
            ],
            [
             1,
             "#276419"
            ]
           ],
           "sequential": [
            [
             0,
             "#0d0887"
            ],
            [
             0.1111111111111111,
             "#46039f"
            ],
            [
             0.2222222222222222,
             "#7201a8"
            ],
            [
             0.3333333333333333,
             "#9c179e"
            ],
            [
             0.4444444444444444,
             "#bd3786"
            ],
            [
             0.5555555555555556,
             "#d8576b"
            ],
            [
             0.6666666666666666,
             "#ed7953"
            ],
            [
             0.7777777777777778,
             "#fb9f3a"
            ],
            [
             0.8888888888888888,
             "#fdca26"
            ],
            [
             1,
             "#f0f921"
            ]
           ],
           "sequentialminus": [
            [
             0,
             "#0d0887"
            ],
            [
             0.1111111111111111,
             "#46039f"
            ],
            [
             0.2222222222222222,
             "#7201a8"
            ],
            [
             0.3333333333333333,
             "#9c179e"
            ],
            [
             0.4444444444444444,
             "#bd3786"
            ],
            [
             0.5555555555555556,
             "#d8576b"
            ],
            [
             0.6666666666666666,
             "#ed7953"
            ],
            [
             0.7777777777777778,
             "#fb9f3a"
            ],
            [
             0.8888888888888888,
             "#fdca26"
            ],
            [
             1,
             "#f0f921"
            ]
           ]
          },
          "colorway": [
           "#636efa",
           "#EF553B",
           "#00cc96",
           "#ab63fa",
           "#FFA15A",
           "#19d3f3",
           "#FF6692",
           "#B6E880",
           "#FF97FF",
           "#FECB52"
          ],
          "font": {
           "color": "#2a3f5f"
          },
          "geo": {
           "bgcolor": "white",
           "lakecolor": "white",
           "landcolor": "#E5ECF6",
           "showlakes": true,
           "showland": true,
           "subunitcolor": "white"
          },
          "hoverlabel": {
           "align": "left"
          },
          "hovermode": "closest",
          "mapbox": {
           "style": "light"
          },
          "paper_bgcolor": "white",
          "plot_bgcolor": "#E5ECF6",
          "polar": {
           "angularaxis": {
            "gridcolor": "white",
            "linecolor": "white",
            "ticks": ""
           },
           "bgcolor": "#E5ECF6",
           "radialaxis": {
            "gridcolor": "white",
            "linecolor": "white",
            "ticks": ""
           }
          },
          "scene": {
           "xaxis": {
            "backgroundcolor": "#E5ECF6",
            "gridcolor": "white",
            "gridwidth": 2,
            "linecolor": "white",
            "showbackground": true,
            "ticks": "",
            "zerolinecolor": "white"
           },
           "yaxis": {
            "backgroundcolor": "#E5ECF6",
            "gridcolor": "white",
            "gridwidth": 2,
            "linecolor": "white",
            "showbackground": true,
            "ticks": "",
            "zerolinecolor": "white"
           },
           "zaxis": {
            "backgroundcolor": "#E5ECF6",
            "gridcolor": "white",
            "gridwidth": 2,
            "linecolor": "white",
            "showbackground": true,
            "ticks": "",
            "zerolinecolor": "white"
           }
          },
          "shapedefaults": {
           "line": {
            "color": "#2a3f5f"
           }
          },
          "ternary": {
           "aaxis": {
            "gridcolor": "white",
            "linecolor": "white",
            "ticks": ""
           },
           "baxis": {
            "gridcolor": "white",
            "linecolor": "white",
            "ticks": ""
           },
           "bgcolor": "#E5ECF6",
           "caxis": {
            "gridcolor": "white",
            "linecolor": "white",
            "ticks": ""
           }
          },
          "title": {
           "x": 0.05
          },
          "xaxis": {
           "automargin": true,
           "gridcolor": "white",
           "linecolor": "white",
           "ticks": "",
           "title": {
            "standoff": 15
           },
           "zerolinecolor": "white",
           "zerolinewidth": 2
          },
          "yaxis": {
           "automargin": true,
           "gridcolor": "white",
           "linecolor": "white",
           "ticks": "",
           "title": {
            "standoff": 15
           },
           "zerolinecolor": "white",
           "zerolinewidth": 2
          }
         }
        },
        "title": {
         "text": "Layers vs time taken to generate to Embeddings "
        },
        "xaxis": {
         "title": {
          "text": "Layers of Model"
         }
        },
        "yaxis": {
         "title": {
          "text": "time taken to generate embeddings (sec)"
         }
        }
       }
      },
      "text/html": [
       "<div>                            <div id=\"3ec0cc1f-5eae-42e7-b841-d10030b01555\" class=\"plotly-graph-div\" style=\"height:525px; width:100%;\"></div>            <script type=\"text/javascript\">                require([\"plotly\"], function(Plotly) {                    window.PLOTLYENV=window.PLOTLYENV || {};                                    if (document.getElementById(\"3ec0cc1f-5eae-42e7-b841-d10030b01555\")) {                    Plotly.newPlot(                        \"3ec0cc1f-5eae-42e7-b841-d10030b01555\",                        [{\"mode\":\"lines+markers\",\"x\":[4,6,8,10,12],\"y\":[570.79,331.94,443.23,535.87,653.05],\"type\":\"scatter\"}],                        {\"template\":{\"data\":{\"histogram2dcontour\":[{\"type\":\"histogram2dcontour\",\"colorbar\":{\"outlinewidth\":0,\"ticks\":\"\"},\"colorscale\":[[0.0,\"#0d0887\"],[0.1111111111111111,\"#46039f\"],[0.2222222222222222,\"#7201a8\"],[0.3333333333333333,\"#9c179e\"],[0.4444444444444444,\"#bd3786\"],[0.5555555555555556,\"#d8576b\"],[0.6666666666666666,\"#ed7953\"],[0.7777777777777778,\"#fb9f3a\"],[0.8888888888888888,\"#fdca26\"],[1.0,\"#f0f921\"]]}],\"choropleth\":[{\"type\":\"choropleth\",\"colorbar\":{\"outlinewidth\":0,\"ticks\":\"\"}}],\"histogram2d\":[{\"type\":\"histogram2d\",\"colorbar\":{\"outlinewidth\":0,\"ticks\":\"\"},\"colorscale\":[[0.0,\"#0d0887\"],[0.1111111111111111,\"#46039f\"],[0.2222222222222222,\"#7201a8\"],[0.3333333333333333,\"#9c179e\"],[0.4444444444444444,\"#bd3786\"],[0.5555555555555556,\"#d8576b\"],[0.6666666666666666,\"#ed7953\"],[0.7777777777777778,\"#fb9f3a\"],[0.8888888888888888,\"#fdca26\"],[1.0,\"#f0f921\"]]}],\"heatmap\":[{\"type\":\"heatmap\",\"colorbar\":{\"outlinewidth\":0,\"ticks\":\"\"},\"colorscale\":[[0.0,\"#0d0887\"],[0.1111111111111111,\"#46039f\"],[0.2222222222222222,\"#7201a8\"],[0.3333333333333333,\"#9c179e\"],[0.4444444444444444,\"#bd3786\"],[0.5555555555555556,\"#d8576b\"],[0.6666666666666666,\"#ed7953\"],[0.7777777777777778,\"#fb9f3a\"],[0.8888888888888888,\"#fdca26\"],[1.0,\"#f0f921\"]]}],\"heatmapgl\":[{\"type\":\"heatmapgl\",\"colorbar\":{\"outlinewidth\":0,\"ticks\":\"\"},\"colorscale\":[[0.0,\"#0d0887\"],[0.1111111111111111,\"#46039f\"],[0.2222222222222222,\"#7201a8\"],[0.3333333333333333,\"#9c179e\"],[0.4444444444444444,\"#bd3786\"],[0.5555555555555556,\"#d8576b\"],[0.6666666666666666,\"#ed7953\"],[0.7777777777777778,\"#fb9f3a\"],[0.8888888888888888,\"#fdca26\"],[1.0,\"#f0f921\"]]}],\"contourcarpet\":[{\"type\":\"contourcarpet\",\"colorbar\":{\"outlinewidth\":0,\"ticks\":\"\"}}],\"contour\":[{\"type\":\"contour\",\"colorbar\":{\"outlinewidth\":0,\"ticks\":\"\"},\"colorscale\":[[0.0,\"#0d0887\"],[0.1111111111111111,\"#46039f\"],[0.2222222222222222,\"#7201a8\"],[0.3333333333333333,\"#9c179e\"],[0.4444444444444444,\"#bd3786\"],[0.5555555555555556,\"#d8576b\"],[0.6666666666666666,\"#ed7953\"],[0.7777777777777778,\"#fb9f3a\"],[0.8888888888888888,\"#fdca26\"],[1.0,\"#f0f921\"]]}],\"surface\":[{\"type\":\"surface\",\"colorbar\":{\"outlinewidth\":0,\"ticks\":\"\"},\"colorscale\":[[0.0,\"#0d0887\"],[0.1111111111111111,\"#46039f\"],[0.2222222222222222,\"#7201a8\"],[0.3333333333333333,\"#9c179e\"],[0.4444444444444444,\"#bd3786\"],[0.5555555555555556,\"#d8576b\"],[0.6666666666666666,\"#ed7953\"],[0.7777777777777778,\"#fb9f3a\"],[0.8888888888888888,\"#fdca26\"],[1.0,\"#f0f921\"]]}],\"mesh3d\":[{\"type\":\"mesh3d\",\"colorbar\":{\"outlinewidth\":0,\"ticks\":\"\"}}],\"scatter\":[{\"fillpattern\":{\"fillmode\":\"overlay\",\"size\":10,\"solidity\":0.2},\"type\":\"scatter\"}],\"parcoords\":[{\"type\":\"parcoords\",\"line\":{\"colorbar\":{\"outlinewidth\":0,\"ticks\":\"\"}}}],\"scatterpolargl\":[{\"type\":\"scatterpolargl\",\"marker\":{\"colorbar\":{\"outlinewidth\":0,\"ticks\":\"\"}}}],\"bar\":[{\"error_x\":{\"color\":\"#2a3f5f\"},\"error_y\":{\"color\":\"#2a3f5f\"},\"marker\":{\"line\":{\"color\":\"#E5ECF6\",\"width\":0.5},\"pattern\":{\"fillmode\":\"overlay\",\"size\":10,\"solidity\":0.2}},\"type\":\"bar\"}],\"scattergeo\":[{\"type\":\"scattergeo\",\"marker\":{\"colorbar\":{\"outlinewidth\":0,\"ticks\":\"\"}}}],\"scatterpolar\":[{\"type\":\"scatterpolar\",\"marker\":{\"colorbar\":{\"outlinewidth\":0,\"ticks\":\"\"}}}],\"histogram\":[{\"marker\":{\"pattern\":{\"fillmode\":\"overlay\",\"size\":10,\"solidity\":0.2}},\"type\":\"histogram\"}],\"scattergl\":[{\"type\":\"scattergl\",\"marker\":{\"colorbar\":{\"outlinewidth\":0,\"ticks\":\"\"}}}],\"scatter3d\":[{\"type\":\"scatter3d\",\"line\":{\"colorbar\":{\"outlinewidth\":0,\"ticks\":\"\"}},\"marker\":{\"colorbar\":{\"outlinewidth\":0,\"ticks\":\"\"}}}],\"scattermapbox\":[{\"type\":\"scattermapbox\",\"marker\":{\"colorbar\":{\"outlinewidth\":0,\"ticks\":\"\"}}}],\"scatterternary\":[{\"type\":\"scatterternary\",\"marker\":{\"colorbar\":{\"outlinewidth\":0,\"ticks\":\"\"}}}],\"scattercarpet\":[{\"type\":\"scattercarpet\",\"marker\":{\"colorbar\":{\"outlinewidth\":0,\"ticks\":\"\"}}}],\"carpet\":[{\"aaxis\":{\"endlinecolor\":\"#2a3f5f\",\"gridcolor\":\"white\",\"linecolor\":\"white\",\"minorgridcolor\":\"white\",\"startlinecolor\":\"#2a3f5f\"},\"baxis\":{\"endlinecolor\":\"#2a3f5f\",\"gridcolor\":\"white\",\"linecolor\":\"white\",\"minorgridcolor\":\"white\",\"startlinecolor\":\"#2a3f5f\"},\"type\":\"carpet\"}],\"table\":[{\"cells\":{\"fill\":{\"color\":\"#EBF0F8\"},\"line\":{\"color\":\"white\"}},\"header\":{\"fill\":{\"color\":\"#C8D4E3\"},\"line\":{\"color\":\"white\"}},\"type\":\"table\"}],\"barpolar\":[{\"marker\":{\"line\":{\"color\":\"#E5ECF6\",\"width\":0.5},\"pattern\":{\"fillmode\":\"overlay\",\"size\":10,\"solidity\":0.2}},\"type\":\"barpolar\"}],\"pie\":[{\"automargin\":true,\"type\":\"pie\"}]},\"layout\":{\"autotypenumbers\":\"strict\",\"colorway\":[\"#636efa\",\"#EF553B\",\"#00cc96\",\"#ab63fa\",\"#FFA15A\",\"#19d3f3\",\"#FF6692\",\"#B6E880\",\"#FF97FF\",\"#FECB52\"],\"font\":{\"color\":\"#2a3f5f\"},\"hovermode\":\"closest\",\"hoverlabel\":{\"align\":\"left\"},\"paper_bgcolor\":\"white\",\"plot_bgcolor\":\"#E5ECF6\",\"polar\":{\"bgcolor\":\"#E5ECF6\",\"angularaxis\":{\"gridcolor\":\"white\",\"linecolor\":\"white\",\"ticks\":\"\"},\"radialaxis\":{\"gridcolor\":\"white\",\"linecolor\":\"white\",\"ticks\":\"\"}},\"ternary\":{\"bgcolor\":\"#E5ECF6\",\"aaxis\":{\"gridcolor\":\"white\",\"linecolor\":\"white\",\"ticks\":\"\"},\"baxis\":{\"gridcolor\":\"white\",\"linecolor\":\"white\",\"ticks\":\"\"},\"caxis\":{\"gridcolor\":\"white\",\"linecolor\":\"white\",\"ticks\":\"\"}},\"coloraxis\":{\"colorbar\":{\"outlinewidth\":0,\"ticks\":\"\"}},\"colorscale\":{\"sequential\":[[0.0,\"#0d0887\"],[0.1111111111111111,\"#46039f\"],[0.2222222222222222,\"#7201a8\"],[0.3333333333333333,\"#9c179e\"],[0.4444444444444444,\"#bd3786\"],[0.5555555555555556,\"#d8576b\"],[0.6666666666666666,\"#ed7953\"],[0.7777777777777778,\"#fb9f3a\"],[0.8888888888888888,\"#fdca26\"],[1.0,\"#f0f921\"]],\"sequentialminus\":[[0.0,\"#0d0887\"],[0.1111111111111111,\"#46039f\"],[0.2222222222222222,\"#7201a8\"],[0.3333333333333333,\"#9c179e\"],[0.4444444444444444,\"#bd3786\"],[0.5555555555555556,\"#d8576b\"],[0.6666666666666666,\"#ed7953\"],[0.7777777777777778,\"#fb9f3a\"],[0.8888888888888888,\"#fdca26\"],[1.0,\"#f0f921\"]],\"diverging\":[[0,\"#8e0152\"],[0.1,\"#c51b7d\"],[0.2,\"#de77ae\"],[0.3,\"#f1b6da\"],[0.4,\"#fde0ef\"],[0.5,\"#f7f7f7\"],[0.6,\"#e6f5d0\"],[0.7,\"#b8e186\"],[0.8,\"#7fbc41\"],[0.9,\"#4d9221\"],[1,\"#276419\"]]},\"xaxis\":{\"gridcolor\":\"white\",\"linecolor\":\"white\",\"ticks\":\"\",\"title\":{\"standoff\":15},\"zerolinecolor\":\"white\",\"automargin\":true,\"zerolinewidth\":2},\"yaxis\":{\"gridcolor\":\"white\",\"linecolor\":\"white\",\"ticks\":\"\",\"title\":{\"standoff\":15},\"zerolinecolor\":\"white\",\"automargin\":true,\"zerolinewidth\":2},\"scene\":{\"xaxis\":{\"backgroundcolor\":\"#E5ECF6\",\"gridcolor\":\"white\",\"linecolor\":\"white\",\"showbackground\":true,\"ticks\":\"\",\"zerolinecolor\":\"white\",\"gridwidth\":2},\"yaxis\":{\"backgroundcolor\":\"#E5ECF6\",\"gridcolor\":\"white\",\"linecolor\":\"white\",\"showbackground\":true,\"ticks\":\"\",\"zerolinecolor\":\"white\",\"gridwidth\":2},\"zaxis\":{\"backgroundcolor\":\"#E5ECF6\",\"gridcolor\":\"white\",\"linecolor\":\"white\",\"showbackground\":true,\"ticks\":\"\",\"zerolinecolor\":\"white\",\"gridwidth\":2}},\"shapedefaults\":{\"line\":{\"color\":\"#2a3f5f\"}},\"annotationdefaults\":{\"arrowcolor\":\"#2a3f5f\",\"arrowhead\":0,\"arrowwidth\":1},\"geo\":{\"bgcolor\":\"white\",\"landcolor\":\"#E5ECF6\",\"subunitcolor\":\"white\",\"showland\":true,\"showlakes\":true,\"lakecolor\":\"white\"},\"title\":{\"x\":0.05},\"mapbox\":{\"style\":\"light\"}}},\"title\":{\"text\":\"Layers vs time taken to generate to Embeddings \"},\"xaxis\":{\"title\":{\"text\":\"Layers of Model\"}},\"yaxis\":{\"title\":{\"text\":\"time taken to generate embeddings (sec)\"}}},                        {\"responsive\": true}                    ).then(function(){\n",
       "                            \n",
       "var gd = document.getElementById('3ec0cc1f-5eae-42e7-b841-d10030b01555');\n",
       "var x = new MutationObserver(function (mutations, observer) {{\n",
       "        var display = window.getComputedStyle(gd).display;\n",
       "        if (!display || display === 'none') {{\n",
       "            console.log([gd, 'removed!']);\n",
       "            Plotly.purge(gd);\n",
       "            observer.disconnect();\n",
       "        }}\n",
       "}});\n",
       "\n",
       "// Listen for the removal of the full notebook cells\n",
       "var notebookContainer = gd.closest('#notebook-container');\n",
       "if (notebookContainer) {{\n",
       "    x.observe(notebookContainer, {childList: true});\n",
       "}}\n",
       "\n",
       "// Listen for the clearing of the current output cell\n",
       "var outputEl = gd.closest('.output');\n",
       "if (outputEl) {{\n",
       "    x.observe(outputEl, {childList: true});\n",
       "}}\n",
       "\n",
       "                        })                };                });            </script>        </div>"
      ]
     },
     "metadata": {},
     "output_type": "display_data"
    }
   ],
   "source": [
    "fig_model_size = go.Figure()\n",
    "fig_model_size.add_trace(go.Scatter(x=layers, y=time_embedding_generation, mode='lines+markers'))\n",
    "fig_model_size.update_layout(title='Layers vs time taken to generate to Embeddings ', xaxis_title='Layers of Model', yaxis_title='time taken to generate embeddings (sec)')\n",
    "fig_model_size.show()"
   ]
  }
 ],
 "metadata": {
  "kernelspec": {
   "display_name": "Python 3 (ipykernel)",
   "language": "python",
   "name": "python3"
  },
  "language_info": {
   "codemirror_mode": {
    "name": "ipython",
    "version": 3
   },
   "file_extension": ".py",
   "mimetype": "text/x-python",
   "name": "python",
   "nbconvert_exporter": "python",
   "pygments_lexer": "ipython3",
   "version": "3.11.5"
  }
 },
 "nbformat": 4,
 "nbformat_minor": 5
}
