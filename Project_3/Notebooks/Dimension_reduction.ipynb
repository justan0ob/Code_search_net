{
 "cells": [
  {
   "cell_type": "markdown",
   "id": "dd1c5750",
   "metadata": {},
   "source": [
    "# Dimension reduction using PCA"
   ]
  },
  {
   "cell_type": "markdown",
   "id": "11ce7cd6",
   "metadata": {},
   "source": [
    "# imprting all necessary libararies "
   ]
  },
  {
   "cell_type": "code",
   "execution_count": 2,
   "id": "5085fcb2",
   "metadata": {},
   "outputs": [
    {
     "name": "stderr",
     "output_type": "stream",
     "text": [
      "/Users/msaqib/anaconda3/lib/python3.11/site-packages/transformers/utils/generic.py:441: UserWarning: torch.utils._pytree._register_pytree_node is deprecated. Please use torch.utils._pytree.register_pytree_node instead.\n",
      "  _torch_pytree._register_pytree_node(\n"
     ]
    }
   ],
   "source": [
    "import pandas as pd\n",
    "import numpy as np\n",
    "import os, sys\n",
    "sys.path.append('../')\n",
    "from transformers import AutoModel\n",
    "from sentence_transformers import SentenceTransformer\n",
    "from langchain_anthropic import ChatAnthropic\n",
    "from langchain_core.prompts import ChatPromptTemplate\n",
    "from src.other_function import functions\n",
    "from src.model_evaluation import evaluation\n",
    "from src.dimensionality_reduction_class import dimensionality_reduction\n"
   ]
  },
  {
   "cell_type": "markdown",
   "id": "bf77293b",
   "metadata": {},
   "source": [
    "# object of other_function class"
   ]
  },
  {
   "cell_type": "code",
   "execution_count": 4,
   "id": "5e3fc929",
   "metadata": {},
   "outputs": [],
   "source": [
    "func_object=functions()"
   ]
  },
  {
   "cell_type": "markdown",
   "id": "6dd2199d",
   "metadata": {},
   "source": [
    "# Creating the object of evaluation class"
   ]
  },
  {
   "cell_type": "code",
   "execution_count": null,
   "id": "da134bf8",
   "metadata": {},
   "outputs": [],
   "source": [
    "eval_object=evaluation()"
   ]
  },
  {
   "cell_type": "markdown",
   "id": "3cd2dba2",
   "metadata": {},
   "source": [
    "# Loading the data"
   ]
  },
  {
   "cell_type": "code",
   "execution_count": 23,
   "id": "28a1fe7f",
   "metadata": {},
   "outputs": [],
   "source": [
    "df=pd.read_csv(\"..//Data/processed_data.csv\")\n",
    "\n",
    "\n",
    "list_data = df['tokenized_docstring'].tolist()"
   ]
  },
  {
   "cell_type": "markdown",
   "id": "e9013c5c",
   "metadata": {},
   "source": [
    "# Loading the testing data"
   ]
  },
  {
   "cell_type": "code",
   "execution_count": 24,
   "id": "cb8da0a8",
   "metadata": {},
   "outputs": [],
   "source": [
    "queries=pd.read_csv(\"..//Data/query.csv\")"
   ]
  },
  {
   "cell_type": "markdown",
   "id": "a8b124a4",
   "metadata": {},
   "source": [
    "# Model name"
   ]
  },
  {
   "cell_type": "code",
   "execution_count": 8,
   "id": "9c1454a7",
   "metadata": {},
   "outputs": [],
   "source": [
    "model='all-mpnet-base-v2'"
   ]
  },
  {
   "cell_type": "markdown",
   "id": "cf256dd5",
   "metadata": {},
   "source": [
    "# Creating the model with less dimension "
   ]
  },
  {
   "cell_type": "code",
   "execution_count": 9,
   "id": "1688e8e5",
   "metadata": {},
   "outputs": [],
   "source": [
    "num_dimension=128\n",
    "\n",
    "dim_reduce_object=dimensionality_reduction(model,num_dimension)\n",
    "\n",
    "dim_reduce_object.reduce_dimension()"
   ]
  },
  {
   "cell_type": "markdown",
   "id": "96602e1d",
   "metadata": {},
   "source": [
    "# Generating the embeddings of less dimension model"
   ]
  },
  {
   "cell_type": "code",
   "execution_count": 11,
   "id": "2a6f04b7",
   "metadata": {},
   "outputs": [
    {
     "name": "stdout",
     "output_type": "stream",
     "text": [
      "starting_time : 1713367290.36\n",
      "ending_time : 1713368045.71\n",
      "Embedding_shape : (113884, 128)\n",
      "total_time_taken for embedding generation:  755.35 seconds \n"
     ]
    }
   ],
   "source": [
    "model_new_dim_128=SentenceTransformer('models/new_128_dim_model')\n",
    "func_object.get_model_embedding(model_new_dim_128,\"new_128_dim_model\")"
   ]
  },
  {
   "cell_type": "markdown",
   "id": "63e726e2",
   "metadata": {},
   "source": [
    "# size of embeddings\n"
   ]
  },
  {
   "cell_type": "code",
   "execution_count": 6,
   "id": "f8523232",
   "metadata": {},
   "outputs": [
    {
     "name": "stdout",
     "output_type": "stream",
     "text": [
      "size of embeddings : 55.61 MB \n"
     ]
    }
   ],
   "source": [
    "emb_size=func_object.get_embedding_size('..//embeddings/embeddings_new_128_dim_model.npy')\n",
    "print(f\"size of embeddings : {emb_size} \")"
   ]
  },
  {
   "cell_type": "markdown",
   "id": "5ff790bb",
   "metadata": {},
   "source": [
    "# Response on the testing data"
   ]
  },
  {
   "cell_type": "code",
   "execution_count": 31,
   "id": "bd0a222f",
   "metadata": {},
   "outputs": [
    {
     "name": "stdout",
     "output_type": "stream",
     "text": [
      "(113884, 128)\n"
     ]
    }
   ],
   "source": [
    "# order in which column of databse will be present\n",
    "column_order = ['Query', 'Docstrings', 'Code','Match']\n",
    "\n",
    "#creating the dataframe for dim_128_model which consists of for particular query all top code and\n",
    "#match column shows whether it is correctly retrieved or not\n",
    "dim_128_query_response=pd.DataFrame(columns=column_order)\n",
    "\n",
    "model_dim_128=SentenceTransformer('models/new_128_dim_model')\n",
    "\n",
    "emb_128_dim=np.load(\"embeddings/embeddings_new_128_dim_model.npy\")\n",
    "\n",
    "print(emb_128_dim.shape)\n",
    "\n",
    "for i in range(len(queries)):\n",
    "    #getting the particular query from queries \n",
    "    query=queries.loc[i].Questions\n",
    "    \n",
    "    # getting the table dataframe that consists of docstring and code \n",
    "    #that has top match with query using cosine similarity\n",
    "    table=eval_object.get_top_code_and_docstring(query,emb_128_dim,model_dim_128,list_data,df)\n",
    "    \n",
    "    #adding the column query with all values as \n",
    "    table=add_column(table,query)\n",
    "    \n",
    "    #adding columns Match that defines whether the code for given query is correctly retrieved or not\n",
    "    table=add_column(table,'Match')\n",
    "    \n",
    "    #reordering the table for better view\n",
    "    table=reorder_columns(table)\n",
    "    \n",
    "    #iterating in the table\n",
    "    for index,row in table.iterrows():\n",
    "        \n",
    "        #fetching the current code for query\n",
    "        result = row['Code']\n",
    "        \n",
    "        #getting the response from claude api\n",
    "        response=check_response(query,row['Code'])\n",
    "    \n",
    "        #Checking the value present in the response generated by the claude\n",
    "        if 'YES' in response.content:\n",
    "            response='YES'\n",
    "        else :\n",
    "            response='NO'\n",
    "            \n",
    "        #Giving the value of response in match column for current row\n",
    "        table.at[index,'Match']=response\n",
    "    \n",
    "    #merging the table dataframe and dim_128_query_response in single dataframe\n",
    "    dim_128_query_response= pd.concat([dim_128_query_response, table], ignore_index=True)"
   ]
  },
  {
   "cell_type": "markdown",
   "id": "51d919e5",
   "metadata": {},
   "source": [
    "# MAP of model with less dimension"
   ]
  },
  {
   "cell_type": "code",
   "execution_count": 32,
   "id": "3b9a76fb",
   "metadata": {},
   "outputs": [
    {
     "name": "stdout",
     "output_type": "stream",
     "text": [
      "MAP@10 (mean average precision) of 6 layer model : 51.40350877192983\n"
     ]
    }
   ],
   "source": [
    "total_yes = (dim_128_query_response['Match'] == 'YES').sum()\n",
    "total_no = (dim_128_query_response['Match'] == 'NO').sum()\n",
    "\n",
    "accuracy_dim_128=(total_yes/(total_yes+total_no))*100\n",
    "\n",
    "print(f\"MAP@10 (mean average precision) of 6 layer model : {accuracy_dim_128}\")\n"
   ]
  },
  {
   "cell_type": "code",
   "execution_count": null,
   "id": "74e2f0b9",
   "metadata": {},
   "outputs": [],
   "source": []
  },
  {
   "cell_type": "code",
   "execution_count": null,
   "id": "11b64bdb",
   "metadata": {},
   "outputs": [],
   "source": []
  },
  {
   "cell_type": "code",
   "execution_count": null,
   "id": "d459b966",
   "metadata": {},
   "outputs": [],
   "source": []
  },
  {
   "cell_type": "code",
   "execution_count": null,
   "id": "71809615",
   "metadata": {},
   "outputs": [],
   "source": []
  }
 ],
 "metadata": {
  "kernelspec": {
   "display_name": "Python 3 (ipykernel)",
   "language": "python",
   "name": "python3"
  },
  "language_info": {
   "codemirror_mode": {
    "name": "ipython",
    "version": 3
   },
   "file_extension": ".py",
   "mimetype": "text/x-python",
   "name": "python",
   "nbconvert_exporter": "python",
   "pygments_lexer": "ipython3",
   "version": "3.11.5"
  }
 },
 "nbformat": 4,
 "nbformat_minor": 5
}
