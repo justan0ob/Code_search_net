{
 "cells": [
  {
   "cell_type": "markdown",
   "id": "cf2f0e86",
   "metadata": {},
   "source": [
    "# Importing all necessary libraries"
   ]
  },
  {
   "cell_type": "code",
   "execution_count": 1,
   "id": "eba684b5",
   "metadata": {},
   "outputs": [
    {
     "name": "stderr",
     "output_type": "stream",
     "text": [
      "/Users/msaqib/anaconda3/lib/python3.11/site-packages/transformers/utils/generic.py:441: UserWarning: torch.utils._pytree._register_pytree_node is deprecated. Please use torch.utils._pytree.register_pytree_node instead.\n",
      "  _torch_pytree._register_pytree_node(\n"
     ]
    }
   ],
   "source": [
    "import pandas as pd\n",
    "import numpy as np\n",
    "import torch\n",
    "import os\n",
    "import sys\n",
    "\n",
    "from sentence_transformers import SentenceTransformer\n",
    "\n"
   ]
  },
  {
   "cell_type": "markdown",
   "id": "bd5831a5",
   "metadata": {},
   "source": [
    "# Importing loading_data class from data_loader.py in the src folder"
   ]
  },
  {
   "cell_type": "code",
   "execution_count": 2,
   "id": "a5f02c1c",
   "metadata": {},
   "outputs": [],
   "source": [
    "# Retrieving the current working directory \n",
    "current_directory = os.getcwd()\n",
    "\n",
    "# getting the parent directory of the current working directory\n",
    "parent_directory = os.path.dirname(current_directory)\n",
    "\n",
    "# Constructing a path to the \"Data\" directory located inside a directory named \"src\"\n",
    "src_data_directory = os.path.join(parent_directory, \"src\", \"Data\")\n",
    "\n",
    "# allowing Python to search for modules in this directory.\n",
    "sys.path.append(src_data_directory)\n",
    "\n",
    "#Importing the data_preprocessor class from the data_cleaner module located in the src -> Data.\n",
    "from data_loader import loading_data"
   ]
  },
  {
   "cell_type": "markdown",
   "id": "40bf91a4",
   "metadata": {},
   "source": [
    "# Creating an object of loading_data class"
   ]
  },
  {
   "cell_type": "code",
   "execution_count": 3,
   "id": "3c4bd32d",
   "metadata": {},
   "outputs": [
    {
     "data": {
      "text/plain": [
       "<data_loader.loading_data at 0x14e71a190>"
      ]
     },
     "execution_count": 3,
     "metadata": {},
     "output_type": "execute_result"
    }
   ],
   "source": [
    "load_object=loading_data()\n",
    "\n",
    "#checking object is created and getting the address of it\n",
    "load_object"
   ]
  },
  {
   "cell_type": "markdown",
   "id": "36e5073a",
   "metadata": {},
   "source": [
    "# Getting the path of processed_data by using function of loading_data class"
   ]
  },
  {
   "cell_type": "code",
   "execution_count": 4,
   "id": "9f9275ad",
   "metadata": {},
   "outputs": [
    {
     "name": "stdout",
     "output_type": "stream",
     "text": [
      "/Users/msaqib/Second_project/Data/processed_data.csv\n"
     ]
    }
   ],
   "source": [
    "processed_file_path=load_object.get_file_path(\"processed_data.csv\",\"Data\")\n",
    "print(processed_file_path)"
   ]
  },
  {
   "cell_type": "markdown",
   "id": "752ab4d7",
   "metadata": {},
   "source": [
    "# Reading the processed data"
   ]
  },
  {
   "cell_type": "code",
   "execution_count": 5,
   "id": "bde854a4",
   "metadata": {},
   "outputs": [],
   "source": [
    "df=pd.read_csv(processed_file_path)"
   ]
  },
  {
   "cell_type": "code",
   "execution_count": 6,
   "id": "f0686db8",
   "metadata": {},
   "outputs": [
    {
     "data": {
      "text/plain": [
       "(113799, 4)"
      ]
     },
     "execution_count": 6,
     "metadata": {},
     "output_type": "execute_result"
    }
   ],
   "source": [
    "df.shape"
   ]
  },
  {
   "cell_type": "markdown",
   "id": "719900ce",
   "metadata": {},
   "source": [
    "# converting the data of tokenized docstring into list "
   ]
  },
  {
   "cell_type": "code",
   "execution_count": 7,
   "id": "df3219b1",
   "metadata": {},
   "outputs": [],
   "source": [
    "list_data = df['tokenized_docstring'].tolist()"
   ]
  },
  {
   "cell_type": "code",
   "execution_count": 8,
   "id": "1534cc55",
   "metadata": {},
   "outputs": [
    {
     "data": {
      "text/plain": [
       "113799"
      ]
     },
     "execution_count": 8,
     "metadata": {},
     "output_type": "execute_result"
    }
   ],
   "source": [
    "len(list_data)"
   ]
  },
  {
   "cell_type": "markdown",
   "id": "56ed1291",
   "metadata": {},
   "source": [
    "# Model_1"
   ]
  },
  {
   "cell_type": "markdown",
   "id": "06dd5b4d",
   "metadata": {},
   "source": [
    "# Loading the model_1 from the  SentenceTransformer"
   ]
  },
  {
   "cell_type": "code",
   "execution_count": 9,
   "id": "127c5f6e",
   "metadata": {},
   "outputs": [
    {
     "name": "stderr",
     "output_type": "stream",
     "text": [
      "/Users/msaqib/anaconda3/lib/python3.11/site-packages/transformers/utils/generic.py:309: UserWarning: torch.utils._pytree._register_pytree_node is deprecated. Please use torch.utils._pytree.register_pytree_node instead.\n",
      "  _torch_pytree._register_pytree_node(\n"
     ]
    }
   ],
   "source": [
    "model1 = SentenceTransformer('sentence-transformers/all-mpnet-base-v2')"
   ]
  },
  {
   "cell_type": "markdown",
   "id": "58af317e",
   "metadata": {},
   "source": [
    "# Generating the Embeddings of model_1 for list data\n"
   ]
  },
  {
   "cell_type": "code",
   "execution_count": 10,
   "id": "51d511ea",
   "metadata": {},
   "outputs": [],
   "source": [
    "embeddings = model1.encode(list_data)\n"
   ]
  },
  {
   "cell_type": "markdown",
   "id": "3a6f5742",
   "metadata": {},
   "source": [
    "# Saving the embedding of the model_1 in Models folder"
   ]
  },
  {
   "cell_type": "code",
   "execution_count": 11,
   "id": "3b4c6491",
   "metadata": {},
   "outputs": [],
   "source": [
    "#Converting the embeddings of model_1 in array\n",
    "embeddings_model_1 = np.array(embeddings)\n",
    "\n",
    "#getting the path where we have to save the embeddings model\n",
    "model_1_path=load_object.get_file_path(\"embeddings_all_mpnet_base_v2.npy\",\"Models\")\n",
    "\n",
    "# saving the embeddings of model_1 in the path recieved\n",
    "np.save(model_1_path, embeddings_model_1)"
   ]
  },
  {
   "cell_type": "markdown",
   "id": "c039447d",
   "metadata": {},
   "source": [
    "# Loading the embeddings from Models folder"
   ]
  },
  {
   "cell_type": "code",
   "execution_count": 12,
   "id": "d89e16c2",
   "metadata": {},
   "outputs": [
    {
     "name": "stdout",
     "output_type": "stream",
     "text": [
      "/Users/msaqib/Second_project/Models/embeddings_all_mpnet_base_v2.npy\n"
     ]
    }
   ],
   "source": [
    "#getting the path where we have saved the embeddings of model_1\n",
    "embedding_1_path=load_object.get_file_path(\"embeddings_all_mpnet_base_v2.npy\",\"Models\")\n",
    "print(embedding_1_path)\n",
    "\n",
    "#Loading the embeddings of model_1 in notebook\n",
    "embeddings_model_1 = np.load(embedding_1_path)"
   ]
  },
  {
   "cell_type": "markdown",
   "id": "0ecfa4eb",
   "metadata": {},
   "source": [
    "# Type of embeddings of model_1"
   ]
  },
  {
   "cell_type": "code",
   "execution_count": 14,
   "id": "60fd2dca",
   "metadata": {},
   "outputs": [
    {
     "data": {
      "text/plain": [
       "numpy.ndarray"
      ]
     },
     "execution_count": 14,
     "metadata": {},
     "output_type": "execute_result"
    }
   ],
   "source": [
    "#checking the type of embeddings model\n",
    "type(embeddings_model_1)"
   ]
  },
  {
   "cell_type": "markdown",
   "id": "25cc0740",
   "metadata": {},
   "source": [
    "# Shape of embdeddings data"
   ]
  },
  {
   "cell_type": "code",
   "execution_count": 15,
   "id": "f947b6d3",
   "metadata": {},
   "outputs": [
    {
     "data": {
      "text/plain": [
       "(113799, 768)"
      ]
     },
     "execution_count": 15,
     "metadata": {},
     "output_type": "execute_result"
    }
   ],
   "source": [
    "embeddings_model_1.shape"
   ]
  },
  {
   "cell_type": "markdown",
   "id": "71e7b94a",
   "metadata": {},
   "source": [
    "# Model_2"
   ]
  },
  {
   "cell_type": "markdown",
   "id": "51678e8a",
   "metadata": {},
   "source": [
    "# Loading the model_2 from the  SentenceTransformer"
   ]
  },
  {
   "cell_type": "code",
   "execution_count": 16,
   "id": "05545920",
   "metadata": {},
   "outputs": [],
   "source": [
    "model_2 = SentenceTransformer('intfloat/multilingual-e5-large-instruct')\n"
   ]
  },
  {
   "cell_type": "markdown",
   "id": "f34a5217",
   "metadata": {},
   "source": [
    "# Generating the Embeddings of model_2 for list data\n"
   ]
  },
  {
   "cell_type": "code",
   "execution_count": 3,
   "id": "e084a1d6",
   "metadata": {},
   "outputs": [],
   "source": [
    "embeddings_2 = model_2.encode(list_data)\n"
   ]
  },
  {
   "cell_type": "markdown",
   "id": "6c127266",
   "metadata": {},
   "source": [
    "# Saving the embedding of the model_2 in Models folder"
   ]
  },
  {
   "cell_type": "code",
   "execution_count": null,
   "id": "0237300a",
   "metadata": {},
   "outputs": [],
   "source": [
    "#Converting the embeddings of model_2 in array\n",
    "embeddings_model_1 = np.array(embeddings_2)\n",
    "\n",
    "#getting the path where we have to save the embeddings model\n",
    "model_2_path=load_object.get_file_path(\"embeddings_multilingual_e5_large_instruct.npy\",\"Models\")\n",
    "\n",
    "# saving the embeddings of model_2 in the path recieved\n",
    "np.save(model_2_path, embeddings_model_2)"
   ]
  },
  {
   "cell_type": "markdown",
   "id": "379cd176",
   "metadata": {},
   "source": [
    "# Loading the embeddings of model_2 from Models folder"
   ]
  },
  {
   "cell_type": "code",
   "execution_count": null,
   "id": "e9cce974",
   "metadata": {},
   "outputs": [],
   "source": [
    "#getting the path where we have saved the embeddings of model_2\n",
    "embedding_2_path=load_object.get_file_path(\"embeddings_multilingual_e5_large_instruct.npy\",\"Models\")\n",
    "print(embedding_2_path)\n",
    "\n",
    "#Loading the embeddings of model_2 in notebook\n",
    "embeddings_model_2 = np.load(embedding_2_path)"
   ]
  },
  {
   "cell_type": "markdown",
   "id": "ef1262cc",
   "metadata": {},
   "source": [
    "# Shape of embdeddings of model_2 data"
   ]
  },
  {
   "cell_type": "code",
   "execution_count": null,
   "id": "a620a967",
   "metadata": {},
   "outputs": [],
   "source": [
    "embeddings_model_2.shape"
   ]
  },
  {
   "cell_type": "markdown",
   "id": "880ddd32",
   "metadata": {},
   "source": [
    "# Model_3"
   ]
  },
  {
   "cell_type": "markdown",
   "id": "fa433196",
   "metadata": {},
   "source": [
    "# Loading the model_3 from the  SentenceTransformer"
   ]
  },
  {
   "cell_type": "code",
   "execution_count": null,
   "id": "f52d4fc6",
   "metadata": {},
   "outputs": [],
   "source": [
    "model_3 = SentenceTransformer('intfloat/e5-base-v2')"
   ]
  },
  {
   "cell_type": "markdown",
   "id": "a5c03dee",
   "metadata": {},
   "source": [
    "# Generating the Embeddings of model_3 for list data\n"
   ]
  },
  {
   "cell_type": "code",
   "execution_count": null,
   "id": "1da82778",
   "metadata": {},
   "outputs": [],
   "source": [
    "embeddings_3 = model_3.encode(list_data)\n"
   ]
  },
  {
   "cell_type": "markdown",
   "id": "4f542d36",
   "metadata": {},
   "source": [
    "# Saving the embedding of the model_3 in Model folder"
   ]
  },
  {
   "cell_type": "code",
   "execution_count": null,
   "id": "f5ede6da",
   "metadata": {},
   "outputs": [],
   "source": [
    "#Converting the embeddings of model_3 in array\n",
    "embeddings_model_3 = np.array(embeddings_3)\n",
    "\n",
    "#getting the path where we have to save the embeddings model\n",
    "model_3_path=load_object.get_file_path(\"embeddings_intfloat_e5_base_v2.npy\",\"Models\")\n",
    "\n",
    "# saving the embeddings of model_3 in the path recieved\n",
    "np.save(model_3_path, embeddings_model_3)"
   ]
  },
  {
   "cell_type": "markdown",
   "id": "112c5e4e",
   "metadata": {},
   "source": [
    "# Loading the embeddings of model_3 from Models folder"
   ]
  },
  {
   "cell_type": "code",
   "execution_count": null,
   "id": "90619386",
   "metadata": {},
   "outputs": [],
   "source": [
    "#getting the path where we have saved the embeddings of model_3\n",
    "embedding_3_path=load_object.get_file_path(\"embeddings_intfloat_e5_base_v2.npy\",\"Models\")\n",
    "print(embedding_3_path)\n",
    "\n",
    "#Loading the embeddings of model_3 in notebook\n",
    "embeddings_model_3 = np.load(embedding_3_path)"
   ]
  },
  {
   "cell_type": "markdown",
   "id": "6a613123",
   "metadata": {},
   "source": [
    "# Shape of embdeddings of model_3 "
   ]
  },
  {
   "cell_type": "code",
   "execution_count": null,
   "id": "bca8f367",
   "metadata": {},
   "outputs": [],
   "source": [
    "embeddings_model_3.shape"
   ]
  },
  {
   "cell_type": "markdown",
   "id": "d6ab667b",
   "metadata": {},
   "source": [
    "# Model_4"
   ]
  },
  {
   "cell_type": "markdown",
   "id": "1132e6de",
   "metadata": {},
   "source": [
    "# Loading the model_4 from the  SentenceTransformer"
   ]
  },
  {
   "cell_type": "code",
   "execution_count": null,
   "id": "9b20153b",
   "metadata": {},
   "outputs": [],
   "source": [
    "model_4=SentenceTransformer(\"mixedbread-ai/mxbai-embed-2d-large-v1\")"
   ]
  },
  {
   "cell_type": "markdown",
   "id": "cc017796",
   "metadata": {},
   "source": [
    "# Generating the Embeddings of model_4 for list data\n"
   ]
  },
  {
   "cell_type": "code",
   "execution_count": null,
   "id": "5d1a2b1c",
   "metadata": {},
   "outputs": [],
   "source": [
    "embeddings_4 = model_4.encode(list_data)\n"
   ]
  },
  {
   "cell_type": "markdown",
   "id": "8b7914cc",
   "metadata": {},
   "source": [
    "# Saving the embedding of the model_4 in Model folder"
   ]
  },
  {
   "cell_type": "code",
   "execution_count": null,
   "id": "0bfa1b33",
   "metadata": {},
   "outputs": [],
   "source": [
    "#Converting the embeddings of model_4 in array\n",
    "embeddings_model_4 = np.array(embeddings_4)\n",
    "\n",
    "#getting the path where we have to save the embeddings model\n",
    "model_4_path=load_object.get_file_path(\"embeddings_mixedbread_ai_mxbai_embed_2d_large_v1.npy\",\"Models\")\n",
    "\n",
    "# saving the embeddings of model_4 in the path recieved\n",
    "np.save(model_4_path, embeddings_model_4)"
   ]
  },
  {
   "cell_type": "markdown",
   "id": "767057a7",
   "metadata": {},
   "source": [
    "# Loading the embeddings of model_4 from Models folder"
   ]
  },
  {
   "cell_type": "code",
   "execution_count": null,
   "id": "33975835",
   "metadata": {},
   "outputs": [],
   "source": [
    "#getting the path where we have saved the embeddings of model_4\n",
    "embedding_4_path=load_object.get_file_path(\"embeddings_mixedbread_ai_mxbai_embed_2d_large_v1.npy\",\"Models\")\n",
    "print(embedding_4_path)\n",
    "\n",
    "#Loading the embeddings of model_4 in notebook\n",
    "embeddings_model_4 = np.load(embedding_4_path)"
   ]
  },
  {
   "cell_type": "markdown",
   "id": "e52e5aa6",
   "metadata": {},
   "source": [
    "# Shape of embdeddings of model_4 "
   ]
  },
  {
   "cell_type": "code",
   "execution_count": null,
   "id": "19649528",
   "metadata": {},
   "outputs": [],
   "source": [
    "embeddings_model_4.shape"
   ]
  },
  {
   "cell_type": "markdown",
   "id": "43cface2",
   "metadata": {},
   "source": [
    "# Trial of other embeddings model"
   ]
  },
  {
   "cell_type": "code",
   "execution_count": null,
   "id": "9f5582c9",
   "metadata": {},
   "outputs": [],
   "source": [
    "''' I had tried to do the other embedings like (Salesforce/SFR-Embedding-Mistral) having embeddings dimension\n",
    " of 4096 and token size as 32768 but while loading this embedding model from hugging face into the jupyter notebook\n",
    " it gives an error of MPS backend out of memory as this model has size of 14.22 GB \n",
    " and  when i try it on the google collab by changing the system as T4 GPU , it has given the error 'your session \n",
    " crashed after using the all the available ram '\n",
    " similary, I had also try to used the (intfloat/e5-mistral-7b-instruct) embedding model with embedding vector \n",
    " size as 4096 \n",
    "and token size is 32768'''\n",
    "''' Since not able to use embeddings model of higher vector size ,I have to work on the medium size embeddings\n",
    "model with vector size of 1024, 768 '''"
   ]
  },
  {
   "cell_type": "code",
   "execution_count": 1,
   "id": "0970df49",
   "metadata": {},
   "outputs": [
    {
     "name": "stdout",
     "output_type": "stream",
     "text": [
      "Note: you may need to restart the kernel to use updated packages.\n"
     ]
    }
   ],
   "source": [
    "pip freeze -> requriements.txt"
   ]
  },
  {
   "cell_type": "code",
   "execution_count": null,
   "id": "6ba84857",
   "metadata": {},
   "outputs": [],
   "source": []
  }
 ],
 "metadata": {
  "kernelspec": {
   "display_name": "Python 3 (ipykernel)",
   "language": "python",
   "name": "python3"
  },
  "language_info": {
   "codemirror_mode": {
    "name": "ipython",
    "version": 3
   },
   "file_extension": ".py",
   "mimetype": "text/x-python",
   "name": "python",
   "nbconvert_exporter": "python",
   "pygments_lexer": "ipython3",
   "version": "3.11.5"
  }
 },
 "nbformat": 4,
 "nbformat_minor": 5
}
