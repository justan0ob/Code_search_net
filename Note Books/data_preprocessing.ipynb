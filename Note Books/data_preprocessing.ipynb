{
 "cells": [
  {
   "cell_type": "markdown",
   "id": "c74dfc98",
   "metadata": {},
   "source": [
    "# Importing necessary libraries"
   ]
  },
  {
   "cell_type": "code",
   "execution_count": 1,
   "id": "e229e514",
   "metadata": {},
   "outputs": [],
   "source": [
    "import pandas as pd\n",
    "import os\n",
    "import sys"
   ]
  },
  {
   "cell_type": "markdown",
   "id": "e855a036",
   "metadata": {},
   "source": [
    "# Importing data_preprocessor class from data_cleaner.py  and loading_data class from data_loader.py in the src folder"
   ]
  },
  {
   "cell_type": "code",
   "execution_count": 2,
   "id": "68ee4e50",
   "metadata": {},
   "outputs": [
    {
     "name": "stdout",
     "output_type": "stream",
     "text": [
      "/Users/msaqib/Second_project/src/Data\n"
     ]
    }
   ],
   "source": [
    "# Retrieving the current working directory \n",
    "current_directory = os.getcwd()\n",
    "\n",
    "# getting the parent directory of the current working directory\n",
    "parent_directory = os.path.dirname(current_directory)\n",
    "\n",
    "# Constructing a path to the \"Data\" directory located inside a directory named \"src\"\n",
    "src_data_directory = os.path.join(parent_directory, \"src\", \"Data\")\n",
    "print(src_data_directory)\n",
    "\n",
    "# allowing Python to search for modules in this directory.\n",
    "sys.path.append(src_data_directory)\n",
    "\n",
    "#Importing the data_preprocessor class from the data_cleaner module located in the src -> Data.\n",
    "from data_cleaner import data_preprocessor\n",
    "\n",
    "#Importing the loading_data class from the data_loader module located in the src -> Data.\n",
    "from data_loader import loading_data\n"
   ]
  },
  {
   "cell_type": "markdown",
   "id": "57aae55a",
   "metadata": {},
   "source": [
    "# Creating an object of the data_preprocessor class"
   ]
  },
  {
   "cell_type": "code",
   "execution_count": 3,
   "id": "caf16d08",
   "metadata": {},
   "outputs": [
    {
     "data": {
      "text/plain": [
       "<data_cleaner.data_preprocessor at 0x142439b90>"
      ]
     },
     "execution_count": 3,
     "metadata": {},
     "output_type": "execute_result"
    }
   ],
   "source": [
    "data_object = data_preprocessor()\n",
    "\n",
    "#checking object is created and getting the address of it\n",
    "data_object\n"
   ]
  },
  {
   "cell_type": "markdown",
   "id": "3d1339dc",
   "metadata": {},
   "source": [
    "# Creating an object of the loading_data class"
   ]
  },
  {
   "cell_type": "code",
   "execution_count": 4,
   "id": "327cbc53",
   "metadata": {},
   "outputs": [
    {
     "data": {
      "text/plain": [
       "<data_loader.loading_data at 0x14501a550>"
      ]
     },
     "execution_count": 4,
     "metadata": {},
     "output_type": "execute_result"
    }
   ],
   "source": [
    "load_object=loading_data()\n",
    "\n",
    "#checking object is created and getting the address of it\n",
    "load_object"
   ]
  },
  {
   "cell_type": "markdown",
   "id": "5c3b92b9",
   "metadata": {},
   "source": [
    "# Getting the path for interim_data file using function of loading_data class"
   ]
  },
  {
   "cell_type": "code",
   "execution_count": 5,
   "id": "7a930e7e",
   "metadata": {},
   "outputs": [
    {
     "name": "stdout",
     "output_type": "stream",
     "text": [
      "/Users/msaqib/Second_project/Data/interim_data.csv\n"
     ]
    }
   ],
   "source": [
    "interim_file_path =load_object.get_file_path(\"interim_data.csv\",\"Data\")\n",
    "\n",
    "print(interim_file_path)"
   ]
  },
  {
   "cell_type": "markdown",
   "id": "cdd0cc99",
   "metadata": {},
   "source": [
    "# Reading the interim data"
   ]
  },
  {
   "cell_type": "code",
   "execution_count": 6,
   "id": "0b74e71d",
   "metadata": {},
   "outputs": [],
   "source": [
    "data=pd.read_csv(interim_file_path)"
   ]
  },
  {
   "cell_type": "code",
   "execution_count": 7,
   "id": "ce48f5d8",
   "metadata": {},
   "outputs": [
    {
     "data": {
      "text/plain": [
       "(150000, 2)"
      ]
     },
     "execution_count": 7,
     "metadata": {},
     "output_type": "execute_result"
    }
   ],
   "source": [
    "#shape of data\n",
    "data.shape"
   ]
  },
  {
   "cell_type": "markdown",
   "id": "c799f3e4",
   "metadata": {},
   "source": [
    "# Applying preprocessing on docstring and code "
   ]
  },
  {
   "cell_type": "code",
   "execution_count": 7,
   "id": "db11cce6",
   "metadata": {},
   "outputs": [],
   "source": [
    "# applying preprocessing on docstring with the help of function in data_cleaner.py\n",
    "data['tokenized_docstring']=data['docstring'].apply(data_object.preprocessing_text)\n",
    "\n",
    "# applying preprocessing on code with the help of function in data_cleaner.py\n",
    "data['tokenized_code']=data['code'].apply(data_object.preprocessing_text)"
   ]
  },
  {
   "cell_type": "code",
   "execution_count": 8,
   "id": "2fdc732c",
   "metadata": {},
   "outputs": [
    {
     "data": {
      "text/html": [
       "<div>\n",
       "<style scoped>\n",
       "    .dataframe tbody tr th:only-of-type {\n",
       "        vertical-align: middle;\n",
       "    }\n",
       "\n",
       "    .dataframe tbody tr th {\n",
       "        vertical-align: top;\n",
       "    }\n",
       "\n",
       "    .dataframe thead th {\n",
       "        text-align: right;\n",
       "    }\n",
       "</style>\n",
       "<table border=\"1\" class=\"dataframe\">\n",
       "  <thead>\n",
       "    <tr style=\"text-align: right;\">\n",
       "      <th></th>\n",
       "      <th>docstring</th>\n",
       "      <th>code</th>\n",
       "      <th>tokenized_docstring</th>\n",
       "      <th>tokenized_code</th>\n",
       "    </tr>\n",
       "  </thead>\n",
       "  <tbody>\n",
       "    <tr>\n",
       "      <th>0</th>\n",
       "      <td>Multiprocessing target for the zmq queue device</td>\n",
       "      <td>def zmq_device(self):\\n        '''\\n        Mu...</td>\n",
       "      <td>multiprocessing target zmq queue device</td>\n",
       "      <td>def zmq_device self multiprocessing target zmq...</td>\n",
       "    </tr>\n",
       "    <tr>\n",
       "      <th>1</th>\n",
       "      <td>Cleanly shutdown the router socket</td>\n",
       "      <td>def close(self):\\n        '''\\n        Cleanly...</td>\n",
       "      <td>cleanly shutdown router socket</td>\n",
       "      <td>def close self cleanly shutdown router socket ...</td>\n",
       "    </tr>\n",
       "    <tr>\n",
       "      <th>2</th>\n",
       "      <td>Pre-fork we need to create the zmq router devi...</td>\n",
       "      <td>def pre_fork(self, process_manager):\\n        ...</td>\n",
       "      <td>pre fork need create zmq router device param f...</td>\n",
       "      <td>def pre_fork self process_manager pre fork nee...</td>\n",
       "    </tr>\n",
       "    <tr>\n",
       "      <th>3</th>\n",
       "      <td>Starts ZMQ monitor for debugging purposes.\\n  ...</td>\n",
       "      <td>def _start_zmq_monitor(self):\\n        '''\\n  ...</td>\n",
       "      <td>start zmq monitor debugging purpose return</td>\n",
       "      <td>def _start_zmq_monitor self start zmq monitor ...</td>\n",
       "    </tr>\n",
       "    <tr>\n",
       "      <th>4</th>\n",
       "      <td>After forking we need to create all of the loc...</td>\n",
       "      <td>def post_fork(self, payload_handler, io_loop):...</td>\n",
       "      <td>forking need create local socket listen router...</td>\n",
       "      <td>def post_fork self payload_handler io_loop for...</td>\n",
       "    </tr>\n",
       "  </tbody>\n",
       "</table>\n",
       "</div>"
      ],
      "text/plain": [
       "                                           docstring  \\\n",
       "0    Multiprocessing target for the zmq queue device   \n",
       "1                 Cleanly shutdown the router socket   \n",
       "2  Pre-fork we need to create the zmq router devi...   \n",
       "3  Starts ZMQ monitor for debugging purposes.\\n  ...   \n",
       "4  After forking we need to create all of the loc...   \n",
       "\n",
       "                                                code  \\\n",
       "0  def zmq_device(self):\\n        '''\\n        Mu...   \n",
       "1  def close(self):\\n        '''\\n        Cleanly...   \n",
       "2  def pre_fork(self, process_manager):\\n        ...   \n",
       "3  def _start_zmq_monitor(self):\\n        '''\\n  ...   \n",
       "4  def post_fork(self, payload_handler, io_loop):...   \n",
       "\n",
       "                                 tokenized_docstring  \\\n",
       "0            multiprocessing target zmq queue device   \n",
       "1                     cleanly shutdown router socket   \n",
       "2  pre fork need create zmq router device param f...   \n",
       "3         start zmq monitor debugging purpose return   \n",
       "4  forking need create local socket listen router...   \n",
       "\n",
       "                                      tokenized_code  \n",
       "0  def zmq_device self multiprocessing target zmq...  \n",
       "1  def close self cleanly shutdown router socket ...  \n",
       "2  def pre_fork self process_manager pre fork nee...  \n",
       "3  def _start_zmq_monitor self start zmq monitor ...  \n",
       "4  def post_fork self payload_handler io_loop for...  "
      ]
     },
     "execution_count": 8,
     "metadata": {},
     "output_type": "execute_result"
    }
   ],
   "source": [
    "data.head()"
   ]
  },
  {
   "cell_type": "markdown",
   "id": "c32292f8",
   "metadata": {},
   "source": [
    "# Removing all rows whose language is not english with the function from data_cleaner.py file"
   ]
  },
  {
   "cell_type": "code",
   "execution_count": 9,
   "id": "702092af",
   "metadata": {},
   "outputs": [],
   "source": [
    "# Apply language detection to each text entry in the DataFrame with the help of function in data_cleaner.py\n",
    "data['language'] = data['tokenized_docstring'].apply(data_object.detect_language)\n",
    "\n",
    "# Filter out non-English entries and getting only those rows which has english as a language\n",
    "data = data[data['language'] == 'en'].reset_index(drop=True)\n",
    "\n",
    "# Drop the language column as it’s no longer needed\n",
    "data.drop(columns=['language'], inplace=True)"
   ]
  },
  {
   "cell_type": "markdown",
   "id": "d95f665c",
   "metadata": {},
   "source": [
    "# Removing  all rows whose tokenized docstring has length less than 4"
   ]
  },
  {
   "cell_type": "code",
   "execution_count": 10,
   "id": "35d9d45e",
   "metadata": {},
   "outputs": [],
   "source": [
    "data = data[data['tokenized_docstring'].apply(lambda x: len(x.split()) > 3)]"
   ]
  },
  {
   "cell_type": "code",
   "execution_count": 11,
   "id": "eef797d0",
   "metadata": {},
   "outputs": [
    {
     "data": {
      "text/plain": [
       "(113799, 4)"
      ]
     },
     "execution_count": 11,
     "metadata": {},
     "output_type": "execute_result"
    }
   ],
   "source": [
    "data.shape"
   ]
  },
  {
   "cell_type": "code",
   "execution_count": 12,
   "id": "a1acb543",
   "metadata": {},
   "outputs": [
    {
     "data": {
      "text/html": [
       "<div>\n",
       "<style scoped>\n",
       "    .dataframe tbody tr th:only-of-type {\n",
       "        vertical-align: middle;\n",
       "    }\n",
       "\n",
       "    .dataframe tbody tr th {\n",
       "        vertical-align: top;\n",
       "    }\n",
       "\n",
       "    .dataframe thead th {\n",
       "        text-align: right;\n",
       "    }\n",
       "</style>\n",
       "<table border=\"1\" class=\"dataframe\">\n",
       "  <thead>\n",
       "    <tr style=\"text-align: right;\">\n",
       "      <th></th>\n",
       "      <th>docstring</th>\n",
       "      <th>code</th>\n",
       "      <th>tokenized_docstring</th>\n",
       "      <th>tokenized_code</th>\n",
       "    </tr>\n",
       "  </thead>\n",
       "  <tbody>\n",
       "    <tr>\n",
       "      <th>0</th>\n",
       "      <td>Cleanly shutdown the router socket</td>\n",
       "      <td>def close(self):\\n        '''\\n        Cleanly...</td>\n",
       "      <td>cleanly shutdown router socket</td>\n",
       "      <td>def close self cleanly shutdown router socket ...</td>\n",
       "    </tr>\n",
       "    <tr>\n",
       "      <th>1</th>\n",
       "      <td>Pre-fork we need to create the zmq router devi...</td>\n",
       "      <td>def pre_fork(self, process_manager):\\n        ...</td>\n",
       "      <td>pre fork need create zmq router device param f...</td>\n",
       "      <td>def pre_fork self process_manager pre fork nee...</td>\n",
       "    </tr>\n",
       "    <tr>\n",
       "      <th>2</th>\n",
       "      <td>After forking we need to create all of the loc...</td>\n",
       "      <td>def post_fork(self, payload_handler, io_loop):...</td>\n",
       "      <td>forking need create local socket listen router...</td>\n",
       "      <td>def post_fork self payload_handler io_loop for...</td>\n",
       "    </tr>\n",
       "    <tr>\n",
       "      <th>3</th>\n",
       "      <td>Handle incoming messages from underlying TCP s...</td>\n",
       "      <td>def handle_message(self, stream, payload):\\n  ...</td>\n",
       "      <td>handle incoming message underlying tcp stream ...</td>\n",
       "      <td>def handle_message self stream payload handle ...</td>\n",
       "    </tr>\n",
       "    <tr>\n",
       "      <th>4</th>\n",
       "      <td>Bind to the interface specified in the configu...</td>\n",
       "      <td>def _publish_daemon(self, log_queue=None):\\n  ...</td>\n",
       "      <td>bind interface specified configuration file</td>\n",
       "      <td>def _publish_daemon self log_queue none bind i...</td>\n",
       "    </tr>\n",
       "  </tbody>\n",
       "</table>\n",
       "</div>"
      ],
      "text/plain": [
       "                                           docstring  \\\n",
       "0                 Cleanly shutdown the router socket   \n",
       "1  Pre-fork we need to create the zmq router devi...   \n",
       "2  After forking we need to create all of the loc...   \n",
       "3  Handle incoming messages from underlying TCP s...   \n",
       "4  Bind to the interface specified in the configu...   \n",
       "\n",
       "                                                code  \\\n",
       "0  def close(self):\\n        '''\\n        Cleanly...   \n",
       "1  def pre_fork(self, process_manager):\\n        ...   \n",
       "2  def post_fork(self, payload_handler, io_loop):...   \n",
       "3  def handle_message(self, stream, payload):\\n  ...   \n",
       "4  def _publish_daemon(self, log_queue=None):\\n  ...   \n",
       "\n",
       "                                 tokenized_docstring  \\\n",
       "0                     cleanly shutdown router socket   \n",
       "1  pre fork need create zmq router device param f...   \n",
       "2  forking need create local socket listen router...   \n",
       "3  handle incoming message underlying tcp stream ...   \n",
       "4        bind interface specified configuration file   \n",
       "\n",
       "                                      tokenized_code  \n",
       "0  def close self cleanly shutdown router socket ...  \n",
       "1  def pre_fork self process_manager pre fork nee...  \n",
       "2  def post_fork self payload_handler io_loop for...  \n",
       "3  def handle_message self stream payload handle ...  \n",
       "4  def _publish_daemon self log_queue none bind i...  "
      ]
     },
     "execution_count": 12,
     "metadata": {},
     "output_type": "execute_result"
    }
   ],
   "source": [
    "data.head()"
   ]
  },
  {
   "cell_type": "markdown",
   "id": "f2ccbb9d",
   "metadata": {},
   "source": [
    "# Saving the  processed data in the Data folder with function of data_loading class "
   ]
  },
  {
   "cell_type": "code",
   "execution_count": 8,
   "id": "e587889a",
   "metadata": {},
   "outputs": [],
   "source": [
    "processed_data_path=load_object.get_file_path(\"processed_data.csv\",\"Data\")\n",
    "\n",
    "# saving the file\n",
    "data.to_csv(processed_data_path, index=False)"
   ]
  },
  {
   "cell_type": "code",
   "execution_count": null,
   "id": "0e74a620",
   "metadata": {},
   "outputs": [],
   "source": []
  }
 ],
 "metadata": {
  "kernelspec": {
   "display_name": "Python 3 (ipykernel)",
   "language": "python",
   "name": "python3"
  },
  "language_info": {
   "codemirror_mode": {
    "name": "ipython",
    "version": 3
   },
   "file_extension": ".py",
   "mimetype": "text/x-python",
   "name": "python",
   "nbconvert_exporter": "python",
   "pygments_lexer": "ipython3",
   "version": "3.11.5"
  }
 },
 "nbformat": 4,
 "nbformat_minor": 5
}
