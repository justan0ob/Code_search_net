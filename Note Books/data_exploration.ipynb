{
 "cells": [
  {
   "cell_type": "markdown",
   "id": "fa44d318",
   "metadata": {},
   "source": [
    "# Importing all important Libraries"
   ]
  },
  {
   "cell_type": "code",
   "execution_count": 20,
   "id": "26722373",
   "metadata": {},
   "outputs": [],
   "source": [
    "import pandas as pd\n",
    "import numpy as np\n",
    "import os\n",
    "import json\n",
    "import sys\n"
   ]
  },
  {
   "cell_type": "markdown",
   "id": "99c986e8",
   "metadata": {},
   "source": [
    "# Importing loading_data class from data_loader.py in the src folder"
   ]
  },
  {
   "cell_type": "code",
   "execution_count": 21,
   "id": "359accca",
   "metadata": {},
   "outputs": [],
   "source": [
    "# Retrieving the current working directory \n",
    "current_directory = os.getcwd()\n",
    "\n",
    "# getting the parent directory of the current working directory\n",
    "parent_directory = os.path.dirname(current_directory)\n",
    "\n",
    "# Constructing a path to the \"Data\" directory located inside a directory named \"src\"\n",
    "src_data_directory = os.path.join(parent_directory, \"src\", \"Data\")\n",
    "\n",
    "# allowing Python to search for modules in this directory.\n",
    "sys.path.append(src_data_directory)\n",
    "\n",
    "#Importing the data_preprocessor class from the data_cleaner module located in the src -> Data.\n",
    "from data_loader import loading_data"
   ]
  },
  {
   "cell_type": "markdown",
   "id": "d86788d2",
   "metadata": {},
   "source": [
    "# Creating an object of loading_data class"
   ]
  },
  {
   "cell_type": "code",
   "execution_count": 19,
   "id": "c4dff31d",
   "metadata": {},
   "outputs": [
    {
     "data": {
      "text/plain": [
       "<data_loader.loading_data at 0x120c49fd0>"
      ]
     },
     "execution_count": 19,
     "metadata": {},
     "output_type": "execute_result"
    }
   ],
   "source": [
    "load_object=loading_data()\n",
    "\n",
    "#checking object is created and getting the address of it\n",
    "load_object"
   ]
  },
  {
   "cell_type": "markdown",
   "id": "dc79ceaf",
   "metadata": {},
   "source": [
    "# Getting the path of raw_data by using function of loading_data class"
   ]
  },
  {
   "cell_type": "code",
   "execution_count": 4,
   "id": "d808a6f7",
   "metadata": {},
   "outputs": [],
   "source": [
    "raw_data_directory=load_object.get_directory(\"Data\",\"raw_data\")"
   ]
  },
  {
   "cell_type": "markdown",
   "id": "22ddc340",
   "metadata": {},
   "source": [
    "# Merging all the required file in one file "
   ]
  },
  {
   "cell_type": "code",
   "execution_count": 11,
   "id": "cb727ccf",
   "metadata": {},
   "outputs": [
    {
     "data": {
      "text/html": [
       "<div>\n",
       "<style scoped>\n",
       "    .dataframe tbody tr th:only-of-type {\n",
       "        vertical-align: middle;\n",
       "    }\n",
       "\n",
       "    .dataframe tbody tr th {\n",
       "        vertical-align: top;\n",
       "    }\n",
       "\n",
       "    .dataframe thead th {\n",
       "        text-align: right;\n",
       "    }\n",
       "</style>\n",
       "<table border=\"1\" class=\"dataframe\">\n",
       "  <thead>\n",
       "    <tr style=\"text-align: right;\">\n",
       "      <th></th>\n",
       "      <th>repo</th>\n",
       "      <th>path</th>\n",
       "      <th>func_name</th>\n",
       "      <th>original_string</th>\n",
       "      <th>language</th>\n",
       "      <th>code</th>\n",
       "      <th>code_tokens</th>\n",
       "      <th>docstring</th>\n",
       "      <th>docstring_tokens</th>\n",
       "      <th>sha</th>\n",
       "      <th>url</th>\n",
       "      <th>partition</th>\n",
       "    </tr>\n",
       "  </thead>\n",
       "  <tbody>\n",
       "    <tr>\n",
       "      <th>0</th>\n",
       "      <td>saltstack/salt</td>\n",
       "      <td>salt/transport/zeromq.py</td>\n",
       "      <td>ZeroMQReqServerChannel.zmq_device</td>\n",
       "      <td>def zmq_device(self):\\n        '''\\n        Mu...</td>\n",
       "      <td>python</td>\n",
       "      <td>def zmq_device(self):\\n        '''\\n        Mu...</td>\n",
       "      <td>[def, zmq_device, (, self, ), :, self, ., __se...</td>\n",
       "      <td>Multiprocessing target for the zmq queue device</td>\n",
       "      <td>[Multiprocessing, target, for, the, zmq, queue...</td>\n",
       "      <td>e8541fd6e744ab0df786c0f76102e41631f45d46</td>\n",
       "      <td>https://github.com/saltstack/salt/blob/e8541fd...</td>\n",
       "      <td>train</td>\n",
       "    </tr>\n",
       "    <tr>\n",
       "      <th>1</th>\n",
       "      <td>saltstack/salt</td>\n",
       "      <td>salt/transport/zeromq.py</td>\n",
       "      <td>ZeroMQReqServerChannel.close</td>\n",
       "      <td>def close(self):\\n        '''\\n        Cleanly...</td>\n",
       "      <td>python</td>\n",
       "      <td>def close(self):\\n        '''\\n        Cleanly...</td>\n",
       "      <td>[def, close, (, self, ), :, if, self, ., _clos...</td>\n",
       "      <td>Cleanly shutdown the router socket</td>\n",
       "      <td>[Cleanly, shutdown, the, router, socket]</td>\n",
       "      <td>e8541fd6e744ab0df786c0f76102e41631f45d46</td>\n",
       "      <td>https://github.com/saltstack/salt/blob/e8541fd...</td>\n",
       "      <td>train</td>\n",
       "    </tr>\n",
       "    <tr>\n",
       "      <th>2</th>\n",
       "      <td>saltstack/salt</td>\n",
       "      <td>salt/transport/zeromq.py</td>\n",
       "      <td>ZeroMQReqServerChannel.pre_fork</td>\n",
       "      <td>def pre_fork(self, process_manager):\\n        ...</td>\n",
       "      <td>python</td>\n",
       "      <td>def pre_fork(self, process_manager):\\n        ...</td>\n",
       "      <td>[def, pre_fork, (, self, ,, process_manager, )...</td>\n",
       "      <td>Pre-fork we need to create the zmq router devi...</td>\n",
       "      <td>[Pre, -, fork, we, need, to, create, the, zmq,...</td>\n",
       "      <td>e8541fd6e744ab0df786c0f76102e41631f45d46</td>\n",
       "      <td>https://github.com/saltstack/salt/blob/e8541fd...</td>\n",
       "      <td>train</td>\n",
       "    </tr>\n",
       "    <tr>\n",
       "      <th>3</th>\n",
       "      <td>saltstack/salt</td>\n",
       "      <td>salt/transport/zeromq.py</td>\n",
       "      <td>ZeroMQReqServerChannel._start_zmq_monitor</td>\n",
       "      <td>def _start_zmq_monitor(self):\\n        '''\\n  ...</td>\n",
       "      <td>python</td>\n",
       "      <td>def _start_zmq_monitor(self):\\n        '''\\n  ...</td>\n",
       "      <td>[def, _start_zmq_monitor, (, self, ), :, # Soc...</td>\n",
       "      <td>Starts ZMQ monitor for debugging purposes.\\n  ...</td>\n",
       "      <td>[Starts, ZMQ, monitor, for, debugging, purpose...</td>\n",
       "      <td>e8541fd6e744ab0df786c0f76102e41631f45d46</td>\n",
       "      <td>https://github.com/saltstack/salt/blob/e8541fd...</td>\n",
       "      <td>train</td>\n",
       "    </tr>\n",
       "    <tr>\n",
       "      <th>4</th>\n",
       "      <td>saltstack/salt</td>\n",
       "      <td>salt/transport/zeromq.py</td>\n",
       "      <td>ZeroMQReqServerChannel.post_fork</td>\n",
       "      <td>def post_fork(self, payload_handler, io_loop):...</td>\n",
       "      <td>python</td>\n",
       "      <td>def post_fork(self, payload_handler, io_loop):...</td>\n",
       "      <td>[def, post_fork, (, self, ,, payload_handler, ...</td>\n",
       "      <td>After forking we need to create all of the loc...</td>\n",
       "      <td>[After, forking, we, need, to, create, all, of...</td>\n",
       "      <td>e8541fd6e744ab0df786c0f76102e41631f45d46</td>\n",
       "      <td>https://github.com/saltstack/salt/blob/e8541fd...</td>\n",
       "      <td>train</td>\n",
       "    </tr>\n",
       "  </tbody>\n",
       "</table>\n",
       "</div>"
      ],
      "text/plain": [
       "             repo                      path  \\\n",
       "0  saltstack/salt  salt/transport/zeromq.py   \n",
       "1  saltstack/salt  salt/transport/zeromq.py   \n",
       "2  saltstack/salt  salt/transport/zeromq.py   \n",
       "3  saltstack/salt  salt/transport/zeromq.py   \n",
       "4  saltstack/salt  salt/transport/zeromq.py   \n",
       "\n",
       "                                   func_name  \\\n",
       "0          ZeroMQReqServerChannel.zmq_device   \n",
       "1               ZeroMQReqServerChannel.close   \n",
       "2            ZeroMQReqServerChannel.pre_fork   \n",
       "3  ZeroMQReqServerChannel._start_zmq_monitor   \n",
       "4           ZeroMQReqServerChannel.post_fork   \n",
       "\n",
       "                                     original_string language  \\\n",
       "0  def zmq_device(self):\\n        '''\\n        Mu...   python   \n",
       "1  def close(self):\\n        '''\\n        Cleanly...   python   \n",
       "2  def pre_fork(self, process_manager):\\n        ...   python   \n",
       "3  def _start_zmq_monitor(self):\\n        '''\\n  ...   python   \n",
       "4  def post_fork(self, payload_handler, io_loop):...   python   \n",
       "\n",
       "                                                code  \\\n",
       "0  def zmq_device(self):\\n        '''\\n        Mu...   \n",
       "1  def close(self):\\n        '''\\n        Cleanly...   \n",
       "2  def pre_fork(self, process_manager):\\n        ...   \n",
       "3  def _start_zmq_monitor(self):\\n        '''\\n  ...   \n",
       "4  def post_fork(self, payload_handler, io_loop):...   \n",
       "\n",
       "                                         code_tokens  \\\n",
       "0  [def, zmq_device, (, self, ), :, self, ., __se...   \n",
       "1  [def, close, (, self, ), :, if, self, ., _clos...   \n",
       "2  [def, pre_fork, (, self, ,, process_manager, )...   \n",
       "3  [def, _start_zmq_monitor, (, self, ), :, # Soc...   \n",
       "4  [def, post_fork, (, self, ,, payload_handler, ...   \n",
       "\n",
       "                                           docstring  \\\n",
       "0    Multiprocessing target for the zmq queue device   \n",
       "1                 Cleanly shutdown the router socket   \n",
       "2  Pre-fork we need to create the zmq router devi...   \n",
       "3  Starts ZMQ monitor for debugging purposes.\\n  ...   \n",
       "4  After forking we need to create all of the loc...   \n",
       "\n",
       "                                    docstring_tokens  \\\n",
       "0  [Multiprocessing, target, for, the, zmq, queue...   \n",
       "1           [Cleanly, shutdown, the, router, socket]   \n",
       "2  [Pre, -, fork, we, need, to, create, the, zmq,...   \n",
       "3  [Starts, ZMQ, monitor, for, debugging, purpose...   \n",
       "4  [After, forking, we, need, to, create, all, of...   \n",
       "\n",
       "                                        sha  \\\n",
       "0  e8541fd6e744ab0df786c0f76102e41631f45d46   \n",
       "1  e8541fd6e744ab0df786c0f76102e41631f45d46   \n",
       "2  e8541fd6e744ab0df786c0f76102e41631f45d46   \n",
       "3  e8541fd6e744ab0df786c0f76102e41631f45d46   \n",
       "4  e8541fd6e744ab0df786c0f76102e41631f45d46   \n",
       "\n",
       "                                                 url partition  \n",
       "0  https://github.com/saltstack/salt/blob/e8541fd...     train  \n",
       "1  https://github.com/saltstack/salt/blob/e8541fd...     train  \n",
       "2  https://github.com/saltstack/salt/blob/e8541fd...     train  \n",
       "3  https://github.com/saltstack/salt/blob/e8541fd...     train  \n",
       "4  https://github.com/saltstack/salt/blob/e8541fd...     train  "
      ]
     },
     "execution_count": 11,
     "metadata": {},
     "output_type": "execute_result"
    }
   ],
   "source": [
    "# raw_data_directory is a folder with 5 training file present in it\n",
    "folder = raw_data_directory\n",
    "\n",
    "# os is the Python module for interacting with the operating system and making list of all the jsonl file .\n",
    "all_files = [file for file in os.listdir(folder) if file.endswith('.jsonl')]\n",
    "\n",
    "# Creating an empty DataFrame to store the merged data\n",
    "data= pd.DataFrame()\n",
    "\n",
    "# Loop through the all_files and read each file into a DataFrame, and concatenate it into the data dataframe.\n",
    "for file in all_files:\n",
    "    file_path = os.path.join(folder, file)\n",
    "    df = pd.read_json(file_path, lines=True)\n",
    "    data = pd.concat([data, df], ignore_index=True)\n",
    "\n",
    "data.head()"
   ]
  },
  {
   "cell_type": "markdown",
   "id": "32e971ca",
   "metadata": {},
   "source": [
    "## Shape of data\n"
   ]
  },
  {
   "cell_type": "code",
   "execution_count": 12,
   "id": "ce3e1e49",
   "metadata": {},
   "outputs": [
    {
     "data": {
      "text/plain": [
       "(150000, 12)"
      ]
     },
     "execution_count": 12,
     "metadata": {},
     "output_type": "execute_result"
    }
   ],
   "source": [
    "data.shape"
   ]
  },
  {
   "cell_type": "markdown",
   "id": "2d6d0eb0",
   "metadata": {},
   "source": [
    "## Sample from data"
   ]
  },
  {
   "cell_type": "code",
   "execution_count": 20,
   "id": "2f9b109e",
   "metadata": {},
   "outputs": [
    {
     "data": {
      "text/html": [
       "<div>\n",
       "<style scoped>\n",
       "    .dataframe tbody tr th:only-of-type {\n",
       "        vertical-align: middle;\n",
       "    }\n",
       "\n",
       "    .dataframe tbody tr th {\n",
       "        vertical-align: top;\n",
       "    }\n",
       "\n",
       "    .dataframe thead th {\n",
       "        text-align: right;\n",
       "    }\n",
       "</style>\n",
       "<table border=\"1\" class=\"dataframe\">\n",
       "  <thead>\n",
       "    <tr style=\"text-align: right;\">\n",
       "      <th></th>\n",
       "      <th>docstring</th>\n",
       "      <th>code</th>\n",
       "    </tr>\n",
       "  </thead>\n",
       "  <tbody>\n",
       "    <tr>\n",
       "      <th>24404</th>\n",
       "      <td>Shorten the line taking its length into accoun...</td>\n",
       "      <td>def _shorten_line_at_tokens_new(tokens, source...</td>\n",
       "    </tr>\n",
       "    <tr>\n",
       "      <th>114816</th>\n",
       "      <td>Response from a TERRAIN_CHECK request\\n\\n     ...</td>\n",
       "      <td>def terrain_report_encode(self, lat, lon, spac...</td>\n",
       "    </tr>\n",
       "    <tr>\n",
       "      <th>81310</th>\n",
       "      <td>query the names and values of nanomsg symbols</td>\n",
       "      <td>def nn_symbols():\\n    \"query the names and va...</td>\n",
       "    </tr>\n",
       "    <tr>\n",
       "      <th>7991</th>\n",
       "      <td>Returns an optional configuration value, as an...</td>\n",
       "      <td>def get_int(self, key: str) -&gt; Optional[int]:\\...</td>\n",
       "    </tr>\n",
       "    <tr>\n",
       "      <th>64640</th>\n",
       "      <td>Touch every point on an object 'numInitialTrav...</td>\n",
       "      <td>def doExperiment(numColumns, l2Overrides, obje...</td>\n",
       "    </tr>\n",
       "    <tr>\n",
       "      <th>53573</th>\n",
       "      <td>为task新建一个后台下载线程, 并开始下载.</td>\n",
       "      <td>def start_worker(self, row):\\n        '''为task...</td>\n",
       "    </tr>\n",
       "    <tr>\n",
       "      <th>121907</th>\n",
       "      <td>Test whether a key is a label reference for a ...</td>\n",
       "      <td>def _is_label_reference(self, key, axis=0):\\n ...</td>\n",
       "    </tr>\n",
       "    <tr>\n",
       "      <th>7031</th>\n",
       "      <td>move source to destination. Can handle uploadi...</td>\n",
       "      <td>def move_to_destination(source, destination, j...</td>\n",
       "    </tr>\n",
       "    <tr>\n",
       "      <th>135217</th>\n",
       "      <td>Construct the inputs to the attack graph to be...</td>\n",
       "      <td>def construct_variables(self, kwargs):\\n    \"\"...</td>\n",
       "    </tr>\n",
       "    <tr>\n",
       "      <th>142874</th>\n",
       "      <td>A convenience URL for getting lists of minions...</td>\n",
       "      <td>def get(self, mid=None):  # pylint: disable=W0...</td>\n",
       "    </tr>\n",
       "  </tbody>\n",
       "</table>\n",
       "</div>"
      ],
      "text/plain": [
       "                                                docstring  \\\n",
       "24404   Shorten the line taking its length into accoun...   \n",
       "114816  Response from a TERRAIN_CHECK request\\n\\n     ...   \n",
       "81310       query the names and values of nanomsg symbols   \n",
       "7991    Returns an optional configuration value, as an...   \n",
       "64640   Touch every point on an object 'numInitialTrav...   \n",
       "53573                             为task新建一个后台下载线程, 并开始下载.   \n",
       "121907  Test whether a key is a label reference for a ...   \n",
       "7031    move source to destination. Can handle uploadi...   \n",
       "135217  Construct the inputs to the attack graph to be...   \n",
       "142874  A convenience URL for getting lists of minions...   \n",
       "\n",
       "                                                     code  \n",
       "24404   def _shorten_line_at_tokens_new(tokens, source...  \n",
       "114816  def terrain_report_encode(self, lat, lon, spac...  \n",
       "81310   def nn_symbols():\\n    \"query the names and va...  \n",
       "7991    def get_int(self, key: str) -> Optional[int]:\\...  \n",
       "64640   def doExperiment(numColumns, l2Overrides, obje...  \n",
       "53573   def start_worker(self, row):\\n        '''为task...  \n",
       "121907  def _is_label_reference(self, key, axis=0):\\n ...  \n",
       "7031    def move_to_destination(source, destination, j...  \n",
       "135217  def construct_variables(self, kwargs):\\n    \"\"...  \n",
       "142874  def get(self, mid=None):  # pylint: disable=W0...  "
      ]
     },
     "execution_count": 20,
     "metadata": {},
     "output_type": "execute_result"
    }
   ],
   "source": [
    "data.sample(10)"
   ]
  },
  {
   "cell_type": "markdown",
   "id": "3c8f5259",
   "metadata": {},
   "source": [
    "## checking if any null is present "
   ]
  },
  {
   "cell_type": "code",
   "execution_count": 6,
   "id": "3a618b86",
   "metadata": {},
   "outputs": [
    {
     "data": {
      "text/plain": [
       "repo                0\n",
       "path                0\n",
       "func_name           0\n",
       "original_string     0\n",
       "language            0\n",
       "code                0\n",
       "code_tokens         0\n",
       "docstring           0\n",
       "docstring_tokens    0\n",
       "sha                 0\n",
       "url                 0\n",
       "partition           0\n",
       "dtype: int64"
      ]
     },
     "execution_count": 6,
     "metadata": {},
     "output_type": "execute_result"
    }
   ],
   "source": [
    "data.isnull().sum()\n",
    "\n",
    "# No null value is presesent in any column"
   ]
  },
  {
   "cell_type": "markdown",
   "id": "089f35d4",
   "metadata": {},
   "source": [
    "## Comparing orginal_string and code column if they are same or not"
   ]
  },
  {
   "cell_type": "code",
   "execution_count": 7,
   "id": "54a078cd",
   "metadata": {},
   "outputs": [
    {
     "data": {
      "text/plain": [
       "True"
      ]
     },
     "execution_count": 7,
     "metadata": {},
     "output_type": "execute_result"
    }
   ],
   "source": [
    "(data['original_string'] == data['code']).all()\n",
    "\n",
    "# original_string and code column are same"
   ]
  },
  {
   "cell_type": "markdown",
   "id": "01362e81",
   "metadata": {},
   "source": [
    "## Value counts present in Func_name column "
   ]
  },
  {
   "cell_type": "code",
   "execution_count": 8,
   "id": "6c306c4e",
   "metadata": {},
   "outputs": [
    {
     "data": {
      "text/plain": [
       "url\n",
       "https://github.com/saltstack/salt/blob/e8541fd6e744ab0df786c0f76102e41631f45d46/salt/transport/zeromq.py#L582-L622                           1\n",
       "https://github.com/RedHatInsights/insights-core/blob/b57cbf8ed7c089672426ede0441e0a4f789ef4a1/insights/client/__init__.py#L269-L316          1\n",
       "https://github.com/RedHatInsights/insights-core/blob/b57cbf8ed7c089672426ede0441e0a4f789ef4a1/insights/parsers/rhn_schema_stats.py#L6-L20    1\n",
       "https://github.com/RedHatInsights/insights-core/blob/b57cbf8ed7c089672426ede0441e0a4f789ef4a1/insights/core/archives.py#L96-L118             1\n",
       "https://github.com/RedHatInsights/insights-core/blob/b57cbf8ed7c089672426ede0441e0a4f789ef4a1/examples/rules/sample_script.py#L24-L30        1\n",
       "                                                                                                                                            ..\n",
       "https://github.com/bpsmith/tia/blob/a7043b6383e557aeea8fc7112bbffd6e36a230e9/tia/bbg/bbg_com.py#L259-L265                                    1\n",
       "https://github.com/bpsmith/tia/blob/a7043b6383e557aeea8fc7112bbffd6e36a230e9/tia/bbg/bbg_com.py#L320-L333                                    1\n",
       "https://github.com/bpsmith/tia/blob/a7043b6383e557aeea8fc7112bbffd6e36a230e9/tia/bbg/bbg_com.py#L336-L342                                    1\n",
       "https://github.com/bpsmith/tia/blob/a7043b6383e557aeea8fc7112bbffd6e36a230e9/tia/bbg/bbg_com.py#L406-L417                                    1\n",
       "https://github.com/saltstack/salt/blob/e8541fd6e744ab0df786c0f76102e41631f45d46/salt/transport/zeromq.py#L558-L572                           1\n",
       "Name: count, Length: 150000, dtype: int64"
      ]
     },
     "execution_count": 8,
     "metadata": {},
     "output_type": "execute_result"
    }
   ],
   "source": [
    "data['url'].value_counts()\n",
    "\n",
    "# all values are unique in url column"
   ]
  },
  {
   "cell_type": "markdown",
   "id": "300b16fe",
   "metadata": {},
   "source": [
    "## Value counts present in partition column\n"
   ]
  },
  {
   "cell_type": "code",
   "execution_count": 9,
   "id": "7b8cecc5",
   "metadata": {},
   "outputs": [
    {
     "data": {
      "text/plain": [
       "partition\n",
       "train    150000\n",
       "Name: count, dtype: int64"
      ]
     },
     "execution_count": 9,
     "metadata": {},
     "output_type": "execute_result"
    }
   ],
   "source": [
    "data['partition'].value_counts()\n",
    "\n",
    "# all value in partition column is same"
   ]
  },
  {
   "cell_type": "markdown",
   "id": "805e89d7",
   "metadata": {},
   "source": [
    "## Value counts present in Func_name column"
   ]
  },
  {
   "cell_type": "code",
   "execution_count": 10,
   "id": "1130d2b7",
   "metadata": {},
   "outputs": [
    {
     "data": {
      "text/plain": [
       "func_name\n",
       "main                             357\n",
       "create                           190\n",
       "run                              143\n",
       "present                          125\n",
       "absent                            97\n",
       "                                ... \n",
       "Port.enable_reporting              1\n",
       "Board._handle_digital_message      1\n",
       "Board.exit                         1\n",
       "Board.servo_config                 1\n",
       "AsyncZeroMQPubChannel.on_recv      1\n",
       "Name: count, Length: 137184, dtype: int64"
      ]
     },
     "execution_count": 10,
     "metadata": {},
     "output_type": "execute_result"
    }
   ],
   "source": [
    "data['func_name'].value_counts()"
   ]
  },
  {
   "cell_type": "markdown",
   "id": "b2d1ba73",
   "metadata": {},
   "source": [
    "## Making the dataset with the useful Columns only"
   ]
  },
  {
   "cell_type": "code",
   "execution_count": 16,
   "id": "e7449288",
   "metadata": {},
   "outputs": [],
   "source": [
    "# useful columns for our use case is only docstring and code\n",
    "data=data[['docstring','code']]\n"
   ]
  },
  {
   "cell_type": "markdown",
   "id": "d73e43e1",
   "metadata": {},
   "source": [
    "# using function of loading_data class to get file path"
   ]
  },
  {
   "cell_type": "code",
   "execution_count": 17,
   "id": "6338684e",
   "metadata": {},
   "outputs": [],
   "source": [
    "interim_data_path=load_object.get_file_path(\"interim_data.csv\",\"Data\")\n"
   ]
  },
  {
   "cell_type": "markdown",
   "id": "a98e10f1",
   "metadata": {},
   "source": [
    "# Saving the file on the path recieved"
   ]
  },
  {
   "cell_type": "code",
   "execution_count": 18,
   "id": "f76d4a06",
   "metadata": {},
   "outputs": [],
   "source": [
    "data.to_csv(interim_data_path, index=False)"
   ]
  },
  {
   "cell_type": "code",
   "execution_count": null,
   "id": "737d6f9d",
   "metadata": {},
   "outputs": [],
   "source": []
  }
 ],
 "metadata": {
  "kernelspec": {
   "display_name": "Python 3 (ipykernel)",
   "language": "python",
   "name": "python3"
  },
  "language_info": {
   "codemirror_mode": {
    "name": "ipython",
    "version": 3
   },
   "file_extension": ".py",
   "mimetype": "text/x-python",
   "name": "python",
   "nbconvert_exporter": "python",
   "pygments_lexer": "ipython3",
   "version": "3.11.5"
  }
 },
 "nbformat": 4,
 "nbformat_minor": 5
}
